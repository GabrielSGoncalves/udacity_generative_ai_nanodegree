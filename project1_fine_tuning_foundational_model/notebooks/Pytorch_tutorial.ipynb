{
 "cells": [
  {
   "cell_type": "code",
   "execution_count": 1,
   "id": "7e130e4f-fce5-4a50-bf4f-4a4f1917906f",
   "metadata": {},
   "outputs": [],
   "source": [
    "import torch\n",
    "\n",
    "# Create a 3-dimensional tensor\n",
    "images = torch.rand((4, 28, 28))\n",
    "\n",
    "# Get the second image\n",
    "second_image = images[1]"
   ]
  },
  {
   "cell_type": "code",
   "execution_count": 3,
   "id": "44ce18ad-4bcd-4638-b915-dae58068aba8",
   "metadata": {},
   "outputs": [
    {
     "data": {
      "image/png": "[encoded data removed]",
      "text/plain": [
       "<Figure size 640x480 with 1 Axes>"
      ]
     },
     "metadata": {},
     "output_type": "display_data"
    }
   ],
   "source": [
    "import matplotlib.pyplot as plt\n",
    "\n",
    "plt.imshow(second_image, cmap='gray')\n",
    "plt.axis('off') # disable axes\n",
    "plt.show()"
   ]
  },
  {
   "cell_type": "code",
   "execution_count": 4,
   "id": "334964a2-0b36-4d83-98de-c80f23374b0f",
   "metadata": {},
   "outputs": [
    {
     "name": "stdout",
     "output_type": "stream",
     "text": [
      "tensor([[1, 1],\n",
      "        [1, 0]])\n",
      "tensor([[2, 1],\n",
      "        [1, 1]])\n",
      "tensor([[3, 2],\n",
      "        [2, 1]])\n",
      "tensor([[5, 3],\n",
      "        [3, 2]])\n"
     ]
    }
   ],
   "source": [
    "a = torch.tensor([[1, 1], [1, 0]])\n",
    "\n",
    "print(a)\n",
    "# tensor([[1, 1],\n",
    "#         [1, 0]])\n",
    "\n",
    "print(torch.matrix_power(a, 2))\n",
    "# tensor([[2, 1],\n",
    "#         [1, 1]])\n",
    "\n",
    "print(torch.matrix_power(a, 3))\n",
    "# tensor([[3, 2],\n",
    "#         [2, 1]])\n",
    "\n",
    "print(torch.matrix_power(a, 4))\n",
    "# tensor([[5, 3],\n",
    "#         [3, 2]])"
   ]
  },
  {
   "cell_type": "code",
   "execution_count": null,
   "id": "23f62a39-61dc-4ea2-8793-0e36ca3b2aab",
   "metadata": {},
   "outputs": [],
   "source": []
  }
 ],
 "metadata": {
  "kernelspec": {
   "display_name": "Python 3 (ipykernel)",
   "language": "python",
   "name": "python3"
  },
  "language_info": {
   "codemirror_mode": {
    "name": "ipython",
    "version": 3
   },
   "file_extension": ".py",
   "mimetype": "text/x-python",
   "name": "python",
   "nbconvert_exporter": "python",
   "pygments_lexer": "ipython3",
   "version": "3.12.8"
  }
 },
 "nbformat": 4,
 "nbformat_minor": 5
}
