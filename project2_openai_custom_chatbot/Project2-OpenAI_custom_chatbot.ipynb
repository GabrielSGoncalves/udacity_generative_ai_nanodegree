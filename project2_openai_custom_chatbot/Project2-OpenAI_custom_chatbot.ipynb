{
 "cells": [
  {
   "cell_type": "markdown",
   "id": "25353740-b538-43d3-8156-3bd2fce1ab6f",
   "metadata": {},
   "source": [
    "# Accessing OpenAI through Vocareum API keys"
   ]
  },
  {
   "cell_type": "code",
   "execution_count": 1,
   "id": "0162c1d2-8c53-4b70-975e-76e55787ba1b",
   "metadata": {},
   "outputs": [],
   "source": [
    "import os\n",
    "from dotenv import load_dotenv\n",
    "import openai\n",
    "\n",
    "load_dotenv()\n",
    "\n",
    "openai.api_base = \"https://openai.vocareum.com/v1\"\n",
    "openai.api_key = os.getenv(\"OPENAI_API_KEY\")"
   ]
  },
  {
   "cell_type": "code",
   "execution_count": 2,
   "id": "76c68691-00be-4f69-af18-f4d2c7a21cf3",
   "metadata": {},
   "outputs": [
    {
     "data": {
      "text/plain": [
       "'voc-8957811371266772085699678d66e1475c97.62448043'"
      ]
     },
     "execution_count": 2,
     "metadata": {},
     "output_type": "execute_result"
    }
   ],
   "source": [
    "os.getenv(\"OPENAI_API_KEY\")"
   ]
  },
  {
   "cell_type": "code",
   "execution_count": 3,
   "id": "4c6a824a-6fc4-482e-8f47-39be02cedde8",
   "metadata": {},
   "outputs": [
    {
     "name": "stdout",
     "output_type": "stream",
     "text": [
      "Arrr, to be seein' if a Python object be an instance of a particular class, ye use the trusty `isinstance()` function. Here be how ye do it:\n",
      "\n",
      "```python\n",
      "if isinstance(your_object, YourClass):\n",
      "    print(\"Aye, the object be an instance of the class!\")\n",
      "else:\n",
      "    print(\"Nay, the object be not of that class!\")\n",
      "```\n",
      "\n",
      "Just replace `your_object` with the object ye be checkin', and `YourClass` with the name of the class ye be inspectin'. Arrr, that be the way to find the truth on the high seas of code!\n"
     ]
    }
   ],
   "source": [
    "from openai import OpenAI\n",
    "\n",
    "client = OpenAI(\n",
    "    api_key=\"voc-8957811371266772085699678d66e1475c97.62448043\",\n",
    "    base_url=\"https://openai.vocareum.com/v1\"\n",
    ")\n",
    "\n",
    "completion = client.chat.completions.create(\n",
    "    model=\"gpt-4o\",\n",
    "    messages=[\n",
    "        {\"role\": \"developer\", \"content\": \"Talk like a pirate.\"},\n",
    "        {\n",
    "            \"role\": \"user\",\n",
    "            \"content\": \"How do I check if a Python object is an instance of a class?\",\n",
    "        },\n",
    "    ],\n",
    ")\n",
    "\n",
    "print(completion.choices[0].message.content)"
   ]
  },
  {
   "cell_type": "code",
   "execution_count": 4,
   "id": "c90dcfe1-9242-418a-8e88-049761d89224",
   "metadata": {},
   "outputs": [],
   "source": [
    "from openai import OpenAI\n",
    "client = OpenAI(\n",
    "    base_url = openai.api_base,\n",
    "    api_key = openai.api_key\n",
    ")"
   ]
  },
  {
   "cell_type": "code",
   "execution_count": null,
   "id": "b0f0f838-0494-4f90-952b-0b2d79f03879",
   "metadata": {},
   "outputs": [],
   "source": []
  },
  {
   "cell_type": "code",
   "execution_count": 4,
   "id": "322dd2a4-62ee-45f1-98d0-3649483237c2",
   "metadata": {},
   "outputs": [],
   "source": [
    "def print_categorymembers(categorymembers, level=0, max_level=1):\n",
    "    for c in categorymembers.values():\n",
    "        print(\"%s: %s (ns: %d)\" % (\"*\" * (level + 1), c.title, c.ns))\n",
    "        if c.ns == wikipediaapi.Namespace.CATEGORY and level < max_level:\n",
    "            print_categorymembers(c.categorymembers, level=level + 1, max_level=max_level)\n"
   ]
  },
  {
   "cell_type": "markdown",
   "id": "6e865c6f-1a37-450c-9a80-2481434d4ed1",
   "metadata": {},
   "source": [
    "# Extracting data from Wikipedia"
   ]
  },
  {
   "cell_type": "markdown",
   "id": "543bb682-ad8d-4b5f-b6ef-d8059033f48f",
   "metadata": {},
   "source": [
    "## Getting a list of all pages from a Wikipedia category"
   ]
  },
  {
   "cell_type": "code",
   "execution_count": 13,
   "id": "4d21b85d-0f98-4f74-9424-104f885c3ba7",
   "metadata": {},
   "outputs": [],
   "source": [
    "import wikipediaapi\n",
    "import openai\n",
    "import pandas as pd\n",
    "import json\n",
    "import os"
   ]
  },
  {
   "cell_type": "code",
   "execution_count": 17,
   "id": "f57f0935-ca69-462e-a9ad-74a8211b1527",
   "metadata": {},
   "outputs": [],
   "source": [
    "def fetch_wikipedia_page(page_title):\n",
    "    page = wiki_wiki.page(page_title)\n",
    "    if page.exists():\n",
    "        return page.text\n",
    "    else:\n",
    "        return None"
   ]
  },
  {
   "cell_type": "code",
   "execution_count": 18,
   "id": "349833e3-59f3-426f-b9a6-6b2de75c3c00",
   "metadata": {},
   "outputs": [],
   "source": [
    "wiki_wiki = wikipediaapi.Wikipedia('CustomChatbot (gabrielgoncalvesbr@gmail.com)', 'en')"
   ]
  },
  {
   "cell_type": "code",
   "execution_count": 19,
   "id": "f2c0a98e-d20d-4ece-adac-f44e02ef3c43",
   "metadata": {},
   "outputs": [],
   "source": [
    "if os.path.exists(\"nba_playoffs_wikipedia.json\"):\n",
    "    # Read the JSON file and load it into the dictionary\n",
    "    with open(\"nba_playoffs_wikipedia.json\", \"r\", encoding=\"utf-8\") as json_file:\n",
    "        dict_nba_playoffs_pages = json.load(json_file)\n",
    "else:\n",
    "    dict_nba_playoffs_pages = {}\n",
    "    \n",
    "    cat = wiki_wiki.page(\"Category:NBA playoffs\")\n",
    "    for title in cat.categorymembers:\n",
    "        print(title)\n",
    "        page_result = fetch_wikipedia_page(title)\n",
    "        if page_result:\n",
    "            dict_nba_playoffs_pages[title] = page_result\n",
    "\n",
    "    with open(\"nba_playoffs_wikipedia.json\", \"w\", encoding=\"utf-8\") as json_file:\n",
    "        json.dump(dict_nba_playoffs_pages, json_file, ensure_ascii=False, indent=4)\n"
   ]
  },
  {
   "cell_type": "markdown",
   "id": "75504c8d-21c8-4eaf-bd5a-6c44610392d1",
   "metadata": {},
   "source": [
    "# Preparing the dataset"
   ]
  },
  {
   "cell_type": "code",
   "execution_count": 20,
   "id": "2b0fc93d-5fe7-49e4-9851-c413ef6e4b10",
   "metadata": {},
   "outputs": [
    {
     "data": {
      "text/html": [
       "<div>\n",
       "<style scoped>\n",
       "    .dataframe tbody tr th:only-of-type {\n",
       "        vertical-align: middle;\n",
       "    }\n",
       "\n",
       "    .dataframe tbody tr th {\n",
       "        vertical-align: top;\n",
       "    }\n",
       "\n",
       "    .dataframe thead th {\n",
       "        text-align: right;\n",
       "    }\n",
       "</style>\n",
       "<table border=\"1\" class=\"dataframe\">\n",
       "  <thead>\n",
       "    <tr style=\"text-align: right;\">\n",
       "      <th></th>\n",
       "      <th>title</th>\n",
       "      <th>text</th>\n",
       "    </tr>\n",
       "  </thead>\n",
       "  <tbody>\n",
       "    <tr>\n",
       "      <th>0</th>\n",
       "      <td>NBA playoffs</td>\n",
       "      <td>The NBA playoffs is the annual elimination tou...</td>\n",
       "    </tr>\n",
       "    <tr>\n",
       "      <th>1</th>\n",
       "      <td>1950 NBA playoffs</td>\n",
       "      <td>The 1950 NBA playoffs was the postseason tourn...</td>\n",
       "    </tr>\n",
       "    <tr>\n",
       "      <th>2</th>\n",
       "      <td>1951 NBA playoffs</td>\n",
       "      <td>The 1951 NBA playoffs was the postseason tourn...</td>\n",
       "    </tr>\n",
       "    <tr>\n",
       "      <th>3</th>\n",
       "      <td>1952 NBA playoffs</td>\n",
       "      <td>The 1952 NBA playoffs was the postseason tourn...</td>\n",
       "    </tr>\n",
       "    <tr>\n",
       "      <th>4</th>\n",
       "      <td>1953 NBA playoffs</td>\n",
       "      <td>The 1953 NBA playoffs was the postseason tourn...</td>\n",
       "    </tr>\n",
       "  </tbody>\n",
       "</table>\n",
       "</div>"
      ],
      "text/plain": [
       "               title                                               text\n",
       "0       NBA playoffs  The NBA playoffs is the annual elimination tou...\n",
       "1  1950 NBA playoffs  The 1950 NBA playoffs was the postseason tourn...\n",
       "2  1951 NBA playoffs  The 1951 NBA playoffs was the postseason tourn...\n",
       "3  1952 NBA playoffs  The 1952 NBA playoffs was the postseason tourn...\n",
       "4  1953 NBA playoffs  The 1953 NBA playoffs was the postseason tourn..."
      ]
     },
     "execution_count": 20,
     "metadata": {},
     "output_type": "execute_result"
    }
   ],
   "source": [
    "df_playoffs = pd.DataFrame.from_dict(\n",
    "    dict_nba_playoffs_pages, \n",
    "    orient='index', \n",
    "    columns=['text']#, 'text']\n",
    ").reset_index().rename(columns={'index': 'title'})\n",
    "df_playoffs.head()"
   ]
  },
  {
   "cell_type": "code",
   "execution_count": null,
   "id": "d8d3eead-959f-45f4-a4e6-24dac5bdc66a",
   "metadata": {},
   "outputs": [],
   "source": []
  },
  {
   "cell_type": "code",
   "execution_count": 21,
   "id": "a34ce390-f455-4f32-a975-883b79a07347",
   "metadata": {},
   "outputs": [
    {
     "data": {
      "text/html": [
       "<div>\n",
       "<style scoped>\n",
       "    .dataframe tbody tr th:only-of-type {\n",
       "        vertical-align: middle;\n",
       "    }\n",
       "\n",
       "    .dataframe tbody tr th {\n",
       "        vertical-align: top;\n",
       "    }\n",
       "\n",
       "    .dataframe thead th {\n",
       "        text-align: right;\n",
       "    }\n",
       "</style>\n",
       "<table border=\"1\" class=\"dataframe\">\n",
       "  <thead>\n",
       "    <tr style=\"text-align: right;\">\n",
       "      <th></th>\n",
       "      <th>title</th>\n",
       "      <th>text</th>\n",
       "    </tr>\n",
       "  </thead>\n",
       "  <tbody>\n",
       "    <tr>\n",
       "      <th>74</th>\n",
       "      <td>2023 NBA playoffs</td>\n",
       "      <td>The 2023 NBA playoffs was the postseason tourn...</td>\n",
       "    </tr>\n",
       "  </tbody>\n",
       "</table>\n",
       "</div>"
      ],
      "text/plain": [
       "                title                                               text\n",
       "74  2023 NBA playoffs  The 2023 NBA playoffs was the postseason tourn..."
      ]
     },
     "execution_count": 21,
     "metadata": {},
     "output_type": "execute_result"
    }
   ],
   "source": [
    "df_playoffs[df_playoffs['title'].str.contains(\"2023\")]"
   ]
  },
  {
   "cell_type": "markdown",
   "id": "6f461452-50cf-4ef8-8a37-c1cc9cc915bd",
   "metadata": {},
   "source": [
    "# Naive OpenAI NBA Playoffs Chatbot\n",
    "In this session, we are going to built a naive OpenAI chatbot, that captures the information about the year and a question about NBA playoffs and makes a request to OpenAI. "
   ]
  },
  {
   "cell_type": "code",
   "execution_count": 54,
   "id": "7b01018e-43ff-44b4-8200-77e26ac37f50",
   "metadata": {},
   "outputs": [],
   "source": [
    "from openai import OpenAI\n",
    "import os\n",
    "from dotenv import load_dotenv\n",
    "\n",
    "load_dotenv()\n",
    "\n",
    "client = OpenAI(\n",
    "    api_key=os.getenv(\"OPENAI_API_KEY\"),\n",
    "    base_url=\"https://openai.vocareum.com/v1\"\n",
    ")\n",
    "\n",
    "def chat_with_openai(messages):\n",
    "    \"\"\"\n",
    "    Sends a conversation to OpenAI and gets a response using the updated API.\n",
    "    \"\"\"\n",
    "    try:\n",
    "        response = client.chat.completions.create(\n",
    "            model=\"gpt-4\",\n",
    "            messages=messages,\n",
    "            \n",
    "        )\n",
    "        # Access the content of the response using dot notation\n",
    "        return response.choices[0].message.content\n",
    "    except Exception as e:\n",
    "        print(f\"An error occurred: {e}\")\n",
    "        return None\n",
    "\n",
    "def naive_OpenAI_chatbot():\n",
    "    \"\"\"\n",
    "    Starts the chatbot interaction.\n",
    "    \"\"\"\n",
    "    print(\"👋 Welcome to the NBA Playoffs Chatbot!\")\n",
    "    \n",
    "    # Initialize conversation history\n",
    "    conversation = [\n",
    "        {\"role\": \"system\", \"content\": \"You are a helpful assistant knowledgeable about NBA playoffs.\"}\n",
    "    ]\n",
    "    \n",
    "    # Ask the first question\n",
    "    year = input(\"Bot: Which NBA playoff year do you want to know about?\\nYou: \")\n",
    "    conversation.append({\"role\": \"user\", \"content\": f\"I want to know about the NBA playoffs in {year}.\"})\n",
    "    \n",
    "    # Ask the second question\n",
    "    info_type = input(\"Bot: What's the information you want to know about?\\nYou: \")\n",
    "    conversation.append({\"role\": \"user\", \"content\": f\"I want to know about {info_type} in the {year} NBA playoffs.\"})\n",
    "    \n",
    "    # Generate a response\n",
    "    print(\"Bot: Let me gather some information for you...\\n\")\n",
    "    \n",
    "    assistant_prompt = f\"Generate a detailed paragraph about {info_type} in the {year} NBA playoffs.\"\n",
    "    conversation.append({\"role\": \"assistant\", \"content\": assistant_prompt})\n",
    "    \n",
    "    response = chat_with_openai(conversation)\n",
    "    \n",
    "    if response:\n",
    "        # Display the generated paragraph\n",
    "        print(f\"Bot: Here's what I found:\\n{response}\\n\")\n",
    "        \n",
    "        # Confirm with the user\n",
    "        is_correct = input(\"Bot: Is this what you were searching for? (yes/no)\\nYou: \").strip().lower()\n",
    "        \n",
    "        if is_correct == 'yes':\n",
    "            print(\"Bot: I'm glad I could help! Let me know if there's anything else you'd like to know.\")\n",
    "        else:\n",
    "            print(\"Bot: I'm sorry it wasn't what you were looking for. Could you clarify or ask something else?\")\n",
    "            naive_OpenAI_chatbot()\n",
    "    else:\n",
    "        print(\"Bot: I couldn't retrieve any information. Please try again later.\")\n"
   ]
  },
  {
   "cell_type": "markdown",
   "id": "04cbe4f2-6a5a-4f70-8627-226c25353471",
   "metadata": {},
   "source": [
    "## Asking questions to the Naive Chatbot\n",
    "To test the Naive Chatbot, we are going to ask the following questions:\n",
    "\n",
    "1. Question 1<br>\n",
    "    - Year: **2020**\n",
    "    - Question: **What was the starting five for the two teams in the NBA finals, each player basic statistics?**\n",
    "\n",
    "2. Question 2\n",
    "    - Year: **2022**\n",
    "    - Question: **Which team was the champion and which player was named finals MVP?**"
   ]
  },
  {
   "cell_type": "markdown",
   "id": "f079cb77-fcb6-4829-9a6b-2f12bf2784df",
   "metadata": {},
   "source": [
    "### Question 1 (Naive Chatbot)"
   ]
  },
  {
   "cell_type": "code",
   "execution_count": 55,
   "id": "95442479-9564-45b5-9dd5-2c2f74a7d998",
   "metadata": {},
   "outputs": [
    {
     "name": "stdout",
     "output_type": "stream",
     "text": [
      "👋 Welcome to the NBA Playoffs Chatbot!\n"
     ]
    },
    {
     "name": "stdin",
     "output_type": "stream",
     "text": [
      "Bot: Which NBA playoff year do you want to know about?\n",
      "You:  2020\n",
      "Bot: What's the information you want to know about?\n",
      "You:  What was the starting five for the two teams in the NBA finals, each player basic statistics?\n"
     ]
    },
    {
     "name": "stdout",
     "output_type": "stream",
     "text": [
      "Bot: Let me gather some information for you...\n",
      "\n",
      "Bot: Here's what I found:\n",
      "The two teams in the 2020 NBA finals were the Los Angeles Lakers and the Miami Heat.\n",
      "\n",
      "The starting five for the Los Angeles Lakers typically consisted of:\n",
      "1. LeBron James, who averaged 27.6 points, 10.8 rebounds, and 8.8 assists during the series.\n",
      "2. Anthony Davis, averaging 25.0 points, 10.7 rebounds and 3.2 assists.\n",
      "3. Dwight Howard, contributing with 7.5 points, 7.3 rebounds, and 0.7 assists.\n",
      "4. Kentavious Caldwell-Pope, who averaged 12.8 points, 2.1 rebounds, and 1.3 assists.\n",
      "5. Danny Green, managing to add 8.0 points, 3.4 rebounds, and 1.3 assists.\n",
      "\n",
      "The Miami Heat ’s lineup was as follows: \n",
      "1. Jimmy Butler, who had a dominant performance with 26.2 points, 8.3 rebounds, and 9.8 assists per game.\n",
      "2. Bam Adebayo, contributed with 17.8 points, 10.3 rebounds, and 4.4 assists.\n",
      "3. Jae Crowder, who averaged 12.0 points, 5.6 rebounds, and 1.9 assists.\n",
      "4. Duncan Robinson, playing well with 12.4 points, 3.3 rebounds, and 1.5 assists.\n",
      "5. Tyler Herro, the youngest in the lineup, offered 16.0 points, 5.1 rebounds, and 3.7 assists.\n",
      "\n",
      "These players were key in their respective team's performance throughout the series.\n",
      "\n"
     ]
    },
    {
     "name": "stdin",
     "output_type": "stream",
     "text": [
      "Bot: Is this what you were searching for? (yes/no)\n",
      "You:  yes\n"
     ]
    },
    {
     "name": "stdout",
     "output_type": "stream",
     "text": [
      "Bot: I'm glad I could help! Let me know if there's anything else you'd like to know.\n"
     ]
    }
   ],
   "source": [
    "naive_OpenAI_chatbot()"
   ]
  },
  {
   "cell_type": "markdown",
   "id": "4b235d85-bcb1-4133-9bd5-7fc370cc1db8",
   "metadata": {},
   "source": [
    "### Question 2 (Naive Chatbot)"
   ]
  },
  {
   "cell_type": "code",
   "execution_count": 9,
   "id": "a10abd04-b725-4dcd-a934-f5b8f49c3e50",
   "metadata": {},
   "outputs": [
    {
     "name": "stdout",
     "output_type": "stream",
     "text": [
      "👋 Welcome to the NBA Playoffs Chatbot!\n"
     ]
    },
    {
     "name": "stdin",
     "output_type": "stream",
     "text": [
      "Bot: Which NBA playoff year do you want to know about?\n",
      "You:  2022\n",
      "Bot: What's the information you want to know about?\n",
      "You:  Which team was the champion and which player was named finals MVP\n"
     ]
    },
    {
     "name": "stdout",
     "output_type": "stream",
     "text": [
      "Bot: Let me gather some information for you...\n",
      "\n",
      "Bot: Here's what I found:\n",
      "I'm sorry, but as an AI developed by OpenAI, I can't provide real-time updates or future information. As of the last update in October 2021, the 2022 NBA playoffs hadn't taken place yet, and so the champions and Finals MVP haven't been determined. Please check the most recent and reliable sports news sources for this information.\n",
      "\n"
     ]
    },
    {
     "name": "stdin",
     "output_type": "stream",
     "text": [
      "Bot: Is this what you were searching for? (yes/no)\n",
      "You:  no\n"
     ]
    },
    {
     "name": "stdout",
     "output_type": "stream",
     "text": [
      "Bot: I'm sorry it wasn't what you were looking for. Could you clarify or ask something else?\n",
      "👋 Welcome to the NBA Playoffs Chatbot!\n"
     ]
    },
    {
     "name": "stdin",
     "output_type": "stream",
     "text": [
      "Bot: Which NBA playoff year do you want to know about?\n",
      "You:  no\n",
      "Bot: What's the information you want to know about?\n",
      "You:  no\n"
     ]
    },
    {
     "name": "stdout",
     "output_type": "stream",
     "text": [
      "Bot: Let me gather some information for you...\n",
      "\n",
      "Bot: Here's what I found:\n",
      "I'm sorry, but your question is unclear. Could you please clarify what specific information about NBA playoffs you are interested in? Maybe you're asking about a specific year for the NBA playoffs or a specific team or player? Please give more details so I can assist you better.\n",
      "\n"
     ]
    },
    {
     "name": "stdin",
     "output_type": "stream",
     "text": [
      "Bot: Is this what you were searching for? (yes/no)\n",
      "You:  yes\n"
     ]
    },
    {
     "name": "stdout",
     "output_type": "stream",
     "text": [
      "Bot: I'm glad I could help! Let me know if there's anything else you'd like to know.\n"
     ]
    }
   ],
   "source": [
    "naive_OpenAI_chatbot()"
   ]
  },
  {
   "cell_type": "code",
   "execution_count": null,
   "id": "7a747582-b083-46ab-a506-66d7ee0a5ee5",
   "metadata": {},
   "outputs": [],
   "source": [
    "df_playoffs[df_playoffs['title'].str.contains(\"2022\")]['text'].str.cat(sep='\\n')  #"
   ]
  },
  {
   "cell_type": "code",
   "execution_count": 56,
   "id": "a822565d-1463-40dc-8812-695f764e4711",
   "metadata": {},
   "outputs": [],
   "source": [
    "def get_data_from_nba_playoffs(\n",
    "    query: str, dataset: pd.DataFrame = df_playoffs\n",
    ") -> str:\n",
    "    cat_text = dataset[\n",
    "        dataset[\"title\"].str.contains(str(query))][\"text\"].str.cat(sep=\"\\n\")\n",
    "    return cat_text\n",
    "\n",
    "def augmented_openai_chatbot():\n",
    "    print(\"👋 Welcome to the Augmented NBA Playoffs Chatbot!\")\n",
    "    \n",
    "    # Initialize conversation history\n",
    "    conversation = [\n",
    "        {\"role\": \"system\", \"content\": \"You are a helpful assistant knowledgeable about NBA playoffs.\"}\n",
    "    ]\n",
    "    \n",
    "    # Ask the first question\n",
    "    year = input(\"Bot: Which NBA playoff year do you want to know about?\\nYou: \")\n",
    "    conversation.append({\"role\": \"user\", \"content\": f\"I want to know about the NBA playoffs in {year}.\"})\n",
    "    \n",
    "    # Ask the second question\n",
    "    info_type = input(\"Bot: What's the information you want to know about?\\nYou: \")\n",
    "    conversation.append({\"role\": \"user\", \"content\": f\"I want to know about {info_type} in the {year} NBA playoffs.\"})\n",
    "    \n",
    "    # Generate a response\n",
    "    print(\"Bot: Let me gather some information for you...\\n\")\n",
    "\n",
    "    # Get Data from Wikipedia dataset\n",
    "    str_filtered_dataset = get_data_from_nba_playoffs(year)\n",
    "    if str_filtered_dataset != '':\n",
    "        print(f'''Found information about year \"{year}\" in NBA playoffs,\n",
    "        with {len(str_filtered_dataset)} characters.\n",
    "        ''')\n",
    "    \n",
    "    assistant_prompt = f\"Generate a detailed paragraph about {info_type} in the {year} NBA playoffs.\\n\"\n",
    "    augmented_prompt = assistant_prompt + f\"Also use the following wikipedia paragraph as a source of information, if available:\\n{str_filtered_dataset[:1024]}\"\n",
    "    conversation.append({\"role\": \"assistant\", \"content\": augmented_prompt})\n",
    "    print(augmented_prompt)\n",
    "    response = chat_with_openai(conversation)\n",
    "    \n",
    "    if response:\n",
    "        # Display the generated paragraph\n",
    "        print(f\"Bot: Here's what I found:\\n{response}\\n\")\n",
    "        \n",
    "        # Confirm with the user\n",
    "        is_correct = input(\"Bot: Is this what you were searching for? (yes/no)\\nYou: \").strip().lower()\n",
    "        \n",
    "        if is_correct == 'yes':\n",
    "            print(\"Bot: I'm glad I could help! Let me know if there's anything else you'd like to know.\")\n",
    "        else:\n",
    "            print(\"Bot: I'm sorry it wasn't what you were looking for. Could you clarify or ask something else?\")\n",
    "            naive_OpenAI_chatbot()\n",
    "    else:\n",
    "        print(\"Bot: I couldn't retrieve any information. Please try again later.\")\n"
   ]
  },
  {
   "cell_type": "code",
   "execution_count": null,
   "id": "6a8e3e85-d2eb-4aa6-bdae-30f84cea9685",
   "metadata": {},
   "outputs": [],
   "source": [
    " - Year: **2022**\n",
    "    - Question: **Which team was the champion and which player was named finals MVP?**"
   ]
  },
  {
   "cell_type": "code",
   "execution_count": null,
   "id": "c2e7bce3-7b0f-47d3-895b-740db3a9f764",
   "metadata": {},
   "outputs": [],
   "source": []
  },
  {
   "cell_type": "code",
   "execution_count": 57,
   "id": "efc0c72a-5e60-4c2c-a87a-4c0fdc05962c",
   "metadata": {},
   "outputs": [
    {
     "name": "stdout",
     "output_type": "stream",
     "text": [
      "👋 Welcome to the Augmented NBA Playoffs Chatbot!\n"
     ]
    },
    {
     "name": "stdin",
     "output_type": "stream",
     "text": [
      "Bot: Which NBA playoff year do you want to know about?\n",
      "You:  2022\n",
      "Bot: What's the information you want to know about?\n",
      "You:  Which team was the champion and which player was named finals MVP?\n"
     ]
    },
    {
     "name": "stdout",
     "output_type": "stream",
     "text": [
      "Bot: Let me gather some information for you...\n",
      "\n",
      "Found information about year \"2022\" in NBA playoffs,\n",
      "        with 55284 characters.\n",
      "        \n",
      "Generate a detailed paragraph about Which team was the champion and which player was named finals MVP? in the 2022 NBA playoffs.\n",
      "Also use the following wikipedia paragraph as a source of information, if available:\n",
      "The 2022 NBA playoffs was the postseason tournament of the National Basketball Association's 2021–22 season. The playoffs began on April 16 and ended on June 16 with the conclusion of the 2022 NBA Finals. The playoffs also returned to its normal April–June schedule for the first time since 2019, before the COVID-19 pandemic resulted in two postponements in 2020 and 2021.\n",
      "\n",
      "Overview\n",
      "Notable updates to postseason appearances\n",
      "The Phoenix Suns entered the postseason for the second consecutive season and also clinched the best record in the NBA for the first time since 2005.\n",
      "The Miami Heat entered the postseason for the third consecutive season and also clinched the best record in the Eastern Conference for the first time since 2013.\n",
      "The Boston Celtics entered the postseason for the eighth consecutive season, the longest such streak active in the NBA at the time.\n",
      "Boston also won the Eastern Conference and advanced to the NBA Finals for the first time since 2010.\n",
      "The Utah Jazz and Milwaukee Bucks entered the postsea\n",
      "Bot: Here's what I found:\n",
      "I'm sorry, but as an AI, I'm not capable of predicting future events. As of the last update, the 2022 NBA playoffs have not yet taken place. Real-time data or updates about the champions or MVP of 2022 will be available only after the event happens.\n",
      "\n"
     ]
    },
    {
     "name": "stdin",
     "output_type": "stream",
     "text": [
      "Bot: Is this what you were searching for? (yes/no)\n",
      "You:  yes\n"
     ]
    },
    {
     "name": "stdout",
     "output_type": "stream",
     "text": [
      "Bot: I'm glad I could help! Let me know if there's anything else you'd like to know.\n"
     ]
    }
   ],
   "source": [
    "augmented_openai_chatbot()"
   ]
  },
  {
   "cell_type": "code",
   "execution_count": 51,
   "id": "547bf4d6-cba8-4080-b812-cbb010799254",
   "metadata": {},
   "outputs": [],
   "source": [
    "str_prompt = '''\n",
    "Generate a detailed paragraph about Which team was the champion and which player was named finals MVP? in the 2022 NBA playoffs.\n",
    "Also use the following wikipedia paragraph as a source of information, if available:\n",
    "The 2022 NBA playoffs was the postseason tournament of the National Basketball Association's 2021–22 season. The playoffs began on April 16 and ended on June 16 with the conclusion of the 2022 NBA Finals. The playoffs also returned to its normal April–June schedule for the first time since 2019, before the COVID-19 pandemic resulted in two postponements in 2020 and 2021.\n",
    "\n",
    "Overview\n",
    "Notable updates to postseason appearances\n",
    "The Phoenix Suns entered the postseason for the second consecutive season and also clinched the best record in the NBA for the first time since 2005.\n",
    "The Miami Heat entered the postseason for the third consecutive season and also clinched the best record in the Eastern Conference for the first time since 2013.\n",
    "The Boston Celtics entered the postseason for the eighth consecutive season, the longest such streak active in the NBA at the time.\n",
    "Boston also won the Eastern Conference and advanced to the NBA Finals for the first time since 2010.\n",
    "The Utah Jazz and Milwaukee Bucks entered the postseason for the sixth consecutive season.\n",
    "The Philadelphia 76ers entered the postseason for the fifth consecutive season.\n",
    "The Brooklyn Nets and Denver Nuggets entered the postseason for the fourth consecutive season.\n",
    "The Dallas Mavericks entered the postseason for the third consecutive season.\n",
    "The Memphis Grizzlies and Atlanta Hawks entered the postseason for the second consecutive season.\n",
    "The Toronto Raptors entered the postseason for the first time since 2020.\n",
    "The Golden State Warriors entered the postseason for the first time since 2019.\n",
    "Golden State also won the Western Conference and advanced to the NBA Finals for the first time since 2019 and sixth time since 2015.\n",
    "The Minnesota Timberwolves and New Orleans Pelicans entered the postseason for the first time since 2018.\n",
    "The Chicago Bulls entered the postseason for the first time since 2017.\n",
    "The Los Angeles Lakers missed the postseason for the first time in three years.\n",
    "The Portland Trail Blazers missed the postseason for the first time in nine years.\n",
    "The Sacramento Kings missed the postseason for the sixteenth consecutive season, surpassing the Los Angeles Clippers for the longest playoff drought in NBA history, beginning in 2007.\n",
    "\n",
    "Notable occurrences\n",
    "Neither Los Angeles team qualified for the playoffs. The last time this occurred was in 2018. (The Los Angeles Clippers made the play-in as the eighth seed but did not advance.)\n",
    "This is the first time where both No. 8 seeds were eliminated in the Page-McIntyre stage by the No. 9 seeded teams.\n",
    "A team with a losing record in the Western Conference (Pelicans) qualified for the playoffs. This previously occurred in 2020.\n",
    "For the first time in NBA playoff history, four players aged 22 or younger (Anthony Edwards, Ja Morant, Tyrese Maxey, and Jordan Poole) scored 30 or more points in a game in the same postseason.\n",
    "Anthony Edwards joined Derrick Rose, Tyler Herro, and Magic Johnson in scoring at least 35 points in a playoff game before turning 21.\n",
    "The Utah Jazz became the fifth team in the last 10 postseasons to win a playoff game after trailing by 4-plus points in the final 40 seconds. Teams were 4–701 in that span prior to the game.\n",
    "The Boston Celtics swept the Brooklyn Nets, marking the 46th year in a row that a sweep occurred. The last time a sweep did not occur was in 1976. This was the 182nd series sweep in NBA playoffs history.\n",
    "The Philadelphia 76ers and Toronto Raptors series became the first Eastern Conference First Round series to go to a game 6 since 2018.\n",
    "The Memphis Grizzlies became the first team ever to have multiple comebacks wins after trailing by double-digits going into the fourth quarter in a single playoff series.\n",
    "The Dallas Mavericks won a playoff series for the first time since their championship run in 2011.\n",
    "Chris Paul set a playoff record for most consecutive field goals made in a game without a miss, going 14-of-14 from the field.\n",
    "For the first time since 2019, all top four teams in both the Eastern Conference and the Western Conference made it past the first round of the playoffs.\n",
    "For the first time since 2011, no first-round matchup went to a game 7.\n",
    "With a game 3 win at Denver, the Golden State Warriors have won a road game in 24 consecutive playoff series, beating the previous record set by the Miami Heat with 23. This record has since been extended to 27 consecutive playoff series with their road wins against Memphis, Dallas, and Boston.\n",
    "Game 1 between the Golden State Warriors and Memphis Grizzlies was the first game in playoff history where three players age 22 or younger (Ja Morant, Jaren Jackson Jr., and Jordan Poole) each had 30-plus points.\n",
    "Ja Morant became the third player in league history to have multiple 45-point games in the postseason before turning 23, joining LeBron James and Kobe Bryant.\n",
    "The Dallas Mavericks totaled nine assists against the Phoenix Suns in game 5, the lowest number of assists in a playoff game by a team since 2016.\n",
    "For the first time since 2015, every Conference semifinals series went to a game 6.\n",
    "The Mavericks–Suns series was the first of the 2022 playoffs to have a game 7, making it the 23rd consecutive NBA postseason to feature a game 7. The last time a game 7 did not occur in the playoffs was 1999. This was the 145th game 7 in NBA playoffs history.\n",
    "The Golden State Warriors became the first team to grab 70-plus rebounds in a playoff game since 1983.\n",
    "With the defending champion Milwaukee Bucks losing to the Boston Celtics, the 2022 playoffs was the third straight year where the defending champion was eliminated before the conference finals. After the Celtics defeated the Miami Heat, it was also the fifth straight year with a different EC champion.\n",
    "With the defending Western Conference champion Phoenix Suns losing to the Dallas Mavericks, this marked the second straight year both of the NBA Finals participants from the previous year were eliminated before the conference finals.\n",
    "The Dallas Mavericks made their first Conference finals since 2011.\n",
    "Neither the first-seeded team nor the second-seeded team made the Western Conference finals for the first time since 2011.\n",
    "In game 4 of the Eastern Conference finals, the Miami Heat failed to get a shot for more than eight minutes, until 3:22 remained in the first quarter. This marked the longest a team has gone with no field goals to start a game in the postseason in 25 years. Subsequently, all starters for the Heat were outscored by a bench player (Victor Oladipo scored 23 points, more than 18 points from all of the starting five). The 18 points was the lowest number combined in a playoff game since starters were first tracked in 1971 and was also the first time in which a bench player outscores the entire starting lineup.\n",
    "By advancing to the NBA Finals, the Golden State Warriors made their sixth Finals appearance in eight seasons, the first since 1990–98 Chicago Bulls (led by Michael Jordan) to have this feat.\n",
    "Stephen Curry joined LeBron James and Michael Jordan as the only players in NBA Finals to score 40 or more points at age 34 or older.\n",
    "Jayson Tatum set the all-time NBA record with 100 turnovers in a single postseason.\n",
    "By beating the Celtics, the Warriors became the only team with a non-losing series record (1–1) against the Celtics in the Finals. The Celtics had winning series records in the Finals against the Lakers (9–3), the Hawks (3–1), the Rockets (2–0), the Bucks (1–0) and the Suns (1–0).\n",
    "\n",
    "Format\n",
    "Eight teams from each conference participated in the playoffs. The top six teams in each conference, based on winning percentage, directly qualified for the playoffs; the seeding order of those teams was also based on winning percentage. If two or more teams had the same record, standard NBA tiebreaker rules were used.\n",
    "The NBA Board of Governors approved a format for the 2021–22 season to have a play-in tournament involving the teams ranked 7th through 10th in each conference. The 7th-place team and 8th-place team participated in a \"double-chance\" game, with the winner advancing to the playoffs as the 7-seed. The loser then played the winner of the elimination game between the 9th-place and 10th-place teams to determine the playoff's 8-seed. The NBA's regular playoff format then proceeded as normal.\n",
    "Each conference's bracket was fixed with no reseeding. All rounds were best-of-seven series; a series ended when one team won four games, and that team advanced to the next round. All rounds, including the NBA Finals, were in a 2–2–1–1–1 format with regards to hosting. In the conference playoffs, home court advantage went to the higher-seeded team (number one being the highest). Conference seedings were ignored for the NBA Finals: home court advantage went to the team with the better regular season record, and, if needed, ties were broken based on head-to-head record, followed by intra-conference record.\n",
    "\n",
    "Playoff qualifying\n",
    "On March 9, 2022, the Phoenix Suns became the first team to clinch a playoff spot. On April 5, the San Antonio Spurs and New Orleans Pelicans became the last two teams to qualify for postseason play, as both teams secured spots in the first-stage play-in tournament. On April 7, the Denver Nuggets became the final team to secure a direct berth in the playoff bracket, qualifying as the sixth seed in the Western Conference and relegating the Minnesota Timberwolves to the play-in tournament. While noted in the below tables, division titles have no bearing on seeding.\n",
    "Seeds 7 and 8 in each conference were determined via the first-stage play-in tournament, held April 12–15.\n",
    "\n",
    "Eastern Conference\n",
    "Cleveland (44–38) and Charlotte (43–39) also secured play-in berths but did not advance to the playoffs.\n",
    "\n",
    "Western Conference\n",
    "The L.A. Clippers (42–40) and San Antonio (34–48) also secured play-in berths but did not advance to the playoffs.\n",
    "\n",
    "Play-in tournament brackets\n",
    "Eastern Conference\n",
    "Bold Game winner\n",
    "Italic Team with home-court advantage\n",
    "\n",
    "Western Conference\n",
    "Bold Game winner\n",
    "Italic Team with home-court advantage\n",
    "\n",
    "Bracket\n",
    "Teams in bold advanced to the next round. The numbers to the left of each team indicate the team's seeding in its conference, and the numbers to the right indicate the number of games the team won in that round. The division champions are marked by an asterisk. Teams with home court advantage, the higher-seeded team, are shown in italics.\n",
    "\n",
    "First round\n",
    "Note: Times are EDT (UTC−4) as listed by the NBA. If the venue is located in a different time zone, the local time is also given.\n",
    "\n",
    "Eastern Conference first round\n",
    "(1) Miami Heat vs. (8) Atlanta Hawks\n",
    "Duncan Robinson led the Heat in scoring with 27 points on 9-of-10 shooting, including going 8-of-9 from three-point range. On the other hand, Atlanta's Trae Young struggled, shooting just 1-of-12, finishing the game with eight points and six turnovers.\n",
    " Jimmy Butler scored a playoff career-high 45 points, shooting 15-of-25 as well as committing zero turnovers en route to securing a 2–0 series lead. Trae Young also rebounded in game 2, finishing the game with 25 points, but he committed a career-high 10 turnovers.\n",
    " In danger of going down 0–3 in the series, Trae Young hit a game-winning floater in the lane with 4.4 seconds left as the Hawks overcame a 16-point deficit in the second half.\n",
    " After losing Kyle Lowry in game 3 with a hamstring strain, the Heat dominated the Hawks down the stretch, outscoring Atlanta in the final three quarters 85–60. Jimmy Butler scored 13 of his 36 points in the second quarter along with 10 rebounds and four assists. Trae Young scored only nine points with five assists and five turnovers, as he was held to single digit points by Miami's defense for the second time in four games.\n",
    " Without Jimmy Butler and Kyle Lowry, the Heat were able to hold off the Hawks thanks to a 23-point performance from Victor Oladipo. De'Andre Hunter shined for Atlanta in the loss, scoring a career-high 35 points, as well as the most points scored by a Hawks player in the series.\n",
    "\n",
    "This was the third playoff meeting between these two teams, with the Hawks winning the first two meetings.\n",
    "\n",
    "(2) Boston Celtics vs. (7) Brooklyn Nets\n",
    "The Celtics lost a 15-point third quarter lead but went on to win game 1 on Jayson Tatum's layup at the buzzer.\n",
    " The Nets had a 17-point lead late in the first half, but lost the game due to a huge fourth quarter by the Celtics. Kevin Durant notably struggled in the second half, going 0–10 from the floor and committing 4 turnovers as Boston outscored Brooklyn 59–42 in the final two quarters.\n",
    " Despite a stellar night from Bruce Brown, who had 26 points on 10-of-19 shooting from the field, the Nets were unable to overcome poor performances from Durant and Irving, who only scored 16 points apiece, as well as a 39-point explosion from Jayson Tatum who also had 6 steals. The Celtics led by as many as 15 in the final quarter before holding off the Nets to take a commanding 3–0 series lead.\n",
    " Despite Jayson Tatum fouling out late in the fourth quarter, the Celtics were able to hold off the Nets to complete the sweep. Kevin Durant had his best game of the series with 39 points, helping Brooklyn trim the deficit to 1 point with 3:29 to play in the fourth quarter, but thanks to Tatum's 29 points, Boston never trailed. Nic Claxton struggled at the free throw line, missing his first 10 attempts, and finishing 1-of-11. This was the eighth playoff sweep in Celtics' franchise history, as Boston swept its first-round series for the third time in four years. The Nets were the only team in this season's playoffs to get swept.\n",
    "\n",
    "This was the fourth playoff meeting between these two teams, and the second since the New Jersey Nets relocated to Brooklyn in 2012, with the Nets winning the first three meetings.\n",
    "\n",
    "(3) Milwaukee Bucks vs. (6) Chicago Bulls\n",
    "Despite finishing the game with 21 turnovers and blowing a 16-point lead, the Bucks outlasted the Bulls 93–86. Giannis Antetokounmpo finished the game with 27 points and 16 rebounds. The Bulls struggled on offense, shooting a season-low 32.3% from the floor, with DeMar DeRozan and Zach LaVine shooting a combined 12-of-44 (27.3%).\n",
    " While the Bulls were leading by as much as 18 in the third quarter, they withstood two furious rallies in both the third and fourth quarters by the Bucks, with DeMar DeRozan scoring a playoff career-high 41 points. This was the Bulls' first playoff victory since game 2 of the 2017 Eastern Conference first round against the Boston Celtics. Two Bucks players suffered injuries during the game: Bobby Portis left mid-game after suffering a \"right eye abrasion\" and Khris Middleton suffered a sprained MCL in his left knee.\n",
    " Despite Chicago hosting their first playoff game in five years, Milwaukee dominated throughout the game. Grayson Allen came off the bench and led the Bucks in points with 22, along with Bobby Portis collecting 16 rebounds, tying a career high. The loss was also the largest playoff loss at home in Bulls history.\n",
    " Grayson Allen set playoff career highs with 27 points and six three-pointers, along with Giannis Antetokounmpo leading the team with 32 points and 17 rebounds as the Bucks cruised to a second straight win on the road. With the loss, the Bulls had been outscored by a combined 54 points over the past two games, both of which were at home.\n",
    " Despite being without Khris Middleton the last three games, Milwaukee won all three by an average margin of 23.3 points. DeMar DeRozan was scoreless in the first 26 minutes of the game and attempted just one shot in the first quarter, where Chicago was outscored 34–18. Giannis Antetokounmpo had 33 points and nine rebounds as the Bucks won their first-round matchup for the fourth consecutive season.\n",
    "\n",
    "This was the fifth playoff meeting between these two teams, with each team winning two out of the first four meetings.\n",
    "\n",
    "(4) Philadelphia 76ers vs. (5) Toronto Raptors\n",
    "In his first playoff game as a starter, Tyrese Maxey scored 38 points, with 21 of his 38 points coming in the third quarter. Raptors rookie Scottie Barnes had 15 points, 10 rebounds, and eight assists prior to exiting the game with an ankle injury.\n",
    " After the Raptors took a one-point lead into the second quarter, the 76ers dominated for the rest of the game. Philadelphia outscored Toronto 80–64 in the final three quarters, with Joel Embiid finishing the game with 31 points and 11 rebounds.\n",
    " With 0.9 seconds on the shot clock and 2.6 seconds remaining in overtime, Joel Embiid hit a game-winning three-point shot to secure a commanding 3–0 series lead after overcoming a 17-point deficit and never leading in regulation.\n",
    " Scottie Barnes made his return to the lineup for game 4 after missing the previous two games, leading the team with 11 rebounds. Raptors' Pascal Siakam scored 34 points while the 76ers' James Harden scored 22 points. In the second quarter, Fred VanVleet exited the game due to a hip injury and did not return. Despite this, the Raptors staved off elimination with a 110–102 win to send the series back to Philadelphia.\n",
    " Despite being without Fred VanVleet, the Raptors, with the help of Pascal Siakam's 23 points, 10 rebounds, and seven assists led almost the entire game and staved off elimination again to send the series back to Toronto for game 6. The 76ers had their own share of issues: while Joel Embiid scored 20 points with 11 rebounds, and James Harden had seven assists; the 76ers' bench scored only five points.\n",
    " The 76ers completed a 35-point rout of the Raptors to eliminate them from the playoffs. Joel Embiid had 33 points and 10 rebounds, and teammate Tyrese Maxey scored 25. The Raptors' Pascal Siakam scored 24 points in the loss, while Chris Boucher came off the bench and had 25 points and 10 rebounds.\n",
    "\n",
    "This was the third playoff meeting between these two teams, with each team winning one series.\n",
    "\n",
    "Western Conference first round\n",
    "(1) Phoenix Suns vs. (8) New Orleans Pelicans\n",
    "The Pelicans started off slowly, but chipped away at a 23-point deficit to eventually trail 79–71 by the end of the third. However, Chris Paul took over late in the game by scoring 19 of his 30 points in the fourth quarter.\n",
    " After scoring 31 points in the first half, Devin Booker left the game in the third quarter after suffering a \"mild hamstring strain\" and did not return to the game. Meanwhile, Brandon Ingram finished the game with 37 points, 11 rebounds, and nine assists, leading the Pelicans to their first playoff win since 2018.\n",
    " Without Devin Booker, the Suns outlasted the Pelicans on the road, with Chris Paul and Deandre Ayton combining for 56 points. Paul scored 15 of Phoenix's first 23 points of the final quarter, along with committing zero turnovers, his second straight game doing so.\n",
    " Brandon Ingram scored 16 of his 30 points in the third quarter, his third straight game with 30-plus points. Jonas Valančiūnas also contributed with 26 points and 15 rebounds, along with scoring ten points in a 3:34 span in the fourth quarter to help the Pelicans pull away. Chris Paul struggled for the Suns, scoring just four points and three turnovers after previously having just two turnovers in the first three games.\n",
    " With the series back in Phoenix, Mikal Bridges helped the Suns take a 3–2 series lead thanks to a playoff career-high 31 points and four blocks, all while playing 47 minutes in the game. Chris Paul rebounded in game 5 as well, tallying 22 points and 11 assists. Phoenix never trailed in the game.\n",
    " In Devin Booker's return from the hamstring injury that had kept him out the previous three games, Chris Paul scored 33 points on a perfect 14-for-14 from the field (including one three-pointer) and 4-for-4 from the free throw line as the Suns advanced. Paul's 14-for-14 shooting set a record for most field goals made in a playoff game without a miss, and the first player to make 13-plus shots in a playoff game without a miss.\n",
    "\n",
    "This was the first playoff meeting between the two teams.\n",
    "\n",
    "(2) Memphis Grizzlies vs. (7) Minnesota Timberwolves\n",
    "In his playoff debut, Anthony Edwards led the Timberwolves in scoring with 36, joining Derrick Rose, Tyler Herro, and Magic Johnson in scoring at least 35 points in a playoff game before turning 21. The win was also the Timberwolves' first playoff opener they have won since 2004.\n",
    " Ja Morant and the Grizzlies rebounded in game 2, with Morant being one rebound shy of his first career playoff triple-double. The win was also the widest margin of victory in the Grizzlies' playoff history.\n",
    " Despite trailing by 25-plus points on two occasions, the Grizzlies battled back late in the game, including going on a 42–12 run in the final 13 minutes of the game to secure their first lead of the series. Ja Morant also became the first player in the Grizzlies' playoff history to record a triple-double.\n",
    " Karl-Anthony Towns and the Timberwolves were able to rebound after their game 3 collapse, with Towns putting up a career playoff-best 33 points and 14 rebounds. Desmond Bane also had a career night, hitting eight three-pointers and leading the Grizzlies with 34 points, tying a career high.\n",
    " After the Grizzlies erased a 13-point fourth-quarter lead by the Timberwolves, the game would come down to the wire from that point on. At the eight-second mark, Ja Morant would make two clutch free throws. After Minnesota used their last timeout, Anthony Edwards would hit a clutch three-pointer to tie the game at 109 with 3.7 seconds left. After Memphis called a timeout, Morant hit a game-winning layup with one second left. This was the Grizzlies' second double-digit comeback victory of the series.\n",
    " The Grizzlies' rallied from a double-digit deficit entering the fourth quarter for the third time in the series, winning their opening playoff series for the first time in seven years. Desmond Bane and Dillon Brooks each scored 23 points, with Bane going 27-of-56 on three-pointers in the series.\n",
    "\n",
    "This was the first playoff meeting between the two teams.\n",
    "\n",
    "(3) Golden State Warriors vs. (6) Denver Nuggets\n",
    "In his playoff debut, Jordan Poole led the Warriors in points with 30, shooting 9-of-13. Stephen Curry also came off the bench to contribute 16 points in 21 minutes after missing exactly a month with a sprained ligament in his left foot. This was also the Warriors' first playoff win since game 5 of the 2019 NBA Finals. Also, the city of San Francisco hosted a playoff game for the first time since 1964.\n",
    " Stephen Curry came off the bench for a second straight game, dropping 34 points in 23 minutes to lead the Warriors to a 2–0 advantage in the series. Nikola Jokić also led the Nuggets with 26 points and 11 rebounds before being ejected with seven minutes left in the game.\n",
    " The Warriors finished the game on a 9–2 run to hand the Nuggets their seventh consecutive loss in the playoffs. Stephen Curry and Jordan Poole combined for 54 points, along with Klay Thompson shooting six three-pointers en route to a 3–0 series lead.\n",
    " The Nuggets finished the game on a 9–5 run, snapping their seven-game losing streak in the playoffs, dating back to the 2021 postseason. Nikola Jokić led all scorers with 37 points and assisted on a Will Barton three-pointer from the left corner with 8.3 seconds left, effectively putting the game away.\n",
    " The Warriors advanced to the Western Conference semifinals for the first time since the 2019 NBA playoffs. Stephen Curry scored 20 points in the second half, leading the Warriors with 30 points. Gary Payton II also scored 10 of his 15 points in the fourth quarter. Nikola Jokić scored 12 of his 30 points in the final 3:46 of the fourth quarter, finishing the game with 19 rebounds and eight assists as the Nuggets lost their eighth game in their last nine playoff games.\n",
    "\n",
    "This was the second playoff meeting between the two teams, with the Warriors winning the first meeting.\n",
    "\n",
    "(4) Dallas Mavericks vs. (5) Utah Jazz\n",
    "Scoring just two points in the first half, Donovan Mitchell erupted in the second half with 30 points, leading the Jazz to a game 1 win on the road. This was also the first time the Mavericks started the playoffs at home since their championship run in 2011.\n",
    " Down 0–1 in the series and without their star Luka Dončić, the Mavericks won due to a career-high 41 points from Jalen Brunson, along with the franchise record of fewest turnovers ever in a postseason game, with 3.\n",
    " Despite Donovan Mitchell putting up 28 points in the second half, the Mavericks took their first lead of the series, with the Dallas bench outscoring the Utah bench 49–24. The Jazz had previously won 11 straight against the Mavericks at home coming into the game.\n",
    " Luka Dončić made his return after missing the first three games of the series due to a \"calf strain\" and scored a double-double with 30 points, 10 rebounds, and 4 assists. Despite this, however, the game came down to the wire. With 30 seconds left in the game with the Mavericks up one, Dwight Powell was fouled but missed 2 crucial free throws, then Donovan Mitchell lobbed the ball to Rudy Gobert for an alley-oop, giving the Jazz the lead with 11 seconds to go. Dallas had one more shot, but Doncic's  potential game-winning three-pointer fell short as Utah tied the series 2-all. The Jazz also became the fifth team since 2013 to win after trailing by four-plus points in the final 40 seconds. Teams were 4–701 in that span coming into the game.\n",
    " After the first four games were decided by eight points or less, the Mavericks routed the Jazz at home 102–77 to regain the series lead. Luka Dončić once again led the Mavericks in points (33), rebounds (13), and assists (5) for the second straight game. Donovan Mitchell, who averaged 30 points in the first four games, scored just nine and missed all seven of his three-pointers before leaving with a left hamstring injury in the fourth quarter.\n",
    " Though the Jazz had a 12-point lead at halftime, the Mavericks stormed back to take the lead in the final few minutes. Rudy Gobert made a layup with 35 seconds to go to reduce the deficit to just one point. However, after a Mike Conley turnover, Jalen Brunson doubled the Mavericks' lead by scoring a free throw at 4.3 seconds. Bojan Bogdanović then missed a game-winning three-pointer with 1.9 seconds left on the clock to hand the Mavericks their first series win since their championship run in 2011. Donovan Mitchell recovered from the injury he sustained in the previous game, and had 23 points, eight rebounds, and nine assists. Brunson and Luka Dončić each scored 24 points for Dallas, and Spencer Dinwiddie scored 19 points.\n",
    "\n",
    "This was the third playoff meeting between these two teams, with the Mavericks winning the first two meetings.\n",
    "\n",
    "Conference semifinals\n",
    "Note: Times are EDT (UTC−4) as listed by the NBA. If the venue is located in a different time zone, the local time is also given.\n",
    "\n",
    "Eastern Conference semifinals\n",
    "(1) Miami Heat vs. (4) Philadelphia 76ers\n",
    "Without Joel Embiid, who suffered an orbital fracture and concussion in the final minutes of game 6 against Toronto, the 76ers were unable to overcome missing their star player, with Philadelphia shooting 17.6% from beyond the arc, their second-worst percentage of the season. Tyler Herro scored 25 points—the second most he has ever had in a playoff game—while Bam Adebayo finished with 24 points and 12 rebounds as the top-seeded Heat outscored the 76ers 56–41 in the second half.\n",
    " The 76ers were unable to rally without their star Joel Embiid for the second straight game, with four Heat players scoring 18-plus points (Adebayo, Butler, Herro and Oladipo), along with shooting 48.3% from the three-point line. Tyrese Maxey led the way for Philadelphia with 34 points, but a 10–0 run in the fourth turned an eight-point Miami lead into an 18-point advantage, sealing the win.\n",
    " Although listed as \"doubtful\" leading into the game, Joel Embiid made his first appearance of the series, leading the 76ers to their first win with 18 points and 11 rebounds. Danny Green rebounded from a poor shooting performance in game 2 (shooting 1-for-10), making 6-of-7 three-pointers through the first three quarters. Kyle Lowry also returned from injury, but finished the game scoreless, with Jimmy Butler being the only Heat player to score more than 14 points in the game.\n",
    " After being held for under 30 points in 13 consecutive playoff games, James Harden broke through with 31 points to help Philadelphia tie the series. Joel Embiid once again contributed with 24 points and 11 rebounds as the 76ers shot 48.5% from the three-point line. Jimmy Butler also scored 40 points on 13-of-20 shooting from the floor, but the Heat, who shot 38% on three-pointers during the season, shot just 7-of-35 (20%) from beyond the arc.\n",
    " The Heat outscored the 76ers by 35 points, tying the second-widest margin of victory in Heat playoff history and tying the widest margin of victory of the 2022 NBA playoffs at the time of the game. Seven players for the Heat scored in double-digits, with Jimmy Butler scoring 23 points and Max Strus with 19 points and 10 rebounds. None of Philadelphia's starters played in the final 8:18 of the game, as the Heat outscored the 76ers 39–19 in the fourth quarter.\n",
    " Jimmy Butler scored 32 points and led the Heat to the conference finals for the second time in three seasons, with Butler scoring 14 points on 6-of-9 shooting in the third quarter where the Heat used a 16–2 run to take control. Joel Embiid scored 20 points with 12 rebounds on 7-of-24 shooting, but teammate James Harden failed to score in the second half, scoring all 11 of his points in the first half. The loss marked the fourth time in the last five years the 76ers had lost in the conference semifinals, having last reached the conference finals in 2001.\n",
    "\n",
    "This was the third playoff meeting between these two teams, with each team winning one previous series.\n",
    "\n",
    "(2) Boston Celtics vs. (3) Milwaukee Bucks\n",
    "The Bucks won their fourth consecutive playoff game thanks to Giannis Antetokounmpo's second career playoff triple-double, along with Jrue Holiday leading the team with 25 points and 10 rebounds. Jayson Tatum scored 21 and Jaylen Brown had 12 points, but combined to shoot 10-for-31 in the game.\n",
    " Despite being without Marcus Smart, the Defensive Player of the Year, the Celtics held the Bucks to just 86 points, with Milwaukee shooting 16.7% from the three-point line. Jaylen Brown rebounded in game 2, scoring 25 of his 30 points in the first half, including 5-for-5 from the three-point line.\n",
    " Boston trailed by as much as 14 late in the third quarter and was facing a 13-point deficit with less than 10 minutes left before storming back. The Celtics pulled ahead 100–99 on Jaylen Brown's two free throws with 1:49 remaining. However, after Giannis Antetokounmpo made a go-ahead basket with 44.3 seconds left, Marcus Smart was fouled just before attempting a potential tying three-pointer with 4.6 seconds left. After making the first free throw, Smart missed the second intentionally and got his own rebound, but missed his putback attempt. After a brief scramble, Al Horford got the rebound and banked it in, but his final shot came just after the buzzer sounded, giving Milwaukee the win.\n",
    " The Celtics tied the series thanks to Al Horford and Jayson Tatum scoring 30 points apiece. Horford had 16 points and Tatum 12 in the fourth quarter alone to help the Celtics outscore the defending NBA champions at home 43–28. Giannis Antetokounmpo led the way for the Bucks with 34 points and 18 rebounds, but Jrue Holiday notably struggled from the field, shooting 5-for-22 (22.7%) as the Bucks shot 41.5% from the field as a team.\n",
    " With Boston looking to go up 3–2 in the series and leading by as much as 14 by the start of the fourth quarter, Milwaukee mounted a furious comeback in the final minutes. Down by 6 with 1:45 left in the game, both Giannis Antetokounmpo and Jrue Holiday each hit three-pointers to tie the game at 105. After Jayson Tatum was fouled and made both free throws with 31 seconds left, Antetokounmpo would also be fouled, making the first but missing the second. However, Bobby Portis secured the rebound and scored with 11.4 left, while Marcus Smart's potentially go-ahead shot was blocked by Holiday, who then converted two free throws to make it a three-point game with 5.9 left. Smart would be stripped of the ball by Holiday again at midcourt, completing the Bucks' comeback victory.\n",
    " Looking to move on from their loss in game 5 and looking to avoid elimination on the road, the Celtics were able to control the game, leading by as much as 18. Once again, however, the Bucks tried to mount another rally, cutting the deficit to four, but the Celtics were able to respond and force a game 7 in Boston. Jayson Tatum led the way with 46 points, nine rebounds and four assists, while Al Horford recorded 10 rebounds and four blocks for the Celtics. Giannis Antetokounmpo also had a big performance in the Bucks' loss, scoring 44 points, six assists, and 20 rebounds—the first 40–20 playoff game since Shaquille O'Neal achieved it in game 1 of the 2001 NBA Finals.\n",
    " The Bucks controlled most of the first quarter, leading by as much as 10, but the Celtics would storm back to lead by five points at halftime. Then, the Celtics took over the game from that point on as they beat the defending champions by 28 points. Grant Williams scored a career-high 27 points, including seven three-pointers while Jayson Tatum scored 23 points, Al Horford grabbed 10 rebounds, Celtics bench player Payton Pritchard scored 14 points, including four three-pointers, and Marcus Smart had 10 assists. As a team, the Celtics connected on a game 7 record 22 made three-pointers.\n",
    "Despite the Bucks' loss, Giannis Antetokounmpo secured a double-double with 25 points, 20 rebounds, and 9 assists, barely missing out on a triple-double. The Bucks missed 24 of their last 25 attempts from three-point range and finished the game 4-of-33 from beyond the arc in game 7, which is the second-worst three-point percentage in a playoff game ever with 30-plus attempts. Antetokounmpo would become the first player with 200 points, 100 rebounds, and 50 assists in a playoff series.\n",
    "\n",
    "This was the eighth playoff meeting between these two teams, with the Celtics winning five of the first seven meetings.\n",
    "\n",
    "Western Conference semifinals\n",
    "(1) Phoenix Suns vs. (4) Dallas Mavericks\n",
    "After jumping to a 9–0 lead in the opening minutes, the Suns never trailed in the game as they beat the Mavericks for the 10th straight time, dating back to 2019. All five Suns starters scored in double figures, with Deandre Ayton leading the way with 25 points. Luka Dončić led the Mavericks with 45 points, 12 rebounds and eight assists, but no other Mavericks starter scored more than 15 points.\n",
    " Leading 89–83 entering the fourth quarter, the Suns exploded on offense, shooting 84% from the field (16-of-19) and outscoring Dallas 40–26. Chris Paul and Devin Booker combined for 58 points, with Paul scoring 14 of his 28 in the fourth quarter, as the Suns shot a franchise playoff-record 64.5% from the field. Luka Dončić scored 35 points, but only one other starter for the Mavericks scored more than 9 points.\n",
    " After struggling in the first two games of the series, Jalen Brunson scored 28 points and helped the Mavericks snap an 11-game losing streak against the Suns. Luka Dončić also had 26 points to go with 13 rebounds and nine assists, one assist shy of his fourth-career playoff triple-double. For the Suns, Chris Paul struggled on his 37th birthday, committing seven turnovers in the first half, the most turnovers Paul's ever had in any half in his career.\n",
    " The Mavericks tied the series thanks to a playoff career high from Dorian Finney-Smith, who scored 24 points on 8-of-12 from three-point range. Dallas matched its 20 three-pointers (20-of-44) from a similar Mother's Day rout of the Los Angeles Lakers in 2011, a win that completed a four-game sweep in the second round. Devin Booker scored 35 points for the Suns, but Chris Paul was in foul trouble the majority of the game, eventually fouling out early in the fourth quarter, finishing the game with 5 points and 6 fouls.\n",
    " After leading by 3 coming out of halftime, the Suns outscored the Mavericks 61–34, including a 17–0 run in the third quarter as the Suns won their fourth consecutive playoff game at home. Devin Booker led the Suns in points with 28, bringing his playoff career total to 804 points in 30 career playoff games. Luka Dončić finished with 28 points and 11 rebounds and Jalen Brunson added 21 points. However, the Mavericks shot just 38% from the field as a team, making just 9 assists, the lowest number of assists by a team in the playoffs since 2016.\n",
    "During the final seconds of the game, Suns center Bismack Biyombo was fouled on a dunk attempt by Mavericks forward Marquese Chriss. The two had a verbal altercation after the foul, and both players were subsequently ejected. After he was ejected, Chriss ran into the same tunnel that Biyombo had gone into, and the two exchanged further words. Security guards and Mavericks center Boban Marjanović helped separate the two players from each other.\n",
    "\n",
    " After previously going 0–2 in elimination games in his career, Luka Dončić scored 33 points and 11 rebounds to help the Mavericks force a game 7, with Dallas going on a decisive 19–5 run to finish the first half. Devin Booker scored 19 points, but was shut out from 3-point range (0-of-4) and committed a season-high eight turnovers, with the Suns shooting a playoff-low 40% with 22 turnovers, also a playoff-worst. Chris Paul also struggled, having more turnovers (5) than assists (4) for the second time in the last four games.\n",
    " This was the Suns' first game 7 since the 2006 Western Conference semifinals. In a series where every home team won their game, game 7 had a different outcome. The Mavericks dominated the entire game, never giving the Suns the lead, eventually going into halftime leading 57–27; the halftime deficit of 30 being the largest in game 7 history. The lead would later grow to as much as 46 as the Mavericks upset the Suns in 7 games, and advanced to the Western Conference finals for the first time since their championship run in 2011.\n",
    "Luka Dončić shined in the victory with a double-double (35 points, 10 rebounds, and 4 assists), while Jalen Brunson and Spencer Dinwiddie scored 24 and 30 points, respectively. Devin Booker had 11 points, and Chris Paul had 10 points and 4 assists as the duo were held to a combined 7-for-22 from the field. Chris Paul also became the first player ever to be on five teams that blew 2–0 leads in a best-of-7 series, along with losing his 4th consecutive game 7.\n",
    "\n",
    "This was the third playoff meeting between these two teams, with each team winning one series.\n",
    "\n",
    "(2) Memphis Grizzlies vs. (3) Golden State Warriors\n",
    "Klay Thompson hit a go-ahead 3-pointer with 36 seconds left, and the Warriors overcame Draymond Green's first-half ejection to edge the Grizzlies 117–116. Jordan Poole led the Warriors with a career-high 31 points off the bench, hitting a playoff-best 5-of-10 3-pointers. Jaren Jackson Jr. matched his season high with six 3-pointers and had a playoff career-high 33 points. Ja Morant also led the team with 34 points and 10 assists, but missed the potential go-ahead layup as time expired.\n",
    " Ja Morant scored 47 points to match his postseason high and tie the series with a 106–101 victory over the Warriors. Morant scored the last 15 points for Memphis, starting with 4:16 left, along with hitting a 7-foot jumper with 1:42 left to permanently give Memphis the lead. Morant also became the third player in league history to have multiple 45-point games in the postseason before turning 23, joining LeBron James and Kobe Bryant.\n",
    " The Warriors scored over 140 points in a playoff game for the first time since 1967 as they routed the Grizzlies 142–112. Stephen Curry scored 30 points, Klay Thompson had 21 and nine rebounds and Golden State shut down the Memphis supporting cast, with no other Grizzlies player besides Ja Morant scoring more than 16 points. Morant had 34 points prior to injuring his right knee midway through the fourth quarter.\n",
    " With Warriors head coach Steve Kerr out after testing positive for COVID-19 and Ja Morant out for Memphis after injuring his right knee, Mike Brown took over head coaching duties for the Warriors and led Golden State on an 11–5 run to end the game, with Stephen Curry converting eight free throws over the final 45.7 seconds to finish the game with 32 points. The Warriors scored 39 points in the fourth, topping their 38 the entire first half. Jaren Jackson Jr. and Dillon Brooks combined for 33 points for the Grizzlies, but shot a combined 12-of-40 (30%) from the field.\n",
    " Facing elimination at home and their star Ja Morant doubtful for the remainder of the playoffs, the Grizzlies dominated game 5, leading by as much as 55 points at one point. Jaren Jackson Jr., Desmond Bane and Tyus Jones each scored 21 points as Memphis set a new record for widest margin of victory in a game in Grizzlies playoff history, as well as the widest margin of victory in the 2022 playoffs. The Warriors also lost for the first time with assistant Mike Brown filling in for coach Steve Kerr, who missed his second straight game since testing positive for COVID prior to game 4. Klay Thompson and Stephen Curry combined for 33 points, but Golden State turned the ball over 22 times, the most turnovers they had had in a game since 2014.\n",
    " Klay Thompson knocked down eight 3-pointers en route to 30 points and Stephen Curry scored 29 with six 3-pointers to send the Warriors to the Western Conference finals for the sixth time in the last eight years. Draymond Green also contributed 14 points, 15 rebounds and eight assists, along with Kevon Looney returning to the starting lineup and grabbing 22 rebounds, a career high. The Warriors also out-rebounded the Grizzlies 70–44, becoming the first team to grab 70-plus rebounds in a playoff game since 1983 and have 25 offensive rebounds, the most since 1987.\n",
    "\n",
    "This was the second playoff meeting between the two teams, with the Warriors winning the first meeting.\n",
    "\n",
    "Conference finals\n",
    "Note: Times are EDT (UTC−4) as listed by the NBA. If the venue is located in a different time zone, the local time is also given.\n",
    "\n",
    "Eastern Conference finals\n",
    "(1) Miami Heat vs. (2) Boston Celtics\n",
    "Jimmy Butler scored 27 of his 41 points in the second half, and a huge third quarter by the Heat—in which Butler outscored the Celtics by himself—carried them to an 118–107 win. Jayson Tatum had 29 points and Jaylen Brown had 24, but were without starters Marcus Smart (foot) and Al Horford (health and safety protocols). Along with being outscored 39–14 in the third quarter, Boston failed to score a field goal in the first six minutes of the second half—the slowest start to a half in any of the Celtics' 94 games this season.\n",
    " Jayson Tatum scored 27 points, Marcus Smart and Jaylen Brown each had 24 as the Celtics went on a massive first-half run to roll past the Heat on the road. Boston used a 17–0 run late in the first quarter—fueled by five 3-pointers in the span of six possessions—to take control. Smart was also a rebound shy of a triple-double, after adding 12 assists and nine rebounds. Jimmy Butler had 29 points in 32 minutes, but no other player for Miami scored more than 14 points as the Heat suffered their first loss at home in these playoffs.\n",
    " After a blowout loss in Miami that cost them home-court advantage in the Eastern Conference finals, the Heat jumped to a 26-point first-half lead over the Celtics in game 3. Bam Adebayo scored 31 points with 10 rebounds, filling a void left by injured all-star Jimmy Butler, while also putting up six assists and four of the Heat's franchise postseason record 19 steals. The Celtics never led, but they cut a 46–20 deficit to 1 point on a 3-pointer from Jaylen Brown, who finished with 40 points.\n",
    " Despite being without Marcus Smart due to a right ankle sprain, the Celtics jumped out to a 26–4 first quarter lead and never trailed en route to dominating the Heat in game 4. Jayson Tatum led all scorers with 31 points, and Al Horford was masterful defensively for the Celtics, grabbing 13 rebounds and blocking four shots.\n",
    "For Miami, they scored just 52 points in the first three quarters, with the Heat not successfully making a shot from the field until 3:21 left in the first quarter, the longest drought without a field goal to start a playoff game in the last 25 years. Victor Oladipo also came off the bench and outscored the entire Miami starting lineup, with the 18 points from the Heat starting five being the fewest points scored by a team's starters in a playoff game since starters were first tracked in 1971, and the first time an entire starting lineup was outscored by a player from its own bench.\n",
    "\n",
    " With Marcus Smart returning to the starting lineup for Boston and Tyler Herro ruled out for Miami due to a groin injury, the first half was a low-scoring affair with the score at halftime 42–37 in favor of the Heat. The game remained close until the 3rd quarter with 2:44 left. As the Celtics were ahead 59–58, they increased their lead with a 24–2 run which continued into the 4th quarter, eventually putting the game away as the Celtics became one game away from advancing to their first NBA Finals in 12 years. Jaylen Brown led the Celtics with 25 points while Jayson Tatum secured a double-double with 22 points, 12 rebounds and nine assists. Tatum (24 years and 83 days old) became the second-youngest player in NBA history to reach 1,500 playoff points.\n",
    "Meanwhile, the Heat shot 7-of-45 (15.6%) from three in game 5, which was the second-lowest three-point field goal percentage in NBA playoff history with 40-plus attempts. The Miami backcourt also struggled as Kyle Lowry and Max Strus went a combined 0-of-15 in the game, which was the worst \"zero-fer\" for a starting backcourt in a playoff game since starters were officially tracked in 1971.\n",
    "\n",
    " Coming into the game, many fans and experts believed that the season for the Heat was going to end after their lackluster performances in games 4 and 5, with Golden State Warriors player Draymond Green stating \"We're going to play Boston\" in response to who he would rather face in the 2022 NBA Finals.\n",
    "With Miami facing elimination, Jimmy Butler scored a playoff career-high 47 points (shooting 16-for-29) to go with 9 rebounds, 8 assists, and four steals as the Heat forced a game 7. Kyle Lowry also had his best game of the series, scoring 18 points and 10 assists before fouling out late in the fourth quarter. For Boston, Jayson Tatum had 30 points and nine rebounds, while Derrick White came off the bench to score 11 of his 22 points in the fourth quarter. Jaylen Brown also scored 20 points for Boston, but missed a crucial pair of free throws with the game tied at 99 as the Heat finished the game on a 17–6 run.\n",
    "Many fans and media members compared Butler's performance to that of LeBron James when he was with the Heat during game 6 of the 2012 Eastern Conference finals (also against the Celtics), in which he scored 45 points, 15 rebounds & five assists on the road while facing elimination.\n",
    "\n",
    " Boston opened up on a 12–3 run and had a 15-point lead after one quarter. The Celtics led by 17 early in the second quarter, but the Heat would pull within 6 by halftime. The Heat cut the lead to 2 early in the third, but the Celtics responded to every second-half Miami rally, leading by as many as 14. Although the Heat cut the lead to just 3 points with 10 minutes left, the Celtics rebuilt their lead, and were up 98–85 with 3:25 left. The Heat then went on a furious 11–0 run in 3 minutes, bringing the score to 98–96. After Marcus Smart missed a driving layup with 20 seconds left, the Heat had a chance to tie or take the lead. However, Jimmy Butler missed a three-point shot, and Al Horford grabbed the defensive rebound, leading to two free throws that made it a 4-point game with 11 seconds to go. The Heat failed to score, and the Celtics won 100–96, with Boston never trailing in the game.\n",
    "With the win, the Celtics advanced to the NBA Finals for the first time since 2010 and for the 22nd time in their franchise history. Horford, in his 15th season, shed a record for the most playoff games without an NBA Finals appearance, at 141.\n",
    "Jayson Tatum won the inaugural Eastern Conference finals MVP award, averaging 25.0 points, 8.3 rebounds, and 5.6 assists on 46% from the field, 35% from beyond the arc, and 86% from the free throw line.\n",
    "Notably, Mark Jones filled-in for Mike Breen as play-by-play commentator in game 7, with Jeff Van Gundy and Mark Jackson intact as analysts; Breen was out due to a positive COVID-19 test. Originally, Jones was to call the game on ESPN Radio with Doris Burke. However, with changes in the commentary team, Marc Kestecher joined Burke on ESPN Radio. game 7 was also the most watched conference finals game on ESPN in four years, averaging 9.9 million viewers and peaking at 12.1 million viewers.\n",
    "\n",
    "This was the fifth playoff meeting between the two teams, with the Heat winning three of the first four meetings.\n",
    "\n",
    "Western Conference finals\n",
    "(3) Golden State Warriors vs. (4) Dallas Mavericks\n",
    "Stephen Curry had 21 points and a game-high 12 rebounds, while Jordan Poole and Andrew Wiggins both scored 19 as the Warriors took game 1 at home, with Golden State holding Dallas to their lowest field goal percentage of the playoffs (36.0%). Luka Dončić led the Mavericks with 20 points, but shot just 6-of-18 from the field, along with scoring just two points and committing six turnovers in the second half as the Mavericks lost their third straight game 1 of the playoffs.\n",
    " Luka Dončić had 18 points in the first quarter, and 42 points total. His 3-pointer with 13 seconds before halftime—the Mavs' 15th of the first half—made it 72–58 at the break. Although they trailed by 19 at one point, Golden State answered with a 25–13 third quarter to pull to 85–83 going into fourth. The Warriors would not look back from there, shooting 78.9% in the fourth quarter as Golden State outscored Dallas 68–45 in the second half. Stephen Curry scored 32 points with six 3-pointers and eight rebounds, while Kevon Looney had a career-high 21 points and 12 rebounds.\n",
    " Stephen Curry scored 31 points, while Andrew Wiggins's playoff career-high 27 points helped Golden State beat the Mavericks to take a 3–0 lead in the Western Conference finals. Luka Dončić scored 40 points and shot 4-for-9 from beyond the arc, but that was a blip on an otherwise rough night from 3-point range for the Mavericks, who missed their first seven and finished 13-of-45 (28.9%).\n",
    "The game is notable for a highlight play that occurred with 6:40 left in the 4th quarter with the score 91–83 in favor of the Warriors. Stephen Curry passed the ball to Andrew Wiggins who drove down the baseline to dunk, posterizing Luka Dončić. The play was controversially called an offensive foul on Wiggins (which would have nullified the dunk), but the call was reversed to no foul and a good basket after a successful challenge by Warriors coach Steve Kerr.\n",
    "\n",
    " With the Warriors having a chance to sweep and head to the NBA Finals, the Mavericks dominated the entire game after the 1st quarter, going on a 25–6 run in a span of 7 minutes during the 2nd quarter, eventually leading 62–47 by halftime, and increasing the lead by 29 by the 4th quarter. The Warriors, however, thanks in part to Jonathan Kuminga and Moses Moody, rallied a comeback attempt, decreasing the deficit to 8 with 3:23 left in the 4th quarter, resulting in Steve Kerr to bring back in his starters. However, the Mavericks would silence the rally, keeping their season alive and forcing a fifth game in San Francisco. Luka Dončić scored a near triple-double with 30 points, 14 rebounds and nine assists. Stephen Curry scored 20 points and eight assists, while Jonathan Kuminga grabbed eight rebounds.\n",
    " After tearing his left ACL in the 2019 NBA Finals and then tearing his right Achilles' tendon just before the start of the 2020–21 season, Klay Thompson helped send the Warriors to their sixth NBA Finals in the last eight years, scoring 32 points and shooting 8-for-16 from 3-point range. Kevon Looney also scored 10 points and grabbed 18 rebounds, finishing the game with more offensive rebounds (7) than the Mavericks (6).\n",
    "Stephen Curry was awarded the inaugural Western Conference finals MVP award, averaging 23.8 points, 6.6 rebounds, and 7.4 assists on 44% from the field, 44% from beyond the arc, and 84% from the free throw line.\n",
    "\n",
    "This was the second playoff meeting between these two teams, with the Warriors winning the first meeting.\n",
    "\n",
    "NBA Finals: (W3) Golden State Warriors vs. (E2) Boston Celtics\n",
    "Note: Times are EDT (UTC−4) as listed by the NBA. If the venue is located in a different time zone, the local time is also given.\n",
    "\n",
    "This was the fifth playoff meeting between the two teams, and the second since the Philadelphia Warriors relocated to the Bay Area in 1962, with the Celtics winning the first four meetings.\n",
    "\n",
    "Statistical leaders\n",
    "Media coverage\n",
    "Television\n",
    "ESPN, ABC, TNT, and NBA TV broadcast the playoffs nationally in the United States. Regional sports networks affiliated with teams also broadcast first-round games, except for those weekend games televised on ABC.\n",
    "During the first two rounds, Sunday through Wednesday night games were primarily on TNT, Friday night games on ESPN, and Sunday afternoon games on ABC. Exceptions on those days included a Sunday afternoon game on TNT during the first weekend of the playoffs, ESPN televising one Sunday afternoon game in place of ABC due to F1 coverage, and ABC broadcasting one Friday night first-round game. NBA TV also televised selected Monday through Thursday night games in the first round and served as the overflow of any games televised on TNT (except when games on NBA TV and TNT at the same time in which TBS served as the overflow broadcaster). For Thursday night games, TNT aired them in the first round and ESPN in the second round. Saturday first-round games were spilt, with TNT only airing two games due to no game 7s in that round, ESPN five games, and ABC one game. ABC then aired all Saturday second-round games (except two second-round game 1s on TNT in place of no game 7s in the first round). ESPN/ABC had exclusive coverage of the Eastern Conference finals while TNT had exclusive coverage of the Western Conference finals. ABC had exclusive coverage of the NBA Finals for the 20th straight year.\n",
    "In Canada, the home market of the Toronto Raptors, national broadcast rights were split approximately equally between the Sportsnet and TSN groups of channels. Under those rights, the two broadcasters were allowed to produce separate Canadian feeds for all games involving the Raptors regardless of round or U.S. broadcaster. Sportsnet and TSN general simulcast the ABC, ESPN, TNT or NBA TV feed for all other series.\n",
    "\n",
    "Sponsorship\n",
    "As part of a new multiyear agreement with Google Pixel, the playoffs were officially known as the 2022 NBA Playoffs presented by Google Pixel. which will be the first-ever playoff tournament to be title sponsored.\n",
    "\n",
    "Notes\n",
    "See also\n",
    "List of NBA regular season records\n",
    "\n",
    "References\n",
    "External links\n",
    "\n",
    "Basketball – Reference.com's 2022 Playoffs section\n",
    "An error occurred: 'NoneType' object is not subscriptable\n",
    "Bot: I couldn't retrieve any information. Please try again later.\n",
    "'''"
   ]
  },
  {
   "cell_type": "code",
   "execution_count": 53,
   "id": "4ac61c8f-41c5-443f-9103-952e7f7c44f3",
   "metadata": {},
   "outputs": [
    {
     "name": "stdout",
     "output_type": "stream",
     "text": [
      "An error occurred: 'NoneType' object is not subscriptable\n"
     ]
    }
   ],
   "source": [
    "chat_with_openai(str_prompt[:10000])"
   ]
  },
  {
   "cell_type": "markdown",
   "id": "74a47941-a59f-46bf-aa62-c0192218ca89",
   "metadata": {},
   "source": [
    "# Summarizing the NBA Playoffs datasets"
   ]
  },
  {
   "cell_type": "code",
   "execution_count": 61,
   "id": "4d24ba77-695b-48fc-a648-965750db6aba",
   "metadata": {},
   "outputs": [],
   "source": [
    "import tiktoken\n",
    "\n",
    "def split_into_chunks(text, max_tokens=2000, model=\"gpt-4\"):\n",
    "    tokenizer = tiktoken.encoding_for_model(model)\n",
    "    tokens = tokenizer.encode(text)\n",
    "    chunks = [tokens[i:i+max_tokens] for i in range(0, len(tokens), max_tokens)]\n",
    "    return [tokenizer.decode(chunk) for chunk in chunks]\n",
    "\n",
    "def chat_with_openai(messages):\n",
    "    try:\n",
    "        response = client.chat.completions.create(\n",
    "            model=\"gpt-4\",\n",
    "            messages=messages,\n",
    "        )\n",
    "        return response.choices[0].message.content\n",
    "    except Exception as e:\n",
    "        print(f\"An error occurred: {e}\")\n",
    "        return None\n",
    "\n",
    "def summarize_large_text(text, max_tokens=2000, model=\"gpt-4\"):\n",
    "    chunks = split_into_chunks(text, max_tokens=max_tokens, model=model)\n",
    "    summaries = []\n",
    "    for i, chunk in enumerate(chunks):\n",
    "        print(f\"Processing chunk {i+1} of {len(chunks)}...\")\n",
    "        messages = [\n",
    "            {\"role\": \"system\", \"content\": \"You are a helpful assistant that summarizes text.\"},\n",
    "            {\"role\": \"user\", \"content\": f\"Summarize the following text:\\n{chunk}\"}\n",
    "        ]\n",
    "        summary = chat_with_openai(messages)\n",
    "        summaries.append(summary)\n",
    "    return \" \".join(summaries)\n",
    "\n",
    "def final_summarization(summaries, model=\"gpt-4\"):\n",
    "    messages = [\n",
    "        {\"role\": \"system\", \"content\": \"You are a helpful assistant creating concise summaries.\"},\n",
    "        {\"role\": \"user\", \"content\": f\"Summarize the following text:\\n{summaries}\"}\n",
    "    ]\n",
    "    return chat_with_openai(messages)"
   ]
  },
  {
   "cell_type": "code",
   "execution_count": 62,
   "id": "7c217884-5adf-41e7-86f8-ffcdb5b13425",
   "metadata": {},
   "outputs": [
    {
     "name": "stdout",
     "output_type": "stream",
     "text": [
      "Processing chunk 1 of 7...\n",
      "Processing chunk 2 of 7...\n",
      "Processing chunk 3 of 7...\n",
      "Processing chunk 4 of 7...\n",
      "Processing chunk 5 of 7...\n",
      "Processing chunk 6 of 7...\n",
      "Processing chunk 7 of 7...\n",
      "Final Summary:\n",
      "The 2022 NBA playoffs concluded with the Boston Celtics and the Golden State Warriors advancing to the NBA Finals, marking their first appearances since 2010 and 2015 respectively. The Phoenix Suns and the Miami Heat had entered the playoffs with the best records but the Miami Heat did not advance to the finals. The Denver Nuggets secured the sixth seed spot while the Minnesota Timberwolves were pushed to the play-in tournament. In various series, numerous players stood out including Chris Paul for the Suns, Ja Morant for the Grizzlies, Stephen Curry for the Warriors, and Luka Dončić for the Mavericks. Despite impressive performances from many players, the Celtics and Warriors advanced to the NBA Finals, with Jayson Tatum and Stephen Curry respectively earning the MVP awards. However, the text does not reveal the final champion or finals MVP. The games were broadcast through multiple networks and sponsored by Google Pixel under a new multiyear agreement.\n"
     ]
    }
   ],
   "source": [
    "# Example Usage\n",
    "large_text = \"Your very large text here...\"\n",
    "summaries = summarize_large_text(str_prompt)\n",
    "final_summary = final_summarization(summaries)\n",
    "print(f\"Final Summary:\\n{final_summary}\")"
   ]
  },
  {
   "cell_type": "code",
   "execution_count": null,
   "id": "bb3192b1-ac20-4e1a-8ef0-5aea0508861d",
   "metadata": {},
   "outputs": [],
   "source": []
  }
 ],
 "metadata": {
  "kernelspec": {
   "display_name": "Python 3 (ipykernel)",
   "language": "python",
   "name": "python3"
  },
  "language_info": {
   "codemirror_mode": {
    "name": "ipython",
    "version": 3
   },
   "file_extension": ".py",
   "mimetype": "text/x-python",
   "name": "python",
   "nbconvert_exporter": "python",
   "pygments_lexer": "ipython3",
   "version": "3.10.12"
  }
 },
 "nbformat": 4,
 "nbformat_minor": 5
}
