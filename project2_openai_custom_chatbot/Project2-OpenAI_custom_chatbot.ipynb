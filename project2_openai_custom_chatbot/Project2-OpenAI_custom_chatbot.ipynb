{
 "cells": [
  {
   "cell_type": "markdown",
   "id": "25353740-b538-43d3-8156-3bd2fce1ab6f",
   "metadata": {},
   "source": [
    "# Accessing OpenAI through Vocareum API keys"
   ]
  },
  {
   "cell_type": "code",
   "execution_count": 2,
   "id": "0162c1d2-8c53-4b70-975e-76e55787ba1b",
   "metadata": {},
   "outputs": [],
   "source": [
    "import openai\n",
    "openai.api_base = \"https://openai.vocareum.com/v1\"\n",
    "openai.api_key = \"voc-8957811371266772085699678d66e1475c97.62448043\""
   ]
  },
  {
   "cell_type": "code",
   "execution_count": 4,
   "id": "ac7c6fa1-b7a8-48e0-b88f-357170a977a5",
   "metadata": {},
   "outputs": [
    {
     "data": {
      "text/plain": [
       "'https://openai.vocareum.com/v1'"
      ]
     },
     "execution_count": 4,
     "metadata": {},
     "output_type": "execute_result"
    }
   ],
   "source": [
    "openai.api_base"
   ]
  },
  {
   "cell_type": "code",
   "execution_count": 5,
   "id": "c90dcfe1-9242-418a-8e88-049761d89224",
   "metadata": {},
   "outputs": [],
   "source": [
    "from openai import OpenAI\n",
    "client = OpenAI(\n",
    "    base_url = openai.api_base,\n",
    "    api_key = openai.api_key\n",
    ")"
   ]
  },
  {
   "cell_type": "markdown",
   "id": "5efc67f2-755c-482e-80cf-d23745306065",
   "metadata": {},
   "source": [
    "# Exercise Chatbot Memory"
   ]
  },
  {
   "cell_type": "code",
   "execution_count": 6,
   "id": "2770703f-4573-4272-bf61-1bd7f98c20df",
   "metadata": {},
   "outputs": [],
   "source": [
    "import os\n",
    "import json\n",
    "import openai"
   ]
  },
  {
   "cell_type": "code",
   "execution_count": 7,
   "id": "9968bf22-fd84-4ea7-b3a1-fbf509168b71",
   "metadata": {},
   "outputs": [],
   "source": [
    "# decoding parameters\n",
    "TEMPERATURE = 0.0\n",
    "MAX_TOKENS = 3950\n",
    "TOP_P = 1.0"
   ]
  },
  {
   "cell_type": "code",
   "execution_count": 8,
   "id": "b21c56e0-c2a6-43e0-9c37-4d31803ca566",
   "metadata": {},
   "outputs": [],
   "source": [
    "SYSTEM_PROMPT = \"\"\"You expert at games of chance.\n",
    "End every response with double exclamation points!!\"\"\"\n",
    "\n",
    "USER_NAME = \"User\"\n",
    "AI_NAME = \"AI Assistant\"\n",
    "NEW_INTERACTION_DELIMITER = \"\\n\\n\""
   ]
  },
  {
   "cell_type": "markdown",
   "id": "20d272c5-40f0-4902-bf8b-a2fd77cd5a31",
   "metadata": {},
   "source": [
    "# Creating a chat bot with memory\n",
    "Using the basic `openai.Completion` API to understand where the memory \"lives\" in the prompt."
   ]
  },
  {
   "cell_type": "markdown",
   "id": "6d8d0f81-5ef7-43b8-9ba4-452c80410708",
   "metadata": {},
   "source": [
    "# Custom Chatbot Project"
   ]
  },
  {
   "cell_type": "markdown",
   "id": "af574acf-fd1c-40ac-9cd8-7e2a4ea89c66",
   "metadata": {},
   "source": [
    "TODO: In this cell, write an explanation of which dataset you have chosen and why it is appropriate for this task"
   ]
  },
  {
   "cell_type": "markdown",
   "id": "4c50366b-b318-463a-8193-372ffc2eb7f2",
   "metadata": {},
   "source": [
    "## Data Wrangling\n",
    "\n",
    "TODO: In the cells below, load your chosen dataset into a `pandas` dataframe with a column named `\"text\"`. This column should contain all of your text data, separated into at least 20 rows."
   ]
  },
  {
   "cell_type": "markdown",
   "id": "cb974d89-33f6-40bc-a8ab-f02236c36855",
   "metadata": {},
   "source": [
    "## Custom Query Completion\n",
    "\n",
    "TODO: In the cells below, compose a custom query using your chosen dataset and retrieve results from an OpenAI `Completion` model. You may copy and paste any useful code from the course materials."
   ]
  },
  {
   "cell_type": "markdown",
   "id": "07f4cbfb-dee9-479d-89f4-9d31cf2fe4a1",
   "metadata": {},
   "source": [
    "## Custom Performance Demonstration\n",
    "\n",
    "TODO: In the cells below, demonstrate the performance of your custom query using at least 2 questions. For each question, show the answer from a basic `Completion` model query as well as the answer from your custom query."
   ]
  },
  {
   "cell_type": "markdown",
   "id": "8ad4c265-eeda-41f4-8055-8dfd897d8598",
   "metadata": {},
   "source": [
    "### Question 1"
   ]
  },
  {
   "cell_type": "markdown",
   "id": "0491f116-57a1-4069-b82b-388ef498c254",
   "metadata": {},
   "source": [
    "### Question 2"
   ]
  },
  {
   "cell_type": "code",
   "execution_count": null,
   "id": "3df7a6e4-7c69-475b-94bf-f5841cc5e85e",
   "metadata": {},
   "outputs": [],
   "source": []
  }
 ],
 "metadata": {
  "kernelspec": {
   "display_name": "Python 3 (ipykernel)",
   "language": "python",
   "name": "python3"
  },
  "language_info": {
   "codemirror_mode": {
    "name": "ipython",
    "version": 3
   },
   "file_extension": ".py",
   "mimetype": "text/x-python",
   "name": "python",
   "nbconvert_exporter": "python",
   "pygments_lexer": "ipython3",
   "version": "3.12.8"
  }
 },
 "nbformat": 4,
 "nbformat_minor": 5
}
