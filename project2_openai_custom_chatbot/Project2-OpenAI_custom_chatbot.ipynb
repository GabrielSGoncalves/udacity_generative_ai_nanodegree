{
 "cells": [
  {
   "cell_type": "markdown",
   "id": "25353740-b538-43d3-8156-3bd2fce1ab6f",
   "metadata": {},
   "source": [
    "# Accessing OpenAI through Vocareum API keys"
   ]
  },
  {
   "cell_type": "code",
   "execution_count": 1,
   "id": "0162c1d2-8c53-4b70-975e-76e55787ba1b",
   "metadata": {},
   "outputs": [],
   "source": [
    "import openai\n",
    "openai.api_base = \"https://openai.vocareum.com/v1\"\n",
    "openai.api_key = \"voc-8957811371266772085699678d66e1475c97.62448043\""
   ]
  },
  {
   "cell_type": "code",
   "execution_count": 6,
   "id": "de81a5fe-45b4-4843-91a2-9549cf3dd556",
   "metadata": {
    "scrolled": true
   },
   "outputs": [
    {
     "name": "stdout",
     "output_type": "stream",
     "text": [
      "Package                   Version\n",
      "------------------------- ----------------\n",
      "annotated-types           0.7.0\n",
      "anyio                     4.9.0\n",
      "APScheduler               3.11.0\n",
      "argon2-cffi               23.1.0\n",
      "argon2-cffi-bindings      21.2.0\n",
      "arrow                     1.3.0\n",
      "asttokens                 3.0.0\n",
      "async-lru                 2.0.5\n",
      "async-timeout             4.0.3\n",
      "attrs                     25.3.0\n",
      "babel                     2.17.0\n",
      "bcc                       0.18.0\n",
      "beautifulsoup4            4.13.3\n",
      "bleach                    6.2.0\n",
      "blinker                   1.4\n",
      "Brlapi                    0.8.3\n",
      "cachetools                5.4.0\n",
      "certifi                   2020.6.20\n",
      "cffi                      1.17.1\n",
      "chardet                   4.0.0\n",
      "charset-normalizer        3.4.1\n",
      "chrome-gnome-shell        0.0.0\n",
      "click                     8.0.3\n",
      "colorama                  0.4.4\n",
      "comm                      0.2.2\n",
      "command-not-found         0.3\n",
      "cryptography              3.4.8\n",
      "cupshelpers               1.0\n",
      "dbus-python               1.2.18\n",
      "debugpy                   1.8.13\n",
      "decorator                 5.2.1\n",
      "defer                     1.0.6\n",
      "defusedxml                0.7.1\n",
      "deprecation               2.1.0\n",
      "distlib                   0.3.9\n",
      "distro                    1.7.0\n",
      "docker                    5.0.3\n",
      "docker-compose            1.29.2\n",
      "dockerpty                 0.4.1\n",
      "docopt                    0.6.2\n",
      "exceptiongroup            1.2.2\n",
      "executing                 2.2.0\n",
      "fastjsonschema            2.21.1\n",
      "filelock                  3.17.0\n",
      "Flask                     2.2.2\n",
      "Flask-SQLAlchemy          3.0.3\n",
      "fqdn                      1.5.1\n",
      "greenlet                  3.1.1\n",
      "gyp                       0.1\n",
      "h11                       0.14.0\n",
      "hidpidaemon               18.4.6\n",
      "httpcore                  1.0.7\n",
      "httplib2                  0.20.2\n",
      "httpx                     0.28.1\n",
      "idna                      3.3\n",
      "importlib-metadata        4.6.4\n",
      "ipykernel                 6.29.5\n",
      "ipython                   8.34.0\n",
      "isoduration               20.11.0\n",
      "itsdangerous              2.2.0\n",
      "jedi                      0.19.2\n",
      "jeepney                   0.7.1\n",
      "Jinja2                    3.1.5\n",
      "jiter                     0.9.0\n",
      "json5                     0.10.0\n",
      "jsonpatch                 1.33\n",
      "jsonpointer               3.0.0\n",
      "jsonschema                4.23.0\n",
      "jsonschema-specifications 2024.10.1\n",
      "jupyter_client            8.6.3\n",
      "jupyter_core              5.7.2\n",
      "jupyter-events            0.12.0\n",
      "jupyter-lsp               2.2.5\n",
      "jupyter_server            2.15.0\n",
      "jupyter_server_terminals  0.5.3\n",
      "jupyterlab                4.3.6\n",
      "jupyterlab_pygments       0.3.0\n",
      "jupyterlab_server         2.27.3\n",
      "kernelstub                3.1.4\n",
      "keyring                   23.5.0\n",
      "lancedb                   0.21.2\n",
      "langchain                 0.3.21\n",
      "langchain-core            0.3.49\n",
      "langchain-text-splitters  0.3.7\n",
      "langsmith                 0.3.19\n",
      "language-selector         0.1\n",
      "launchpadlib              1.10.16\n",
      "lazr.restfulclient        0.14.4\n",
      "lazr.uri                  1.0.6\n",
      "louis                     3.20.0\n",
      "macaroonbakery            1.3.1\n",
      "MarkupSafe                3.0.2\n",
      "matplotlib-inline         0.1.7\n",
      "mistune                   3.1.3\n",
      "more-itertools            8.10.0\n",
      "nbclient                  0.10.2\n",
      "nbconvert                 7.16.6\n",
      "nbformat                  5.10.4\n",
      "nest-asyncio              1.6.0\n",
      "netaddr                   0.8.0\n",
      "netifaces                 0.11.0\n",
      "notebook_shim             0.2.4\n",
      "numpy                     2.0.1\n",
      "oauthlib                  3.2.0\n",
      "openai                    1.69.0\n",
      "orjson                    3.10.16\n",
      "overrides                 7.7.0\n",
      "packaging                 24.2\n",
      "pandas                    2.2.3\n",
      "pandocfilters             1.5.1\n",
      "parso                     0.8.4\n",
      "pexpect                   4.9.0\n",
      "pillow                    10.4.0\n",
      "pip                       25.0\n",
      "pipenv                    2024.4.1\n",
      "platformdirs              4.3.6\n",
      "pop-transition            1.1.2\n",
      "prometheus_client         0.21.1\n",
      "prompt_toolkit            3.0.50\n",
      "protobuf                  5.27.2\n",
      "psutil                    5.9.0\n",
      "psycopg2-binary           2.9.10\n",
      "ptyprocess                0.7.0\n",
      "pure_eval                 0.2.3\n",
      "pyarrow                   19.0.1\n",
      "pyasn1                    0.6.0\n",
      "pyasn1-modules            0.2.1\n",
      "pycairo                   1.20.1\n",
      "pycparser                 2.22\n",
      "pycups                    2.0.1\n",
      "pydantic                  2.11.0\n",
      "pydantic_core             2.33.0\n",
      "pydbus                    0.6.0\n",
      "Pygments                  2.19.1\n",
      "PyGObject                 3.42.1\n",
      "PyJWT                     2.3.0\n",
      "pymacaroons               0.13.0\n",
      "PyNaCl                    1.5.0\n",
      "pyparsing                 2.4.7\n",
      "pyRFC3339                 1.1\n",
      "pyrsistent                0.18.1\n",
      "python-apt                2.4.0+ubuntu4\n",
      "python-dateutil           2.9.0.post0\n",
      "python-debian             0.1.43+ubuntu1.1\n",
      "python-dotenv             0.19.2\n",
      "python-gnupg              0.4.8\n",
      "python-json-logger        3.3.0\n",
      "python-ldap               3.2.0\n",
      "python-xlib               0.29\n",
      "pytz                      2022.1\n",
      "pyxdg                     0.27\n",
      "PyYAML                    5.4.1\n",
      "pyzmq                     26.3.0\n",
      "referencing               0.36.2\n",
      "repolib                   2.2.1\n",
      "repoman                   1.4.0\n",
      "requests                  2.32.3\n",
      "requests-oauthlib         2.0.0\n",
      "requests-toolbelt         1.0.0\n",
      "rfc3339-validator         0.1.4\n",
      "rfc3986-validator         0.1.1\n",
      "rpds-py                   0.24.0\n",
      "SecretStorage             3.3.1\n",
      "Send2Trash                1.8.3\n",
      "sessioninstaller          0.0.0\n",
      "setuptools                75.8.0\n",
      "six                       1.16.0\n",
      "sniffio                   1.3.1\n",
      "soupsieve                 2.6\n",
      "SQLAlchemy                2.0.36\n",
      "ssh-import-id             5.11\n",
      "stack-data                0.6.3\n",
      "systemd-python            234\n",
      "tantivy                   0.22.2\n",
      "tenacity                  9.0.0\n",
      "terminado                 0.18.1\n",
      "texttable                 1.6.4\n",
      "tinycss2                  1.4.0\n",
      "tomli                     2.2.1\n",
      "tornado                   6.4.2\n",
      "tqdm                      4.67.1\n",
      "traitlets                 5.14.3\n",
      "types-python-dateutil     2.9.0.20241206\n",
      "typing_extensions         4.12.2\n",
      "typing-inspection         0.4.0\n",
      "tzdata                    2024.2\n",
      "tzlocal                   5.2\n",
      "ubuntu-drivers-common     0.0.0\n",
      "ufw                       0.36.1\n",
      "uri-template              1.3.0\n",
      "uritemplate               4.1.1\n",
      "urllib3                   1.26.5\n",
      "uv                        0.5.20\n",
      "vboxapi                   1.0\n",
      "virtualenv                20.29.1\n",
      "virtualenv-clone          0.3.0\n",
      "wadllib                   1.3.6\n",
      "watchdog                  4.0.1\n",
      "wcwidth                   0.2.13\n",
      "webcolors                 24.11.1\n",
      "webencodings              0.5.1\n",
      "websocket-client          1.8.0\n",
      "Werkzeug                  2.2.2\n",
      "wheel                     0.45.1\n",
      "Wikipedia-API             0.8.1\n",
      "xdg                       5\n",
      "xkit                      0.0.0\n",
      "zipp                      1.0.0\n",
      "zstandard                 0.23.0\n"
     ]
    }
   ],
   "source": [
    "!pip list"
   ]
  },
  {
   "cell_type": "code",
   "execution_count": 2,
   "id": "ac7c6fa1-b7a8-48e0-b88f-357170a977a5",
   "metadata": {},
   "outputs": [
    {
     "data": {
      "text/plain": [
       "'https://openai.vocareum.com/v1'"
      ]
     },
     "execution_count": 2,
     "metadata": {},
     "output_type": "execute_result"
    }
   ],
   "source": [
    "openai.api_base"
   ]
  },
  {
   "cell_type": "code",
   "execution_count": 3,
   "id": "c90dcfe1-9242-418a-8e88-049761d89224",
   "metadata": {},
   "outputs": [],
   "source": [
    "from openai import OpenAI\n",
    "client = OpenAI(\n",
    "    base_url = openai.api_base,\n",
    "    api_key = openai.api_key\n",
    ")"
   ]
  },
  {
   "cell_type": "markdown",
   "id": "6e865c6f-1a37-450c-9a80-2481434d4ed1",
   "metadata": {},
   "source": [
    "# Extracting data from Wikipedia"
   ]
  },
  {
   "cell_type": "code",
   "execution_count": 7,
   "id": "4d21b85d-0f98-4f74-9424-104f885c3ba7",
   "metadata": {},
   "outputs": [],
   "source": [
    "import wikipediaapi\n",
    "import openai\n",
    "import pandas as pd"
   ]
  },
  {
   "cell_type": "code",
   "execution_count": 8,
   "id": "349833e3-59f3-426f-b9a6-6b2de75c3c00",
   "metadata": {},
   "outputs": [],
   "source": [
    "wiki_wiki = wikipediaapi.Wikipedia('CustomChatbot (gabrielgoncalvesbr@gmail.com)', 'en')"
   ]
  },
  {
   "cell_type": "markdown",
   "id": "543bb682-ad8d-4b5f-b6ef-d8059033f48f",
   "metadata": {},
   "source": [
    "## Getting a list of all pages from a category"
   ]
  },
  {
   "cell_type": "code",
   "execution_count": 17,
   "id": "322dd2a4-62ee-45f1-98d0-3649483237c2",
   "metadata": {},
   "outputs": [],
   "source": [
    "def print_categorymembers(categorymembers, level=0, max_level=1):\n",
    "    for c in categorymembers.values():\n",
    "        print(\"%s: %s (ns: %d)\" % (\"*\" * (level + 1), c.title, c.ns))\n",
    "        if c.ns == wikipediaapi.Namespace.CATEGORY and level < max_level:\n",
    "            print_categorymembers(c.categorymembers, level=level + 1, max_level=max_level)\n"
   ]
  },
  {
   "cell_type": "code",
   "execution_count": 9,
   "id": "4556f5c4-e9c3-48b8-8ea6-bac000fbcf00",
   "metadata": {},
   "outputs": [],
   "source": [
    "page_py = wiki_wiki.page('Python_(programming_language)')"
   ]
  },
  {
   "cell_type": "code",
   "execution_count": 37,
   "id": "f57f0935-ca69-462e-a9ad-74a8211b1527",
   "metadata": {},
   "outputs": [],
   "source": [
    "def fetch_wikipedia_page(page_title):\n",
    "    page = wiki_wiki.page(page_title)\n",
    "    if page.exists():\n",
    "        return page.text\n",
    "    else:\n",
    "        return None"
   ]
  },
  {
   "cell_type": "code",
   "execution_count": 39,
   "id": "3dc2c179-4408-42d3-adcc-9dc1d01112db",
   "metadata": {},
   "outputs": [],
   "source": [
    "dict_nba_playoffs_pages = {}"
   ]
  },
  {
   "cell_type": "code",
   "execution_count": 40,
   "id": "f7a4a584-0d33-47eb-99be-9fce41e5432b",
   "metadata": {},
   "outputs": [
    {
     "name": "stdout",
     "output_type": "stream",
     "text": [
      "NBA playoffs\n",
      "1950 NBA playoffs\n",
      "1951 NBA playoffs\n",
      "1952 NBA playoffs\n",
      "1953 NBA playoffs\n",
      "1954 NBA playoffs\n",
      "1955 NBA playoffs\n",
      "1956 NBA playoffs\n",
      "1957 NBA playoffs\n",
      "1958 NBA playoffs\n",
      "1959 NBA playoffs\n",
      "1960 NBA playoffs\n",
      "1961 NBA playoffs\n",
      "1962 NBA playoffs\n",
      "1963 NBA playoffs\n",
      "1964 NBA playoffs\n",
      "1965 NBA playoffs\n",
      "1966 NBA playoffs\n",
      "1967 NBA playoffs\n",
      "1968 NBA playoffs\n",
      "1969 NBA playoffs\n",
      "1970 NBA playoffs\n",
      "1971 NBA playoffs\n",
      "1972 NBA playoffs\n",
      "1973 NBA playoffs\n",
      "1974 NBA playoffs\n",
      "1975 NBA playoffs\n",
      "1976 NBA playoffs\n",
      "1977 NBA playoffs\n",
      "1978 NBA playoffs\n",
      "1979 NBA playoffs\n",
      "1980 NBA playoffs\n",
      "1981 NBA playoffs\n",
      "1982 NBA playoffs\n",
      "1983 NBA playoffs\n",
      "1984 NBA playoffs\n",
      "1985 NBA playoffs\n",
      "1986 NBA playoffs\n",
      "1987 NBA playoffs\n",
      "1988 NBA playoffs\n",
      "1989 NBA playoffs\n",
      "1990 NBA playoffs\n",
      "1991 NBA playoffs\n",
      "1992 NBA playoffs\n",
      "1993 NBA playoffs\n",
      "1994 NBA playoffs\n",
      "1995 NBA playoffs\n",
      "1996 NBA playoffs\n",
      "1997 NBA playoffs\n",
      "1998 NBA playoffs\n",
      "1999 NBA playoffs\n",
      "2000 NBA playoffs\n",
      "2001 NBA playoffs\n",
      "2002 NBA playoffs\n",
      "2003 NBA playoffs\n",
      "2004 NBA playoffs\n",
      "2005 NBA playoffs\n",
      "2006 NBA playoffs\n",
      "2007 NBA playoffs\n",
      "2008 NBA playoffs\n",
      "2009 NBA playoffs\n",
      "2010 NBA playoffs\n",
      "2011 NBA playoffs\n",
      "2012 NBA playoffs\n",
      "2013 NBA playoffs\n",
      "2014 NBA playoffs\n",
      "2015 NBA playoffs\n",
      "2016 NBA playoffs\n",
      "2017 NBA playoffs\n",
      "2018 NBA playoffs\n",
      "2019 NBA playoffs\n",
      "2020 NBA playoffs\n",
      "2021 NBA playoffs\n",
      "2022 NBA playoffs\n",
      "2023 NBA playoffs\n",
      "2024 NBA playoffs\n",
      "2025 NBA playoffs\n",
      "Clutch City\n",
      "NBA conference finals\n",
      "List of NBA franchise postseason droughts\n",
      "List of NBA franchise postseason streaks\n",
      "List of NBA playoff series\n",
      "List of teams that have overcome 2–0 series deficits in a best-of-five series\n",
      "List of teams that have overcome 3–0 series deficits\n",
      "List of teams that have overcome 3–1 series deficits\n",
      "NBA 60 Greatest Playoff Moments\n",
      "List of NBA single-game playoff scoring leaders\n",
      "Template:NBA playoffs\n",
      "Category:Basketball Association of America playoffs\n",
      "Category:American Basketball Association playoffs\n",
      "Category:NBA playoff games\n"
     ]
    }
   ],
   "source": [
    "cat = wiki_wiki.page(\"Category:NBA playoffs\")\n",
    "for title in cat.categorymembers:\n",
    "    print(title)\n",
    "    dict_nba_playoffs_pages[title] = fetch_wikipedia_page(title)\n"
   ]
  },
  {
   "cell_type": "markdown",
   "id": "75504c8d-21c8-4eaf-bd5a-6c44610392d1",
   "metadata": {},
   "source": [
    "# Preparing the dataset"
   ]
  },
  {
   "cell_type": "code",
   "execution_count": 53,
   "id": "52e03a43-e96b-4e98-891d-746557dbd956",
   "metadata": {},
   "outputs": [
    {
     "data": {
      "text/plain": [
       "dict_keys(['NBA playoffs', '1950 NBA playoffs', '1951 NBA playoffs', '1952 NBA playoffs', '1953 NBA playoffs', '1954 NBA playoffs', '1955 NBA playoffs', '1956 NBA playoffs', '1957 NBA playoffs', '1958 NBA playoffs', '1959 NBA playoffs', '1960 NBA playoffs', '1961 NBA playoffs', '1962 NBA playoffs', '1963 NBA playoffs', '1964 NBA playoffs', '1965 NBA playoffs', '1966 NBA playoffs', '1967 NBA playoffs', '1968 NBA playoffs', '1969 NBA playoffs', '1970 NBA playoffs', '1971 NBA playoffs', '1972 NBA playoffs', '1973 NBA playoffs', '1974 NBA playoffs', '1975 NBA playoffs', '1976 NBA playoffs', '1977 NBA playoffs', '1978 NBA playoffs', '1979 NBA playoffs', '1980 NBA playoffs', '1981 NBA playoffs', '1982 NBA playoffs', '1983 NBA playoffs', '1984 NBA playoffs', '1985 NBA playoffs', '1986 NBA playoffs', '1987 NBA playoffs', '1988 NBA playoffs', '1989 NBA playoffs', '1990 NBA playoffs', '1991 NBA playoffs', '1992 NBA playoffs', '1993 NBA playoffs', '1994 NBA playoffs', '1995 NBA playoffs', '1996 NBA playoffs', '1997 NBA playoffs', '1998 NBA playoffs', '1999 NBA playoffs', '2000 NBA playoffs', '2001 NBA playoffs', '2002 NBA playoffs', '2003 NBA playoffs', '2004 NBA playoffs', '2005 NBA playoffs', '2006 NBA playoffs', '2007 NBA playoffs', '2008 NBA playoffs', '2009 NBA playoffs', '2010 NBA playoffs', '2011 NBA playoffs', '2012 NBA playoffs', '2013 NBA playoffs', '2014 NBA playoffs', '2015 NBA playoffs', '2016 NBA playoffs', '2017 NBA playoffs', '2018 NBA playoffs', '2019 NBA playoffs', '2020 NBA playoffs', '2021 NBA playoffs', '2022 NBA playoffs', '2023 NBA playoffs', '2024 NBA playoffs', '2025 NBA playoffs', 'Clutch City', 'NBA conference finals', 'List of NBA franchise postseason droughts', 'List of NBA franchise postseason streaks', 'List of NBA playoff series', 'List of teams that have overcome 2–0 series deficits in a best-of-five series', 'List of teams that have overcome 3–0 series deficits', 'List of teams that have overcome 3–1 series deficits', 'NBA 60 Greatest Playoff Moments', 'List of NBA single-game playoff scoring leaders', 'Template:NBA playoffs', 'Category:Basketball Association of America playoffs', 'Category:American Basketball Association playoffs', 'Category:NBA playoff games'])"
      ]
     },
     "execution_count": 53,
     "metadata": {},
     "output_type": "execute_result"
    }
   ],
   "source": [
    "dict_nba_playoffs_pages.keys()"
   ]
  },
  {
   "cell_type": "code",
   "execution_count": 55,
   "id": "2b0fc93d-5fe7-49e4-9851-c413ef6e4b10",
   "metadata": {},
   "outputs": [
    {
     "data": {
      "text/html": [
       "<div>\n",
       "<style scoped>\n",
       "    .dataframe tbody tr th:only-of-type {\n",
       "        vertical-align: middle;\n",
       "    }\n",
       "\n",
       "    .dataframe tbody tr th {\n",
       "        vertical-align: top;\n",
       "    }\n",
       "\n",
       "    .dataframe thead th {\n",
       "        text-align: right;\n",
       "    }\n",
       "</style>\n",
       "<table border=\"1\" class=\"dataframe\">\n",
       "  <thead>\n",
       "    <tr style=\"text-align: right;\">\n",
       "      <th></th>\n",
       "      <th>0</th>\n",
       "    </tr>\n",
       "  </thead>\n",
       "  <tbody>\n",
       "    <tr>\n",
       "      <th>NBA playoffs</th>\n",
       "      <td>The NBA playoffs is the annual elimination tou...</td>\n",
       "    </tr>\n",
       "    <tr>\n",
       "      <th>1950 NBA playoffs</th>\n",
       "      <td>The 1950 NBA playoffs was the postseason tourn...</td>\n",
       "    </tr>\n",
       "    <tr>\n",
       "      <th>1951 NBA playoffs</th>\n",
       "      <td>The 1951 NBA playoffs was the postseason tourn...</td>\n",
       "    </tr>\n",
       "    <tr>\n",
       "      <th>1952 NBA playoffs</th>\n",
       "      <td>The 1952 NBA playoffs was the postseason tourn...</td>\n",
       "    </tr>\n",
       "    <tr>\n",
       "      <th>1953 NBA playoffs</th>\n",
       "      <td>The 1953 NBA playoffs was the postseason tourn...</td>\n",
       "    </tr>\n",
       "  </tbody>\n",
       "</table>\n",
       "</div>"
      ],
      "text/plain": [
       "                                                                   0\n",
       "NBA playoffs       The NBA playoffs is the annual elimination tou...\n",
       "1950 NBA playoffs  The 1950 NBA playoffs was the postseason tourn...\n",
       "1951 NBA playoffs  The 1951 NBA playoffs was the postseason tourn...\n",
       "1952 NBA playoffs  The 1952 NBA playoffs was the postseason tourn...\n",
       "1953 NBA playoffs  The 1953 NBA playoffs was the postseason tourn..."
      ]
     },
     "execution_count": 55,
     "metadata": {},
     "output_type": "execute_result"
    }
   ],
   "source": [
    "df_playoffs = pd.DataFrame.from_dict(dict_nba_playoffs_pages, orient='index')#, columns=['title', 'text'])\n",
    "df_playoffs.head()"
   ]
  },
  {
   "cell_type": "code",
   "execution_count": 46,
   "id": "9204bcd0-2f92-4357-bbb2-a0f71c265ce7",
   "metadata": {},
   "outputs": [
    {
     "data": {
      "text/plain": [
       "91"
      ]
     },
     "execution_count": 46,
     "metadata": {},
     "output_type": "execute_result"
    }
   ],
   "source": [
    "len(dict_nba_playoffs_pages)"
   ]
  },
  {
   "cell_type": "code",
   "execution_count": null,
   "id": "11d0d1ae-d450-4738-9de8-bc46b1e521bb",
   "metadata": {},
   "outputs": [],
   "source": []
  },
  {
   "cell_type": "markdown",
   "id": "5efc67f2-755c-482e-80cf-d23745306065",
   "metadata": {},
   "source": [
    "# Exercise Chatbot Memory"
   ]
  },
  {
   "cell_type": "code",
   "execution_count": 6,
   "id": "2770703f-4573-4272-bf61-1bd7f98c20df",
   "metadata": {},
   "outputs": [],
   "source": [
    "import os\n",
    "import json\n",
    "import openai"
   ]
  },
  {
   "cell_type": "code",
   "execution_count": 7,
   "id": "9968bf22-fd84-4ea7-b3a1-fbf509168b71",
   "metadata": {},
   "outputs": [],
   "source": [
    "# decoding parameters\n",
    "TEMPERATURE = 0.0\n",
    "MAX_TOKENS = 3950\n",
    "TOP_P = 1.0"
   ]
  },
  {
   "cell_type": "code",
   "execution_count": 8,
   "id": "b21c56e0-c2a6-43e0-9c37-4d31803ca566",
   "metadata": {},
   "outputs": [],
   "source": [
    "SYSTEM_PROMPT = \"\"\"You expert at games of chance.\n",
    "End every response with double exclamation points!!\"\"\"\n",
    "\n",
    "USER_NAME = \"User\"\n",
    "AI_NAME = \"AI Assistant\"\n",
    "NEW_INTERACTION_DELIMITER = \"\\n\\n\""
   ]
  },
  {
   "cell_type": "markdown",
   "id": "20d272c5-40f0-4902-bf8b-a2fd77cd5a31",
   "metadata": {},
   "source": [
    "# Creating a chat bot with memory\n",
    "Using the basic `openai.Completion` API to understand where the memory \"lives\" in the prompt."
   ]
  },
  {
   "cell_type": "markdown",
   "id": "6d8d0f81-5ef7-43b8-9ba4-452c80410708",
   "metadata": {},
   "source": [
    "# Custom Chatbot Project"
   ]
  },
  {
   "cell_type": "markdown",
   "id": "af574acf-fd1c-40ac-9cd8-7e2a4ea89c66",
   "metadata": {},
   "source": [
    "TODO: In this cell, write an explanation of which dataset you have chosen and why it is appropriate for this task"
   ]
  },
  {
   "cell_type": "markdown",
   "id": "4c50366b-b318-463a-8193-372ffc2eb7f2",
   "metadata": {},
   "source": [
    "## Data Wrangling\n",
    "\n",
    "TODO: In the cells below, load your chosen dataset into a `pandas` dataframe with a column named `\"text\"`. This column should contain all of your text data, separated into at least 20 rows."
   ]
  },
  {
   "cell_type": "markdown",
   "id": "cb974d89-33f6-40bc-a8ab-f02236c36855",
   "metadata": {},
   "source": [
    "## Custom Query Completion\n",
    "\n",
    "TODO: In the cells below, compose a custom query using your chosen dataset and retrieve results from an OpenAI `Completion` model. You may copy and paste any useful code from the course materials."
   ]
  },
  {
   "cell_type": "markdown",
   "id": "07f4cbfb-dee9-479d-89f4-9d31cf2fe4a1",
   "metadata": {},
   "source": [
    "## Custom Performance Demonstration\n",
    "\n",
    "TODO: In the cells below, demonstrate the performance of your custom query using at least 2 questions. For each question, show the answer from a basic `Completion` model query as well as the answer from your custom query."
   ]
  },
  {
   "cell_type": "markdown",
   "id": "8ad4c265-eeda-41f4-8055-8dfd897d8598",
   "metadata": {},
   "source": [
    "### Question 1"
   ]
  },
  {
   "cell_type": "markdown",
   "id": "0491f116-57a1-4069-b82b-388ef498c254",
   "metadata": {},
   "source": [
    "### Question 2"
   ]
  },
  {
   "cell_type": "code",
   "execution_count": null,
   "id": "3df7a6e4-7c69-475b-94bf-f5841cc5e85e",
   "metadata": {},
   "outputs": [],
   "source": []
  }
 ],
 "metadata": {
  "kernelspec": {
   "display_name": "Python 3 (ipykernel)",
   "language": "python",
   "name": "python3"
  },
  "language_info": {
   "codemirror_mode": {
    "name": "ipython",
    "version": 3
   },
   "file_extension": ".py",
   "mimetype": "text/x-python",
   "name": "python",
   "nbconvert_exporter": "python",
   "pygments_lexer": "ipython3",
   "version": "3.10.12"
  }
 },
 "nbformat": 4,
 "nbformat_minor": 5
}
