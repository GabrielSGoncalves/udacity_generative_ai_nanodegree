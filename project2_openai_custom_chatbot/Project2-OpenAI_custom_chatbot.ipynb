{
 "cells": [
  {
   "cell_type": "markdown",
   "id": "25353740-b538-43d3-8156-3bd2fce1ab6f",
   "metadata": {},
   "source": [
    "# Accessing OpenAI through Vocareum API keys"
   ]
  },
  {
   "cell_type": "code",
   "execution_count": 34,
   "id": "0162c1d2-8c53-4b70-975e-76e55787ba1b",
   "metadata": {},
   "outputs": [],
   "source": [
    "import openai\n",
    "openai.api_base = \"https://openai.vocareum.com/v1\"\n",
    "openai.api_key = \"voc-8957811371266772085699678d66e1475c97.62448043\""
   ]
  },
  {
   "cell_type": "code",
   "execution_count": 37,
   "id": "4c6a824a-6fc4-482e-8f47-39be02cedde8",
   "metadata": {},
   "outputs": [
    {
     "name": "stdout",
     "output_type": "stream",
     "text": [
      "Arrr matey! If ye be wantin' to check if a Python object be an instance of a class, ye can use the good ol' `isinstance()` function. Here’s how ye do it, savvy?\n",
      "\n",
      "```python\n",
      "if isinstance(your_object, YourClass):\n",
      "    print(\"Ye object be an instance of the class!\")\n",
      "else:\n",
      "    print(\"That not be the class ye be lookin' for!\")\n",
      "```\n",
      "\n",
      "Replace `your_object` with the treasure ye be searchin’, and `YourClass` with the class ye be checkin’ against. This’ll tell ye if yer object matches the class or not. Yarrr!\n"
     ]
    }
   ],
   "source": [
    "from openai import OpenAI\n",
    "\n",
    "client = OpenAI(\n",
    "    api_key=\"voc-8957811371266772085699678d66e1475c97.62448043\",\n",
    "    base_url=\"https://openai.vocareum.com/v1\"\n",
    ")\n",
    "\n",
    "completion = client.chat.completions.create(\n",
    "    model=\"gpt-4o\",\n",
    "    messages=[\n",
    "        {\"role\": \"developer\", \"content\": \"Talk like a pirate.\"},\n",
    "        {\n",
    "            \"role\": \"user\",\n",
    "            \"content\": \"How do I check if a Python object is an instance of a class?\",\n",
    "        },\n",
    "    ],\n",
    ")\n",
    "\n",
    "print(completion.choices[0].message.content)"
   ]
  },
  {
   "cell_type": "code",
   "execution_count": 28,
   "id": "c90dcfe1-9242-418a-8e88-049761d89224",
   "metadata": {},
   "outputs": [],
   "source": [
    "from openai import OpenAI\n",
    "client = OpenAI(\n",
    "    base_url = openai.api_base,\n",
    "    api_key = openai.api_key\n",
    ")"
   ]
  },
  {
   "cell_type": "code",
   "execution_count": null,
   "id": "b0f0f838-0494-4f90-952b-0b2d79f03879",
   "metadata": {},
   "outputs": [],
   "source": []
  },
  {
   "cell_type": "code",
   "execution_count": 17,
   "id": "322dd2a4-62ee-45f1-98d0-3649483237c2",
   "metadata": {},
   "outputs": [],
   "source": [
    "def print_categorymembers(categorymembers, level=0, max_level=1):\n",
    "    for c in categorymembers.values():\n",
    "        print(\"%s: %s (ns: %d)\" % (\"*\" * (level + 1), c.title, c.ns))\n",
    "        if c.ns == wikipediaapi.Namespace.CATEGORY and level < max_level:\n",
    "            print_categorymembers(c.categorymembers, level=level + 1, max_level=max_level)\n"
   ]
  },
  {
   "cell_type": "markdown",
   "id": "6e865c6f-1a37-450c-9a80-2481434d4ed1",
   "metadata": {},
   "source": [
    "# Extracting data from Wikipedia"
   ]
  },
  {
   "cell_type": "markdown",
   "id": "543bb682-ad8d-4b5f-b6ef-d8059033f48f",
   "metadata": {},
   "source": [
    "## Getting a list of all pages from a Wikipedia category"
   ]
  },
  {
   "cell_type": "code",
   "execution_count": 4,
   "id": "4d21b85d-0f98-4f74-9424-104f885c3ba7",
   "metadata": {},
   "outputs": [],
   "source": [
    "import wikipediaapi\n",
    "import openai\n",
    "import pandas as pd\n",
    "import json\n",
    "import os"
   ]
  },
  {
   "cell_type": "code",
   "execution_count": 5,
   "id": "f57f0935-ca69-462e-a9ad-74a8211b1527",
   "metadata": {},
   "outputs": [],
   "source": [
    "def fetch_wikipedia_page(page_title):\n",
    "    page = wiki_wiki.page(page_title)\n",
    "    if page.exists():\n",
    "        return page.text\n",
    "    else:\n",
    "        return None"
   ]
  },
  {
   "cell_type": "code",
   "execution_count": 6,
   "id": "349833e3-59f3-426f-b9a6-6b2de75c3c00",
   "metadata": {},
   "outputs": [],
   "source": [
    "wiki_wiki = wikipediaapi.Wikipedia('CustomChatbot (gabrielgoncalvesbr@gmail.com)', 'en')"
   ]
  },
  {
   "cell_type": "code",
   "execution_count": 7,
   "id": "f2c0a98e-d20d-4ece-adac-f44e02ef3c43",
   "metadata": {},
   "outputs": [],
   "source": [
    "if os.path.exists(\"nba_playoffs_wikipedia.json\"):\n",
    "    # Read the JSON file and load it into the dictionary\n",
    "    with open(\"nba_playoffs_wikipedia.json\", \"r\", encoding=\"utf-8\") as json_file:\n",
    "        dict_nba_playoffs_pages = json.load(json_file)\n",
    "else:\n",
    "    dict_nba_playoffs_pages = {}\n",
    "    \n",
    "    cat = wiki_wiki.page(\"Category:NBA playoffs\")\n",
    "    for title in cat.categorymembers:\n",
    "        print(title)\n",
    "        page_result = fetch_wikipedia_page(title)\n",
    "        if page_result:\n",
    "            dict_nba_playoffs_pages[title] = page_result\n",
    "\n",
    "    with open(\"nba_playoffs_wikipedia.json\", \"w\", encoding=\"utf-8\") as json_file:\n",
    "        json.dump(dict_nba_playoffs_pages, json_file, ensure_ascii=False, indent=4)\n"
   ]
  },
  {
   "cell_type": "markdown",
   "id": "75504c8d-21c8-4eaf-bd5a-6c44610392d1",
   "metadata": {},
   "source": [
    "# Preparing the dataset"
   ]
  },
  {
   "cell_type": "code",
   "execution_count": 15,
   "id": "2b0fc93d-5fe7-49e4-9851-c413ef6e4b10",
   "metadata": {},
   "outputs": [
    {
     "data": {
      "text/html": [
       "<div>\n",
       "<style scoped>\n",
       "    .dataframe tbody tr th:only-of-type {\n",
       "        vertical-align: middle;\n",
       "    }\n",
       "\n",
       "    .dataframe tbody tr th {\n",
       "        vertical-align: top;\n",
       "    }\n",
       "\n",
       "    .dataframe thead th {\n",
       "        text-align: right;\n",
       "    }\n",
       "</style>\n",
       "<table border=\"1\" class=\"dataframe\">\n",
       "  <thead>\n",
       "    <tr style=\"text-align: right;\">\n",
       "      <th></th>\n",
       "      <th>title</th>\n",
       "      <th>text</th>\n",
       "    </tr>\n",
       "  </thead>\n",
       "  <tbody>\n",
       "    <tr>\n",
       "      <th>0</th>\n",
       "      <td>NBA playoffs</td>\n",
       "      <td>The NBA playoffs is the annual elimination tou...</td>\n",
       "    </tr>\n",
       "    <tr>\n",
       "      <th>1</th>\n",
       "      <td>1950 NBA playoffs</td>\n",
       "      <td>The 1950 NBA playoffs was the postseason tourn...</td>\n",
       "    </tr>\n",
       "    <tr>\n",
       "      <th>2</th>\n",
       "      <td>1951 NBA playoffs</td>\n",
       "      <td>The 1951 NBA playoffs was the postseason tourn...</td>\n",
       "    </tr>\n",
       "    <tr>\n",
       "      <th>3</th>\n",
       "      <td>1952 NBA playoffs</td>\n",
       "      <td>The 1952 NBA playoffs was the postseason tourn...</td>\n",
       "    </tr>\n",
       "    <tr>\n",
       "      <th>4</th>\n",
       "      <td>1953 NBA playoffs</td>\n",
       "      <td>The 1953 NBA playoffs was the postseason tourn...</td>\n",
       "    </tr>\n",
       "  </tbody>\n",
       "</table>\n",
       "</div>"
      ],
      "text/plain": [
       "               title                                               text\n",
       "0       NBA playoffs  The NBA playoffs is the annual elimination tou...\n",
       "1  1950 NBA playoffs  The 1950 NBA playoffs was the postseason tourn...\n",
       "2  1951 NBA playoffs  The 1951 NBA playoffs was the postseason tourn...\n",
       "3  1952 NBA playoffs  The 1952 NBA playoffs was the postseason tourn...\n",
       "4  1953 NBA playoffs  The 1953 NBA playoffs was the postseason tourn..."
      ]
     },
     "execution_count": 15,
     "metadata": {},
     "output_type": "execute_result"
    }
   ],
   "source": [
    "df_playoffs = pd.DataFrame.from_dict(\n",
    "    dict_nba_playoffs_pages, \n",
    "    orient='index', \n",
    "    columns=['text']#, 'text']\n",
    ").reset_index().rename(columns={'index': 'title'})\n",
    "df_playoffs.head()"
   ]
  },
  {
   "cell_type": "code",
   "execution_count": 16,
   "id": "a34ce390-f455-4f32-a975-883b79a07347",
   "metadata": {},
   "outputs": [
    {
     "data": {
      "text/html": [
       "<div>\n",
       "<style scoped>\n",
       "    .dataframe tbody tr th:only-of-type {\n",
       "        vertical-align: middle;\n",
       "    }\n",
       "\n",
       "    .dataframe tbody tr th {\n",
       "        vertical-align: top;\n",
       "    }\n",
       "\n",
       "    .dataframe thead th {\n",
       "        text-align: right;\n",
       "    }\n",
       "</style>\n",
       "<table border=\"1\" class=\"dataframe\">\n",
       "  <thead>\n",
       "    <tr style=\"text-align: right;\">\n",
       "      <th></th>\n",
       "      <th>title</th>\n",
       "      <th>text</th>\n",
       "    </tr>\n",
       "  </thead>\n",
       "  <tbody>\n",
       "    <tr>\n",
       "      <th>74</th>\n",
       "      <td>2023 NBA playoffs</td>\n",
       "      <td>The 2023 NBA playoffs was the postseason tourn...</td>\n",
       "    </tr>\n",
       "  </tbody>\n",
       "</table>\n",
       "</div>"
      ],
      "text/plain": [
       "                title                                               text\n",
       "74  2023 NBA playoffs  The 2023 NBA playoffs was the postseason tourn..."
      ]
     },
     "execution_count": 16,
     "metadata": {},
     "output_type": "execute_result"
    }
   ],
   "source": [
    "df_playoffs[df_playoffs['title'].str.contains(\"2023\")]"
   ]
  },
  {
   "cell_type": "code",
   "execution_count": 10,
   "id": "ab890d5a-133a-41c0-a4df-8b6de3ce92b0",
   "metadata": {},
   "outputs": [
    {
     "data": {
      "text/plain": [
       "RangeIndex(start=0, stop=1, step=1)"
      ]
     },
     "execution_count": 10,
     "metadata": {},
     "output_type": "execute_result"
    }
   ],
   "source": [
    "df_playoffs.columns"
   ]
  },
  {
   "cell_type": "markdown",
   "id": "6f461452-50cf-4ef8-8a37-c1cc9cc915bd",
   "metadata": {},
   "source": [
    "# Test Chatbot"
   ]
  },
  {
   "cell_type": "code",
   "execution_count": 29,
   "id": "853d4fc3-d741-4cbc-bac7-83a7bdcb1d7c",
   "metadata": {},
   "outputs": [],
   "source": [
    "import openai\n",
    "openai.api_base = \"https://openai.vocareum.com/v1\"\n",
    "openai.api_key = \"voc-8957811371266772085699678d66e1475c97.62448043\""
   ]
  },
  {
   "cell_type": "code",
   "execution_count": 28,
   "id": "71261283-0999-412a-8b54-0378ff622dee",
   "metadata": {},
   "outputs": [],
   "source": [
    "from openai import OpenAI\n",
    "client = OpenAI(\n",
    "    base_url = openai.api_base,\n",
    "    api_key = openai.api_key\n",
    ")"
   ]
  },
  {
   "cell_type": "code",
   "execution_count": null,
   "id": "3c9407a3-37fa-4b6f-a321-a356fa48186e",
   "metadata": {},
   "outputs": [],
   "source": [
    "from openai import OpenAI\n",
    "\n",
    "client = OpenAI(\n",
    "    api_key=\"voc-8957811371266772085699678d66e1475c97.62448043\",\n",
    "    base_url=\"https://openai.vocareum.com/v1\"\n",
    ")\n",
    "\n",
    "completion = client.chat.completions.create(\n",
    "    model=\"gpt-4o\",\n",
    "    messages=[\n",
    "        {\"role\": \"developer\", \"content\": \"Talk like a pirate.\"},\n",
    "        {\n",
    "            \"role\": \"user\",\n",
    "            \"content\": \"How do I check if a Python object is an instance of a class?\",\n",
    "        },\n",
    "    ],\n",
    ")"
   ]
  },
  {
   "cell_type": "code",
   "execution_count": 3,
   "id": "7b01018e-43ff-44b4-8200-77e26ac37f50",
   "metadata": {},
   "outputs": [],
   "source": [
    "from openai import OpenAI\n",
    "\n",
    "client = OpenAI(\n",
    "    api_key=\"voc-8957811371266772085699678d66e1475c97.62448043\",\n",
    "    base_url=\"https://openai.vocareum.com/v1\"\n",
    ")\n",
    "\n",
    "def chat_with_openai(messages):\n",
    "    \"\"\"\n",
    "    Sends a conversation to OpenAI and gets a response using the updated API.\n",
    "    \"\"\"\n",
    "    try:\n",
    "        response = client.chat.completions.create(\n",
    "            model=\"gpt-4\",  # Replace with \"gpt-4\" or \"gpt-3.5-turbo\" as needed\n",
    "            messages=messages\n",
    "        )\n",
    "        # Access the content of the response using dot notation\n",
    "        return response.choices[0].message.content\n",
    "    except Exception as e:\n",
    "        print(f\"An error occurred: {e}\")\n",
    "        return None\n",
    "\n",
    "def naive_OpenAI_chatbot():\n",
    "    \"\"\"\n",
    "    Starts the chatbot interaction.\n",
    "    \"\"\"\n",
    "    print(\"👋 Welcome to the NBA Playoffs Chatbot!\")\n",
    "    \n",
    "    # Initialize conversation history\n",
    "    conversation = [\n",
    "        {\"role\": \"system\", \"content\": \"You are a helpful assistant knowledgeable about NBA playoffs.\"}\n",
    "    ]\n",
    "    \n",
    "    # Ask the first question\n",
    "    year = input(\"Bot: Which NBA playoff year do you want to know about?\\nYou: \")\n",
    "    conversation.append({\"role\": \"user\", \"content\": f\"I want to know about the NBA playoffs in {year}.\"})\n",
    "    \n",
    "    # Ask the second question\n",
    "    info_type = input(\"Bot: What's the information you want to know about?\\nYou: \")\n",
    "    conversation.append({\"role\": \"user\", \"content\": f\"I want to know about {info_type} in the {year} NBA playoffs.\"})\n",
    "    \n",
    "    # Generate a response\n",
    "    print(\"Bot: Let me gather some information for you...\\n\")\n",
    "    \n",
    "    assistant_prompt = f\"Generate a detailed paragraph about {info_type} in the {year} NBA playoffs.\"\n",
    "    conversation.append({\"role\": \"assistant\", \"content\": assistant_prompt})\n",
    "    \n",
    "    response = chat_with_openai(conversation)\n",
    "    \n",
    "    if response:\n",
    "        # Display the generated paragraph\n",
    "        print(f\"Bot: Here's what I found:\\n{response}\\n\")\n",
    "        \n",
    "        # Confirm with the user\n",
    "        is_correct = input(\"Bot: Is this what you were searching for? (yes/no)\\nYou: \").strip().lower()\n",
    "        \n",
    "        if is_correct == 'yes':\n",
    "            print(\"Bot: I'm glad I could help! Let me know if there's anything else you'd like to know.\")\n",
    "        else:\n",
    "            print(\"Bot: I'm sorry it wasn't what you were looking for. Could you clarify or ask something else?\")\n",
    "            start_chatbot()  # Restart if needed\n",
    "    else:\n",
    "        print(\"Bot: I couldn't retrieve any information. Please try again later.\")\n"
   ]
  },
  {
   "cell_type": "code",
   "execution_count": 31,
   "id": "81a056bd-8447-4c81-a616-c30ade07e17f",
   "metadata": {},
   "outputs": [
    {
     "name": "stdout",
     "output_type": "stream",
     "text": [
      "👋 Welcome to the NBA Playoffs Chatbot!\n"
     ]
    },
    {
     "name": "stdin",
     "output_type": "stream",
     "text": [
      "Bot: Which NBA playoff year do you want to know about?\n",
      "You:  2022\n",
      "Bot: What's the information you want to know about?\n",
      "You:  Which team won and what's who was the finals MVP?\n"
     ]
    },
    {
     "name": "stdout",
     "output_type": "stream",
     "text": [
      "Bot: Let me gather some information for you...\n",
      "\n"
     ]
    },
    {
     "ename": "APIRemovedInV1",
     "evalue": "\n\nYou tried to access openai.ChatCompletion, but this is no longer supported in openai>=1.0.0 - see the README at https://github.com/openai/openai-python for the API.\n\nYou can run `openai migrate` to automatically upgrade your codebase to use the 1.0.0 interface. \n\nAlternatively, you can pin your installation to the old version, e.g. `pip install openai==0.28`\n\nA detailed migration guide is available here: https://github.com/openai/openai-python/discussions/742\n",
     "output_type": "error",
     "traceback": [
      "\u001b[0;31m---------------------------------------------------------------------------\u001b[0m",
      "\u001b[0;31mAPIRemovedInV1\u001b[0m                            Traceback (most recent call last)",
      "Cell \u001b[0;32mIn[31], line 1\u001b[0m\n\u001b[0;32m----> 1\u001b[0m \u001b[43mstart_chatbot\u001b[49m\u001b[43m(\u001b[49m\u001b[43m)\u001b[49m\n",
      "Cell \u001b[0;32mIn[30], line 41\u001b[0m, in \u001b[0;36mstart_chatbot\u001b[0;34m()\u001b[0m\n\u001b[1;32m     38\u001b[0m assistant_prompt \u001b[38;5;241m=\u001b[39m \u001b[38;5;124mf\u001b[39m\u001b[38;5;124m\"\u001b[39m\u001b[38;5;124mGenerate a detailed paragraph about \u001b[39m\u001b[38;5;132;01m{\u001b[39;00minfo_type\u001b[38;5;132;01m}\u001b[39;00m\u001b[38;5;124m in the \u001b[39m\u001b[38;5;132;01m{\u001b[39;00myear\u001b[38;5;132;01m}\u001b[39;00m\u001b[38;5;124m NBA playoffs.\u001b[39m\u001b[38;5;124m\"\u001b[39m\n\u001b[1;32m     39\u001b[0m conversation\u001b[38;5;241m.\u001b[39mappend({\u001b[38;5;124m\"\u001b[39m\u001b[38;5;124mrole\u001b[39m\u001b[38;5;124m\"\u001b[39m: \u001b[38;5;124m\"\u001b[39m\u001b[38;5;124massistant\u001b[39m\u001b[38;5;124m\"\u001b[39m, \u001b[38;5;124m\"\u001b[39m\u001b[38;5;124mcontent\u001b[39m\u001b[38;5;124m\"\u001b[39m: assistant_prompt})\n\u001b[0;32m---> 41\u001b[0m response \u001b[38;5;241m=\u001b[39m \u001b[43mchat_with_openai\u001b[49m\u001b[43m(\u001b[49m\u001b[43mconversation\u001b[49m\u001b[43m)\u001b[49m\n\u001b[1;32m     43\u001b[0m \u001b[38;5;66;03m# Display the generated paragraph\u001b[39;00m\n\u001b[1;32m     44\u001b[0m \u001b[38;5;28mprint\u001b[39m(\u001b[38;5;124mf\u001b[39m\u001b[38;5;124m\"\u001b[39m\u001b[38;5;124mBot: Here\u001b[39m\u001b[38;5;124m'\u001b[39m\u001b[38;5;124ms what I found:\u001b[39m\u001b[38;5;130;01m\\n\u001b[39;00m\u001b[38;5;132;01m{\u001b[39;00mresponse\u001b[38;5;132;01m}\u001b[39;00m\u001b[38;5;130;01m\\n\u001b[39;00m\u001b[38;5;124m\"\u001b[39m)\n",
      "Cell \u001b[0;32mIn[30], line 10\u001b[0m, in \u001b[0;36mchat_with_openai\u001b[0;34m(messages)\u001b[0m\n\u001b[1;32m      6\u001b[0m \u001b[38;5;28;01mdef\u001b[39;00m\u001b[38;5;250m \u001b[39m\u001b[38;5;21mchat_with_openai\u001b[39m(messages):\n\u001b[1;32m      7\u001b[0m \u001b[38;5;250m    \u001b[39m\u001b[38;5;124;03m\"\"\"\u001b[39;00m\n\u001b[1;32m      8\u001b[0m \u001b[38;5;124;03m    Sends a conversation to OpenAI and gets a response.\u001b[39;00m\n\u001b[1;32m      9\u001b[0m \u001b[38;5;124;03m    \"\"\"\u001b[39;00m\n\u001b[0;32m---> 10\u001b[0m     response \u001b[38;5;241m=\u001b[39m \u001b[43mopenai\u001b[49m\u001b[38;5;241;43m.\u001b[39;49m\u001b[43mChatCompletion\u001b[49m\u001b[38;5;241;43m.\u001b[39;49m\u001b[43mcreate\u001b[49m\u001b[43m(\u001b[49m\n\u001b[1;32m     11\u001b[0m \u001b[43m        \u001b[49m\u001b[43mmodel\u001b[49m\u001b[38;5;241;43m=\u001b[39;49m\u001b[38;5;124;43m\"\u001b[39;49m\u001b[38;5;124;43mgpt-3.5-turbo\u001b[39;49m\u001b[38;5;124;43m\"\u001b[39;49m\u001b[43m,\u001b[49m\u001b[43m  \u001b[49m\u001b[38;5;66;43;03m# You can use \"gpt-4\" if available\u001b[39;49;00m\n\u001b[1;32m     12\u001b[0m \u001b[43m        \u001b[49m\u001b[43mmessages\u001b[49m\u001b[38;5;241;43m=\u001b[39;49m\u001b[43mmessages\u001b[49m\n\u001b[1;32m     13\u001b[0m \u001b[43m    \u001b[49m\u001b[43m)\u001b[49m\n\u001b[1;32m     14\u001b[0m     \u001b[38;5;28;01mreturn\u001b[39;00m response[\u001b[38;5;124m'\u001b[39m\u001b[38;5;124mchoices\u001b[39m\u001b[38;5;124m'\u001b[39m][\u001b[38;5;241m0\u001b[39m][\u001b[38;5;124m'\u001b[39m\u001b[38;5;124mmessage\u001b[39m\u001b[38;5;124m'\u001b[39m][\u001b[38;5;124m'\u001b[39m\u001b[38;5;124mcontent\u001b[39m\u001b[38;5;124m'\u001b[39m]\n",
      "File \u001b[0;32m~/.local/lib/python3.10/site-packages/openai/lib/_old_api.py:39\u001b[0m, in \u001b[0;36mAPIRemovedInV1Proxy.__call__\u001b[0;34m(self, *_args, **_kwargs)\u001b[0m\n\u001b[1;32m     38\u001b[0m \u001b[38;5;28;01mdef\u001b[39;00m\u001b[38;5;250m \u001b[39m\u001b[38;5;21m__call__\u001b[39m(\u001b[38;5;28mself\u001b[39m, \u001b[38;5;241m*\u001b[39m_args: Any, \u001b[38;5;241m*\u001b[39m\u001b[38;5;241m*\u001b[39m_kwargs: Any) \u001b[38;5;241m-\u001b[39m\u001b[38;5;241m>\u001b[39m Any:\n\u001b[0;32m---> 39\u001b[0m     \u001b[38;5;28;01mraise\u001b[39;00m APIRemovedInV1(symbol\u001b[38;5;241m=\u001b[39m\u001b[38;5;28mself\u001b[39m\u001b[38;5;241m.\u001b[39m_symbol)\n",
      "\u001b[0;31mAPIRemovedInV1\u001b[0m: \n\nYou tried to access openai.ChatCompletion, but this is no longer supported in openai>=1.0.0 - see the README at https://github.com/openai/openai-python for the API.\n\nYou can run `openai migrate` to automatically upgrade your codebase to use the 1.0.0 interface. \n\nAlternatively, you can pin your installation to the old version, e.g. `pip install openai==0.28`\n\nA detailed migration guide is available here: https://github.com/openai/openai-python/discussions/742\n"
     ]
    }
   ],
   "source": [
    "start_chatbot()"
   ]
  },
  {
   "cell_type": "markdown",
   "id": "5efc67f2-755c-482e-80cf-d23745306065",
   "metadata": {},
   "source": [
    "# Exercise Chatbot Memory"
   ]
  },
  {
   "cell_type": "code",
   "execution_count": 22,
   "id": "2770703f-4573-4272-bf61-1bd7f98c20df",
   "metadata": {},
   "outputs": [],
   "source": [
    "import os\n",
    "import json\n",
    "import openai"
   ]
  },
  {
   "cell_type": "code",
   "execution_count": 23,
   "id": "9968bf22-fd84-4ea7-b3a1-fbf509168b71",
   "metadata": {},
   "outputs": [],
   "source": [
    "# decoding parameters\n",
    "TEMPERATURE = 0.0\n",
    "MAX_TOKENS = 5000\n",
    "TOP_P = 1.0"
   ]
  },
  {
   "cell_type": "code",
   "execution_count": 24,
   "id": "b21c56e0-c2a6-43e0-9c37-4d31803ca566",
   "metadata": {},
   "outputs": [],
   "source": [
    "SYSTEM_PROMPT = \"\"\"You expert at games of chance.\n",
    "End every response with double exclamation points!!\"\"\"\n",
    "\n",
    "USER_NAME = \"User\"\n",
    "AI_NAME = \"AI Assistant\"\n",
    "NEW_INTERACTION_DELIMITER = \"\\n\\n\""
   ]
  },
  {
   "cell_type": "markdown",
   "id": "20d272c5-40f0-4902-bf8b-a2fd77cd5a31",
   "metadata": {},
   "source": [
    "# Creating a chat bot with memory\n",
    "Using the basic `openai.Completion` API to understand where the memory \"lives\" in the prompt."
   ]
  },
  {
   "cell_type": "markdown",
   "id": "6d8d0f81-5ef7-43b8-9ba4-452c80410708",
   "metadata": {},
   "source": [
    "# Custom Chatbot Project"
   ]
  },
  {
   "cell_type": "markdown",
   "id": "af574acf-fd1c-40ac-9cd8-7e2a4ea89c66",
   "metadata": {},
   "source": [
    "TODO: In this cell, write an explanation of which dataset you have chosen and why it is appropriate for this task"
   ]
  },
  {
   "cell_type": "markdown",
   "id": "4c50366b-b318-463a-8193-372ffc2eb7f2",
   "metadata": {},
   "source": [
    "## Data Wrangling\n",
    "\n",
    "TODO: In the cells below, load your chosen dataset into a `pandas` dataframe with a column named `\"text\"`. This column should contain all of your text data, separated into at least 20 rows."
   ]
  },
  {
   "cell_type": "markdown",
   "id": "cb974d89-33f6-40bc-a8ab-f02236c36855",
   "metadata": {},
   "source": [
    "## Custom Query Completion\n",
    "\n",
    "TODO: In the cells below, compose a custom query using your chosen dataset and retrieve results from an OpenAI `Completion` model. You may copy and paste any useful code from the course materials."
   ]
  },
  {
   "cell_type": "markdown",
   "id": "07f4cbfb-dee9-479d-89f4-9d31cf2fe4a1",
   "metadata": {},
   "source": [
    "## Custom Performance Demonstration\n",
    "\n",
    "TODO: In the cells below, demonstrate the performance of your custom query using at least 2 questions. For each question, show the answer from a basic `Completion` model query as well as the answer from your custom query."
   ]
  },
  {
   "cell_type": "markdown",
   "id": "8ad4c265-eeda-41f4-8055-8dfd897d8598",
   "metadata": {},
   "source": [
    "### Question 1"
   ]
  },
  {
   "cell_type": "markdown",
   "id": "0491f116-57a1-4069-b82b-388ef498c254",
   "metadata": {},
   "source": [
    "### Question 2"
   ]
  },
  {
   "cell_type": "code",
   "execution_count": null,
   "id": "3df7a6e4-7c69-475b-94bf-f5841cc5e85e",
   "metadata": {},
   "outputs": [],
   "source": []
  }
 ],
 "metadata": {
  "kernelspec": {
   "display_name": "Python 3 (ipykernel)",
   "language": "python",
   "name": "python3"
  },
  "language_info": {
   "codemirror_mode": {
    "name": "ipython",
    "version": 3
   },
   "file_extension": ".py",
   "mimetype": "text/x-python",
   "name": "python",
   "nbconvert_exporter": "python",
   "pygments_lexer": "ipython3",
   "version": "3.10.12"
  }
 },
 "nbformat": 4,
 "nbformat_minor": 5
}
