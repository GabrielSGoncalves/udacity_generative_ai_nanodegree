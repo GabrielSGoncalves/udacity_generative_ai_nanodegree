{
 "cells": [
  {
   "cell_type": "markdown",
   "id": "25353740-b538-43d3-8156-3bd2fce1ab6f",
   "metadata": {},
   "source": [
    "# Accessing OpenAI through Vocareum API keys"
   ]
  },
  {
   "cell_type": "code",
   "execution_count": 1,
   "id": "0162c1d2-8c53-4b70-975e-76e55787ba1b",
   "metadata": {},
   "outputs": [],
   "source": [
    "import os\n",
    "from dotenv import load_dotenv\n",
    "import openai\n",
    "\n",
    "load_dotenv()\n",
    "\n",
    "openai.api_base = \"https://openai.vocareum.com/v1\"\n",
    "openai.api_key = os.getenv(\"OPENAI_API_KEY\")"
   ]
  },
  {
   "cell_type": "code",
   "execution_count": 2,
   "id": "76c68691-00be-4f69-af18-f4d2c7a21cf3",
   "metadata": {},
   "outputs": [
    {
     "data": {
      "text/plain": [
       "'voc-8957811371266772085699678d66e1475c97.62448043'"
      ]
     },
     "execution_count": 2,
     "metadata": {},
     "output_type": "execute_result"
    }
   ],
   "source": [
    "os.getenv(\"OPENAI_API_KEY\")"
   ]
  },
  {
   "cell_type": "code",
   "execution_count": 3,
   "id": "4c6a824a-6fc4-482e-8f47-39be02cedde8",
   "metadata": {},
   "outputs": [
    {
     "name": "stdout",
     "output_type": "stream",
     "text": [
      "Arrr, to be seein' if a Python object be an instance of a particular class, ye use the trusty `isinstance()` function. Here be how ye do it:\n",
      "\n",
      "```python\n",
      "if isinstance(your_object, YourClass):\n",
      "    print(\"Aye, the object be an instance of the class!\")\n",
      "else:\n",
      "    print(\"Nay, the object be not of that class!\")\n",
      "```\n",
      "\n",
      "Just replace `your_object` with the object ye be checkin', and `YourClass` with the name of the class ye be inspectin'. Arrr, that be the way to find the truth on the high seas of code!\n"
     ]
    }
   ],
   "source": [
    "from openai import OpenAI\n",
    "\n",
    "client = OpenAI(\n",
    "    api_key=\"voc-8957811371266772085699678d66e1475c97.62448043\",\n",
    "    base_url=\"https://openai.vocareum.com/v1\"\n",
    ")\n",
    "\n",
    "completion = client.chat.completions.create(\n",
    "    model=\"gpt-4o\",\n",
    "    messages=[\n",
    "        {\"role\": \"developer\", \"content\": \"Talk like a pirate.\"},\n",
    "        {\n",
    "            \"role\": \"user\",\n",
    "            \"content\": \"How do I check if a Python object is an instance of a class?\",\n",
    "        },\n",
    "    ],\n",
    ")\n",
    "\n",
    "print(completion.choices[0].message.content)"
   ]
  },
  {
   "cell_type": "code",
   "execution_count": 4,
   "id": "c90dcfe1-9242-418a-8e88-049761d89224",
   "metadata": {},
   "outputs": [],
   "source": [
    "from openai import OpenAI\n",
    "client = OpenAI(\n",
    "    base_url = openai.api_base,\n",
    "    api_key = openai.api_key\n",
    ")"
   ]
  },
  {
   "cell_type": "code",
   "execution_count": null,
   "id": "b0f0f838-0494-4f90-952b-0b2d79f03879",
   "metadata": {},
   "outputs": [],
   "source": []
  },
  {
   "cell_type": "code",
   "execution_count": 4,
   "id": "322dd2a4-62ee-45f1-98d0-3649483237c2",
   "metadata": {},
   "outputs": [],
   "source": [
    "def print_categorymembers(categorymembers, level=0, max_level=1):\n",
    "    for c in categorymembers.values():\n",
    "        print(\"%s: %s (ns: %d)\" % (\"*\" * (level + 1), c.title, c.ns))\n",
    "        if c.ns == wikipediaapi.Namespace.CATEGORY and level < max_level:\n",
    "            print_categorymembers(c.categorymembers, level=level + 1, max_level=max_level)\n"
   ]
  },
  {
   "cell_type": "markdown",
   "id": "6e865c6f-1a37-450c-9a80-2481434d4ed1",
   "metadata": {},
   "source": [
    "# Extracting data from Wikipedia"
   ]
  },
  {
   "cell_type": "markdown",
   "id": "543bb682-ad8d-4b5f-b6ef-d8059033f48f",
   "metadata": {},
   "source": [
    "## Getting a list of all pages from a Wikipedia category"
   ]
  },
  {
   "cell_type": "code",
   "execution_count": 13,
   "id": "4d21b85d-0f98-4f74-9424-104f885c3ba7",
   "metadata": {},
   "outputs": [],
   "source": [
    "import wikipediaapi\n",
    "import openai\n",
    "import pandas as pd\n",
    "import json\n",
    "import os"
   ]
  },
  {
   "cell_type": "code",
   "execution_count": 17,
   "id": "f57f0935-ca69-462e-a9ad-74a8211b1527",
   "metadata": {},
   "outputs": [],
   "source": [
    "def fetch_wikipedia_page(page_title):\n",
    "    page = wiki_wiki.page(page_title)\n",
    "    if page.exists():\n",
    "        return page.text\n",
    "    else:\n",
    "        return None"
   ]
  },
  {
   "cell_type": "code",
   "execution_count": 18,
   "id": "349833e3-59f3-426f-b9a6-6b2de75c3c00",
   "metadata": {},
   "outputs": [],
   "source": [
    "wiki_wiki = wikipediaapi.Wikipedia('CustomChatbot (gabrielgoncalvesbr@gmail.com)', 'en')"
   ]
  },
  {
   "cell_type": "code",
   "execution_count": 19,
   "id": "f2c0a98e-d20d-4ece-adac-f44e02ef3c43",
   "metadata": {},
   "outputs": [],
   "source": [
    "if os.path.exists(\"nba_playoffs_wikipedia.json\"):\n",
    "    # Read the JSON file and load it into the dictionary\n",
    "    with open(\"nba_playoffs_wikipedia.json\", \"r\", encoding=\"utf-8\") as json_file:\n",
    "        dict_nba_playoffs_pages = json.load(json_file)\n",
    "else:\n",
    "    dict_nba_playoffs_pages = {}\n",
    "    \n",
    "    cat = wiki_wiki.page(\"Category:NBA playoffs\")\n",
    "    for title in cat.categorymembers:\n",
    "        print(title)\n",
    "        page_result = fetch_wikipedia_page(title)\n",
    "        if page_result:\n",
    "            dict_nba_playoffs_pages[title] = page_result\n",
    "\n",
    "    with open(\"nba_playoffs_wikipedia.json\", \"w\", encoding=\"utf-8\") as json_file:\n",
    "        json.dump(dict_nba_playoffs_pages, json_file, ensure_ascii=False, indent=4)\n"
   ]
  },
  {
   "cell_type": "markdown",
   "id": "75504c8d-21c8-4eaf-bd5a-6c44610392d1",
   "metadata": {},
   "source": [
    "# Preparing the dataset"
   ]
  },
  {
   "cell_type": "code",
   "execution_count": 20,
   "id": "2b0fc93d-5fe7-49e4-9851-c413ef6e4b10",
   "metadata": {},
   "outputs": [
    {
     "data": {
      "text/html": [
       "<div>\n",
       "<style scoped>\n",
       "    .dataframe tbody tr th:only-of-type {\n",
       "        vertical-align: middle;\n",
       "    }\n",
       "\n",
       "    .dataframe tbody tr th {\n",
       "        vertical-align: top;\n",
       "    }\n",
       "\n",
       "    .dataframe thead th {\n",
       "        text-align: right;\n",
       "    }\n",
       "</style>\n",
       "<table border=\"1\" class=\"dataframe\">\n",
       "  <thead>\n",
       "    <tr style=\"text-align: right;\">\n",
       "      <th></th>\n",
       "      <th>title</th>\n",
       "      <th>text</th>\n",
       "    </tr>\n",
       "  </thead>\n",
       "  <tbody>\n",
       "    <tr>\n",
       "      <th>0</th>\n",
       "      <td>NBA playoffs</td>\n",
       "      <td>The NBA playoffs is the annual elimination tou...</td>\n",
       "    </tr>\n",
       "    <tr>\n",
       "      <th>1</th>\n",
       "      <td>1950 NBA playoffs</td>\n",
       "      <td>The 1950 NBA playoffs was the postseason tourn...</td>\n",
       "    </tr>\n",
       "    <tr>\n",
       "      <th>2</th>\n",
       "      <td>1951 NBA playoffs</td>\n",
       "      <td>The 1951 NBA playoffs was the postseason tourn...</td>\n",
       "    </tr>\n",
       "    <tr>\n",
       "      <th>3</th>\n",
       "      <td>1952 NBA playoffs</td>\n",
       "      <td>The 1952 NBA playoffs was the postseason tourn...</td>\n",
       "    </tr>\n",
       "    <tr>\n",
       "      <th>4</th>\n",
       "      <td>1953 NBA playoffs</td>\n",
       "      <td>The 1953 NBA playoffs was the postseason tourn...</td>\n",
       "    </tr>\n",
       "  </tbody>\n",
       "</table>\n",
       "</div>"
      ],
      "text/plain": [
       "               title                                               text\n",
       "0       NBA playoffs  The NBA playoffs is the annual elimination tou...\n",
       "1  1950 NBA playoffs  The 1950 NBA playoffs was the postseason tourn...\n",
       "2  1951 NBA playoffs  The 1951 NBA playoffs was the postseason tourn...\n",
       "3  1952 NBA playoffs  The 1952 NBA playoffs was the postseason tourn...\n",
       "4  1953 NBA playoffs  The 1953 NBA playoffs was the postseason tourn..."
      ]
     },
     "execution_count": 20,
     "metadata": {},
     "output_type": "execute_result"
    }
   ],
   "source": [
    "df_playoffs = pd.DataFrame.from_dict(\n",
    "    dict_nba_playoffs_pages, \n",
    "    orient='index', \n",
    "    columns=['text']#, 'text']\n",
    ").reset_index().rename(columns={'index': 'title'})\n",
    "df_playoffs.head()"
   ]
  },
  {
   "cell_type": "code",
   "execution_count": 21,
   "id": "a34ce390-f455-4f32-a975-883b79a07347",
   "metadata": {},
   "outputs": [
    {
     "data": {
      "text/html": [
       "<div>\n",
       "<style scoped>\n",
       "    .dataframe tbody tr th:only-of-type {\n",
       "        vertical-align: middle;\n",
       "    }\n",
       "\n",
       "    .dataframe tbody tr th {\n",
       "        vertical-align: top;\n",
       "    }\n",
       "\n",
       "    .dataframe thead th {\n",
       "        text-align: right;\n",
       "    }\n",
       "</style>\n",
       "<table border=\"1\" class=\"dataframe\">\n",
       "  <thead>\n",
       "    <tr style=\"text-align: right;\">\n",
       "      <th></th>\n",
       "      <th>title</th>\n",
       "      <th>text</th>\n",
       "    </tr>\n",
       "  </thead>\n",
       "  <tbody>\n",
       "    <tr>\n",
       "      <th>74</th>\n",
       "      <td>2023 NBA playoffs</td>\n",
       "      <td>The 2023 NBA playoffs was the postseason tourn...</td>\n",
       "    </tr>\n",
       "  </tbody>\n",
       "</table>\n",
       "</div>"
      ],
      "text/plain": [
       "                title                                               text\n",
       "74  2023 NBA playoffs  The 2023 NBA playoffs was the postseason tourn..."
      ]
     },
     "execution_count": 21,
     "metadata": {},
     "output_type": "execute_result"
    }
   ],
   "source": [
    "df_playoffs[df_playoffs['title'].str.contains(\"2023\")]"
   ]
  },
  {
   "cell_type": "markdown",
   "id": "6f461452-50cf-4ef8-8a37-c1cc9cc915bd",
   "metadata": {},
   "source": [
    "# Naive OpenAI NBA Playoffs Chatbot\n",
    "In this session, we are going to built a naive OpenAI chatbot, that captures the information about the year and a question about NBA playoffs and makes a request to OpenAI. "
   ]
  },
  {
   "cell_type": "code",
   "execution_count": 6,
   "id": "7b01018e-43ff-44b4-8200-77e26ac37f50",
   "metadata": {},
   "outputs": [],
   "source": [
    "from openai import OpenAI\n",
    "import os\n",
    "from dotenv import load_dotenv\n",
    "\n",
    "load_dotenv()\n",
    "\n",
    "client = OpenAI(\n",
    "    api_key=os.getenv(\"OPENAI_API_KEY\"),\n",
    "    base_url=\"https://openai.vocareum.com/v1\"\n",
    ")\n",
    "\n",
    "def chat_with_openai(messages):\n",
    "    \"\"\"\n",
    "    Sends a conversation to OpenAI and gets a response using the updated API.\n",
    "    \"\"\"\n",
    "    try:\n",
    "        response = client.chat.completions.create(\n",
    "            model=\"gpt-4\",  # Replace with \"gpt-4\" or \"gpt-3.5-turbo\" as needed\n",
    "            messages=messages\n",
    "        )\n",
    "        # Access the content of the response using dot notation\n",
    "        return response.choices[0].message.content\n",
    "    except Exception as e:\n",
    "        print(f\"An error occurred: {e}\")\n",
    "        return None\n",
    "\n",
    "def naive_OpenAI_chatbot():\n",
    "    \"\"\"\n",
    "    Starts the chatbot interaction.\n",
    "    \"\"\"\n",
    "    print(\"👋 Welcome to the NBA Playoffs Chatbot!\")\n",
    "    \n",
    "    # Initialize conversation history\n",
    "    conversation = [\n",
    "        {\"role\": \"system\", \"content\": \"You are a helpful assistant knowledgeable about NBA playoffs.\"}\n",
    "    ]\n",
    "    \n",
    "    # Ask the first question\n",
    "    year = input(\"Bot: Which NBA playoff year do you want to know about?\\nYou: \")\n",
    "    conversation.append({\"role\": \"user\", \"content\": f\"I want to know about the NBA playoffs in {year}.\"})\n",
    "    \n",
    "    # Ask the second question\n",
    "    info_type = input(\"Bot: What's the information you want to know about?\\nYou: \")\n",
    "    conversation.append({\"role\": \"user\", \"content\": f\"I want to know about {info_type} in the {year} NBA playoffs.\"})\n",
    "    \n",
    "    # Generate a response\n",
    "    print(\"Bot: Let me gather some information for you...\\n\")\n",
    "    \n",
    "    assistant_prompt = f\"Generate a detailed paragraph about {info_type} in the {year} NBA playoffs.\"\n",
    "    conversation.append({\"role\": \"assistant\", \"content\": assistant_prompt})\n",
    "    \n",
    "    response = chat_with_openai(conversation)\n",
    "    \n",
    "    if response:\n",
    "        # Display the generated paragraph\n",
    "        print(f\"Bot: Here's what I found:\\n{response}\\n\")\n",
    "        \n",
    "        # Confirm with the user\n",
    "        is_correct = input(\"Bot: Is this what you were searching for? (yes/no)\\nYou: \").strip().lower()\n",
    "        \n",
    "        if is_correct == 'yes':\n",
    "            print(\"Bot: I'm glad I could help! Let me know if there's anything else you'd like to know.\")\n",
    "        else:\n",
    "            print(\"Bot: I'm sorry it wasn't what you were looking for. Could you clarify or ask something else?\")\n",
    "            naive_OpenAI_chatbot()\n",
    "    else:\n",
    "        print(\"Bot: I couldn't retrieve any information. Please try again later.\")\n"
   ]
  },
  {
   "cell_type": "markdown",
   "id": "04cbe4f2-6a5a-4f70-8627-226c25353471",
   "metadata": {},
   "source": [
    "## Asking questions to the Naive Chatbot\n",
    "To test the Naive Chatbot, we are going to ask the following questions:\n",
    "\n",
    "1. Question 1<br>\n",
    "    - Year: **2020**\n",
    "    - Question: **What was the starting five for the two teams in the NBA finals, each player basic statistics?**\n",
    "\n",
    "2. Question 2\n",
    "    - Year: **2022**\n",
    "    - Question: **Which team was the champion and which player was named finals MVP?**"
   ]
  },
  {
   "cell_type": "markdown",
   "id": "f079cb77-fcb6-4829-9a6b-2f12bf2784df",
   "metadata": {},
   "source": [
    "### Question 1 (Naive Chatbot)"
   ]
  },
  {
   "cell_type": "code",
   "execution_count": null,
   "id": "95442479-9564-45b5-9dd5-2c2f74a7d998",
   "metadata": {},
   "outputs": [],
   "source": [
    "naive_OpenAI_chatbot()"
   ]
  },
  {
   "cell_type": "markdown",
   "id": "4b235d85-bcb1-4133-9bd5-7fc370cc1db8",
   "metadata": {},
   "source": [
    "### Question 2 (Naive Chatbot)"
   ]
  },
  {
   "cell_type": "code",
   "execution_count": 9,
   "id": "a10abd04-b725-4dcd-a934-f5b8f49c3e50",
   "metadata": {},
   "outputs": [
    {
     "name": "stdout",
     "output_type": "stream",
     "text": [
      "👋 Welcome to the NBA Playoffs Chatbot!\n"
     ]
    },
    {
     "name": "stdin",
     "output_type": "stream",
     "text": [
      "Bot: Which NBA playoff year do you want to know about?\n",
      "You:  2022\n",
      "Bot: What's the information you want to know about?\n",
      "You:  Which team was the champion and which player was named finals MVP\n"
     ]
    },
    {
     "name": "stdout",
     "output_type": "stream",
     "text": [
      "Bot: Let me gather some information for you...\n",
      "\n",
      "Bot: Here's what I found:\n",
      "I'm sorry, but as an AI developed by OpenAI, I can't provide real-time updates or future information. As of the last update in October 2021, the 2022 NBA playoffs hadn't taken place yet, and so the champions and Finals MVP haven't been determined. Please check the most recent and reliable sports news sources for this information.\n",
      "\n"
     ]
    },
    {
     "name": "stdin",
     "output_type": "stream",
     "text": [
      "Bot: Is this what you were searching for? (yes/no)\n",
      "You:  no\n"
     ]
    },
    {
     "name": "stdout",
     "output_type": "stream",
     "text": [
      "Bot: I'm sorry it wasn't what you were looking for. Could you clarify or ask something else?\n",
      "👋 Welcome to the NBA Playoffs Chatbot!\n"
     ]
    },
    {
     "name": "stdin",
     "output_type": "stream",
     "text": [
      "Bot: Which NBA playoff year do you want to know about?\n",
      "You:  no\n",
      "Bot: What's the information you want to know about?\n",
      "You:  no\n"
     ]
    },
    {
     "name": "stdout",
     "output_type": "stream",
     "text": [
      "Bot: Let me gather some information for you...\n",
      "\n",
      "Bot: Here's what I found:\n",
      "I'm sorry, but your question is unclear. Could you please clarify what specific information about NBA playoffs you are interested in? Maybe you're asking about a specific year for the NBA playoffs or a specific team or player? Please give more details so I can assist you better.\n",
      "\n"
     ]
    },
    {
     "name": "stdin",
     "output_type": "stream",
     "text": [
      "Bot: Is this what you were searching for? (yes/no)\n",
      "You:  yes\n"
     ]
    },
    {
     "name": "stdout",
     "output_type": "stream",
     "text": [
      "Bot: I'm glad I could help! Let me know if there's anything else you'd like to know.\n"
     ]
    }
   ],
   "source": [
    "naive_OpenAI_chatbot()"
   ]
  },
  {
   "cell_type": "code",
   "execution_count": null,
   "id": "7a747582-b083-46ab-a506-66d7ee0a5ee5",
   "metadata": {},
   "outputs": [],
   "source": [
    "df_playoffs[df_playoffs['title'].str.contains(\"2022\")]['text'].str.cat(sep='\\n')  #"
   ]
  },
  {
   "cell_type": "code",
   "execution_count": 34,
   "id": "04b06286-c84f-4c27-8260-5694878dc60b",
   "metadata": {},
   "outputs": [],
   "source": [
    "def get_data_from_nba_playoffs(\n",
    "    query: str, dataset: pd.DataFrame = df_playoffs\n",
    ") -> str:\n",
    "    cat_text = dataset[\n",
    "        dataset[\"title\"].str.contains(str(query))][\"text\"].str.cat(sep=\"\\n\")\n",
    "    return cat_text"
   ]
  },
  {
   "cell_type": "code",
   "execution_count": 40,
   "id": "d3a5ed41-f103-44d6-90b4-82426468f45c",
   "metadata": {},
   "outputs": [
    {
     "data": {
      "text/plain": [
       "''"
      ]
     },
     "execution_count": 40,
     "metadata": {},
     "output_type": "execute_result"
    }
   ],
   "source": [
    "get_data_from_nba_playoffs(1789)"
   ]
  },
  {
   "cell_type": "code",
   "execution_count": 46,
   "id": "a3ade169-a72e-4ad8-aa00-f5e6f45a2209",
   "metadata": {},
   "outputs": [],
   "source": [
    "def augmented_openai_chatbot():\n",
    "    print(\"👋 Welcome to the Augmented NBA Playoffs Chatbot!\")\n",
    "    \n",
    "    # Initialize conversation history\n",
    "    conversation = [\n",
    "        {\"role\": \"system\", \"content\": \"You are a helpful assistant knowledgeable about NBA playoffs.\"}\n",
    "    ]\n",
    "    \n",
    "    # Ask the first question\n",
    "    year = input(\"Bot: Which NBA playoff year do you want to know about?\\nYou: \")\n",
    "    conversation.append({\"role\": \"user\", \"content\": f\"I want to know about the NBA playoffs in {year}.\"})\n",
    "    \n",
    "    # Ask the second question\n",
    "    info_type = input(\"Bot: What's the information you want to know about?\\nYou: \")\n",
    "    conversation.append({\"role\": \"user\", \"content\": f\"I want to know about {info_type} in the {year} NBA playoffs.\"})\n",
    "    \n",
    "    # Generate a response\n",
    "    print(\"Bot: Let me gather some information for you...\\n\")\n",
    "\n",
    "    # Get Data from Wikipedia dataset\n",
    "    str_filtered_dataset = get_data_from_nba_playoffs(year)\n",
    "    if str_filtered_dataset != '':\n",
    "        print(f'''Found information about year \"{year}\" in NBA playoffs,\n",
    "        with {len(str_filtered_dataset)} characters.\n",
    "        ''')\n",
    "    \n",
    "    assistant_prompt = f\"Generate a detailed paragraph about {info_type} in the {year} NBA playoffs.\\n\"\n",
    "    augemented_prompt = assistant_prompt + f\"Also use the following wikipedia paragraph as a source of information, if available:\\n{str_filtered_dataset}\"\n",
    "    conversation.append({\"role\": \"assistant\", \"content\": augemented_prompt})\n",
    "    \n",
    "    response = chat_with_openai(conversation)\n",
    "    \n",
    "    if response:\n",
    "        # Display the generated paragraph\n",
    "        print(f\"Bot: Here's what I found:\\n{response}\\n\")\n",
    "        \n",
    "        # Confirm with the user\n",
    "        is_correct = input(\"Bot: Is this what you were searching for? (yes/no)\\nYou: \").strip().lower()\n",
    "        \n",
    "        if is_correct == 'yes':\n",
    "            print(\"Bot: I'm glad I could help! Let me know if there's anything else you'd like to know.\")\n",
    "        else:\n",
    "            print(\"Bot: I'm sorry it wasn't what you were looking for. Could you clarify or ask something else?\")\n",
    "            naive_OpenAI_chatbot()\n",
    "    else:\n",
    "        print(\"Bot: I couldn't retrieve any information. Please try again later.\")\n"
   ]
  },
  {
   "cell_type": "code",
   "execution_count": null,
   "id": "6a8e3e85-d2eb-4aa6-bdae-30f84cea9685",
   "metadata": {},
   "outputs": [],
   "source": [
    " - Year: **2022**\n",
    "    - Question: **Which team was the champion and which player was named finals MVP?**"
   ]
  },
  {
   "cell_type": "code",
   "execution_count": 48,
   "id": "efc0c72a-5e60-4c2c-a87a-4c0fdc05962c",
   "metadata": {},
   "outputs": [
    {
     "name": "stdout",
     "output_type": "stream",
     "text": [
      "👋 Welcome to the Augmented NBA Playoffs Chatbot!\n"
     ]
    },
    {
     "name": "stdin",
     "output_type": "stream",
     "text": [
      "Bot: Which NBA playoff year do you want to know about?\n",
      "You:  2022\n",
      "Bot: What's the information you want to know about?\n",
      "You:  Which team was the champion and which player was named finals MVP?\n"
     ]
    },
    {
     "name": "stdout",
     "output_type": "stream",
     "text": [
      "Bot: Let me gather some information for you...\n",
      "\n",
      "Found information about year \"2022\" in NBA playoffs,\n",
      "        with 55284 characters.\n",
      "        \n",
      "An error occurred: 'NoneType' object is not subscriptable\n",
      "Bot: I couldn't retrieve any information. Please try again later.\n"
     ]
    }
   ],
   "source": [
    "augmented_openai_chatbot()"
   ]
  },
  {
   "cell_type": "code",
   "execution_count": null,
   "id": "de45cbae-5e1a-487b-9209-c518229d62da",
   "metadata": {},
   "outputs": [],
   "source": []
  }
 ],
 "metadata": {
  "kernelspec": {
   "display_name": "Python 3 (ipykernel)",
   "language": "python",
   "name": "python3"
  },
  "language_info": {
   "codemirror_mode": {
    "name": "ipython",
    "version": 3
   },
   "file_extension": ".py",
   "mimetype": "text/x-python",
   "name": "python",
   "nbconvert_exporter": "python",
   "pygments_lexer": "ipython3",
   "version": "3.10.12"
  }
 },
 "nbformat": 4,
 "nbformat_minor": 5
}
