{
 "cells": [
  {
   "cell_type": "markdown",
   "id": "5230f4c9-567e-41ca-895e-f02725a9ba16",
   "metadata": {},
   "source": [
    "# Project 2: Building a Custom NBA Playoffs Chatbot <a class=\"jp-toc-ignore\"></a>\n",
    "\n",
    "## Project overview <a class=\"jp-toc-ignore\"></a>\n",
    "In this project, I've developed a custom chatbot focused on NBA playoffs information. By leveraging the Wikipedia API to gather comprehensive data about NBA playoffs history, statistics, and memorable moments, this chatbot serves as a specialized knowledge base for basketball enthusiasts, sports journalists, and casual fans looking for accurate playoff information.\n",
    "\n",
    "The chatbot is built using OpenAI API and also information gathered from Wikipedia. So we are going to be able to test the relevance of using OpenAI to answered questions about NBA playoffs, and also compared the results when we combined Wikipedia information in our customized prompt to OpenAI.\n",
    "Project structure\n",
    "\n",
    "The current project is broken into the following parts:\n",
    "Project Config\n",
    "\n",
    "- Configuring OpenAO API\n",
    "- Extracting data from Wikipedia\n",
    "- Preparing the dataset\n",
    "- Summarizing NBA Playoffs dataset\n",
    "- Naive OpenAI NBA Playoffs Chatbot\n",
    "- RAG Based OpenAI NBA Playoffs Chatbot\n",
    "\n",
    "This NBA Playoffs Chatbot demonstrates how domain-specific knowledge can be integrated with large language models to create specialized AI assistants. By focusing exclusively on NBA playoffs data, the chatbot provides more detailed and accurate information than general-purpose AI systems when discussing this specific domain of basketball history.\n",
    "\n",
    "The implementation showcases the power of customized knowledge bases prompts with language models to create a custom knowledge retrieval system without relying on complex frameworks, offering insights into the fundamental mechanics of modern AI assistants."
   ]
  },
  {
   "cell_type": "markdown",
   "id": "25353740-b538-43d3-8156-3bd2fce1ab6f",
   "metadata": {},
   "source": [
    "# Config OpenAI API"
   ]
  },
  {
   "cell_type": "code",
   "execution_count": 16,
   "id": "0162c1d2-8c53-4b70-975e-76e55787ba1b",
   "metadata": {},
   "outputs": [],
   "source": [
    "import os\n",
    "from dotenv import load_dotenv\n",
    "\n",
    "load_dotenv()\n",
    "\n",
    "api_key = os.getenv(\"PERSONAL_OPENAI_KEY\")"
   ]
  },
  {
   "cell_type": "code",
   "execution_count": 17,
   "id": "7f5b1448-09d2-456b-801c-2f1e798c86c3",
   "metadata": {},
   "outputs": [],
   "source": [
    "from openai import OpenAI\n",
    "\n",
    "client = OpenAI(\n",
    "    api_key=api_key,\n",
    ")"
   ]
  },
  {
   "attachments": {},
   "cell_type": "markdown",
   "id": "4dbf0d23-5cb0-4182-90c7-b80f91ab45d5",
   "metadata": {},
   "source": [
    "# Extracting data from Wikipedia\n",
    "In this session we are going to use Wikipedia API to fetch data from the pages related to NBA playoffs.\n",
    "## Getting a list of all pages from a Wikipedia category"
   ]
  },
  {
   "cell_type": "code",
   "execution_count": 18,
   "id": "4d21b85d-0f98-4f74-9424-104f885c3ba7",
   "metadata": {},
   "outputs": [],
   "source": [
    "import wikipediaapi\n",
    "import openai\n",
    "import pandas as pd\n",
    "import json\n",
    "import os"
   ]
  },
  {
   "cell_type": "code",
   "execution_count": 19,
   "id": "f57f0935-ca69-462e-a9ad-74a8211b1527",
   "metadata": {},
   "outputs": [],
   "source": [
    "def fetch_wikipedia_page(page_title):\n",
    "    page = wiki_wiki.page(page_title)\n",
    "    if page.exists():\n",
    "        return page.text\n",
    "    else:\n",
    "        return None"
   ]
  },
  {
   "cell_type": "code",
   "execution_count": 20,
   "id": "349833e3-59f3-426f-b9a6-6b2de75c3c00",
   "metadata": {},
   "outputs": [],
   "source": [
    "wiki_wiki = wikipediaapi.Wikipedia('CustomChatbot (gabrielgoncalvesbr@gmail.com)', 'en')"
   ]
  },
  {
   "cell_type": "code",
   "execution_count": 21,
   "id": "f2c0a98e-d20d-4ece-adac-f44e02ef3c43",
   "metadata": {},
   "outputs": [],
   "source": [
    "if os.path.exists(\"nba_playoffs_wikipedia.json\"):\n",
    "    # Read the JSON file and load it into the dictionary\n",
    "    with open(\"nba_playoffs_wikipedia.json\", \"r\", encoding=\"utf-8\") as json_file:\n",
    "        dict_nba_playoffs_pages = json.load(json_file)\n",
    "else:\n",
    "    dict_nba_playoffs_pages = {}\n",
    "    \n",
    "    cat = wiki_wiki.page(\"Category:NBA playoffs\")\n",
    "    for title in cat.categorymembers:\n",
    "        print(title)\n",
    "        page_result = fetch_wikipedia_page(title)\n",
    "        if page_result:\n",
    "            dict_nba_playoffs_pages[title] = page_result\n",
    "\n",
    "    with open(\"nba_playoffs_wikipedia.json\", \"w\", encoding=\"utf-8\") as json_file:\n",
    "        json.dump(dict_nba_playoffs_pages, json_file, ensure_ascii=False, indent=4)\n"
   ]
  },
  {
   "cell_type": "markdown",
   "id": "75504c8d-21c8-4eaf-bd5a-6c44610392d1",
   "metadata": {},
   "source": [
    "# Preparing the dataset"
   ]
  },
  {
   "cell_type": "code",
   "execution_count": 22,
   "id": "2b0fc93d-5fe7-49e4-9851-c413ef6e4b10",
   "metadata": {},
   "outputs": [
    {
     "data": {
      "text/html": [
       "<div>\n",
       "<style scoped>\n",
       "    .dataframe tbody tr th:only-of-type {\n",
       "        vertical-align: middle;\n",
       "    }\n",
       "\n",
       "    .dataframe tbody tr th {\n",
       "        vertical-align: top;\n",
       "    }\n",
       "\n",
       "    .dataframe thead th {\n",
       "        text-align: right;\n",
       "    }\n",
       "</style>\n",
       "<table border=\"1\" class=\"dataframe\">\n",
       "  <thead>\n",
       "    <tr style=\"text-align: right;\">\n",
       "      <th></th>\n",
       "      <th>title</th>\n",
       "      <th>text</th>\n",
       "    </tr>\n",
       "  </thead>\n",
       "  <tbody>\n",
       "    <tr>\n",
       "      <th>0</th>\n",
       "      <td>NBA playoffs</td>\n",
       "      <td>The NBA playoffs is the annual elimination tou...</td>\n",
       "    </tr>\n",
       "    <tr>\n",
       "      <th>1</th>\n",
       "      <td>1950 NBA playoffs</td>\n",
       "      <td>The 1950 NBA playoffs was the postseason tourn...</td>\n",
       "    </tr>\n",
       "    <tr>\n",
       "      <th>2</th>\n",
       "      <td>1951 NBA playoffs</td>\n",
       "      <td>The 1951 NBA playoffs was the postseason tourn...</td>\n",
       "    </tr>\n",
       "    <tr>\n",
       "      <th>3</th>\n",
       "      <td>1952 NBA playoffs</td>\n",
       "      <td>The 1952 NBA playoffs was the postseason tourn...</td>\n",
       "    </tr>\n",
       "    <tr>\n",
       "      <th>4</th>\n",
       "      <td>1953 NBA playoffs</td>\n",
       "      <td>The 1953 NBA playoffs was the postseason tourn...</td>\n",
       "    </tr>\n",
       "  </tbody>\n",
       "</table>\n",
       "</div>"
      ],
      "text/plain": [
       "               title                                               text\n",
       "0       NBA playoffs  The NBA playoffs is the annual elimination tou...\n",
       "1  1950 NBA playoffs  The 1950 NBA playoffs was the postseason tourn...\n",
       "2  1951 NBA playoffs  The 1951 NBA playoffs was the postseason tourn...\n",
       "3  1952 NBA playoffs  The 1952 NBA playoffs was the postseason tourn...\n",
       "4  1953 NBA playoffs  The 1953 NBA playoffs was the postseason tourn..."
      ]
     },
     "execution_count": 22,
     "metadata": {},
     "output_type": "execute_result"
    }
   ],
   "source": [
    "df_playoffs = pd.DataFrame.from_dict(\n",
    "    dict_nba_playoffs_pages, \n",
    "    orient='index', \n",
    "    columns=['text']#, 'text']\n",
    ").reset_index().rename(columns={'index': 'title'})\n",
    "df_playoffs.head()"
   ]
  },
  {
   "cell_type": "markdown",
   "id": "87083e4e-006b-420a-b830-eb7864ed55ac",
   "metadata": {},
   "source": [
    "# Summarizing the NBA Playoffs datasets\n",
    "In this session, we are going to use the OpenAI ChatGPT-4 to summarize the Wikipedia pages for each page, as the size can be larger that the context windows for our following RAG approach.\n",
    "\n",
    "**WARNING**: The process of using OpenAI API to summarize the NBA playoffs datasets will consume a large portion of the credits for your OpenAI API. Make sure to use it carefully, and also save it as json file locally, to avoid reprocessing and extra expenses."
   ]
  },
  {
   "cell_type": "code",
   "execution_count": 23,
   "id": "4d24ba77-695b-48fc-a648-965750db6aba",
   "metadata": {},
   "outputs": [],
   "source": [
    "import tiktoken\n",
    "from tqdm.notebook import tqdm\n",
    "\n",
    "def split_into_chunks(text, max_tokens=3000, model=\"gpt-4\"):\n",
    "    tokenizer = tiktoken.encoding_for_model(model)\n",
    "    tokens = tokenizer.encode(text)\n",
    "    chunks = [tokens[i:i+max_tokens] for i in range(0, len(tokens), max_tokens)]\n",
    "    return [tokenizer.decode(chunk) for chunk in chunks]\n",
    "\n",
    "def chat_with_openai(messages):\n",
    "    try:\n",
    "        response = client.chat.completions.create(\n",
    "            model=\"gpt-4\",\n",
    "            messages=messages,\n",
    "        )\n",
    "        return response.choices[0].message.content\n",
    "    except Exception as e:\n",
    "        print(f\"An error occurred: {e}\")\n",
    "        return None\n",
    "\n",
    "def summarize_large_text(text, max_tokens=4000, model=\"gpt-4\"):\n",
    "    chunks = split_into_chunks(text, max_tokens=max_tokens, model=model)\n",
    "    summaries = []\n",
    "    for i, chunk in tqdm(enumerate(chunks)):\n",
    "        messages = [\n",
    "            {\"role\": \"system\", \"content\": \"You are a helpful assistant that summarizes text.\"},\n",
    "            {\"role\": \"user\", \"content\": f\"Summarize the following text keeping key statistics about players and games:\\n{chunk}\"}\n",
    "        ]\n",
    "        summary = chat_with_openai(messages)\n",
    "        summaries.append(summary)\n",
    "    return \" \".join(summaries)\n",
    "\n",
    "def final_summarization(summaries, model=\"gpt-4\"):\n",
    "    messages = [\n",
    "        {\"role\": \"system\", \"content\": \"You are a helpful assistant creating concise summaries.\"},\n",
    "        {\"role\": \"user\", \"content\": f\"Summarize the following text keeping key statistics about players and games:\\n{summaries}\"}\n",
    "    ]\n",
    "    return chat_with_openai(messages)"
   ]
  },
  {
   "cell_type": "code",
   "execution_count": 24,
   "id": "0b934a83-2fda-45b4-a44f-c76d7c546627",
   "metadata": {
    "scrolled": true
   },
   "outputs": [],
   "source": [
    "if os.path.exists(\"nba_playoffs_wikipedia_summarized.json\"):\n",
    "    with open(\"nba_playoffs_wikipedia_summarized.json\", \"r\", encoding=\"utf-8\") as json_file:\n",
    "        dict_nba_playoffs_summarized = json.load(json_file)\n",
    "else:\n",
    "    dict_nba_playoffs_summarized = {}\n",
    "    for index, row in tqdm(df_playoffs.iterrows()):\n",
    "        # Example Usage\n",
    "        #large_text = \"Your very large text here...\"\n",
    "        summaries = summarize_large_text(row.text)\n",
    "        final_summary = final_summarization(summaries)\n",
    "        dict_nba_playoffs_summarized[row.title] = final_summary\n",
    "    with open(\"nba_playoffs_wikipedia_summarized.json\", \"w\", encoding=\"utf-8\") as json_file:\n",
    "            json.dump(dict_nba_playoffs_summarized, json_file, ensure_ascii=False, indent=4) "
   ]
  },
  {
   "cell_type": "code",
   "execution_count": 25,
   "id": "6bc34fbf-aa61-4c63-9763-cfa278b088b6",
   "metadata": {},
   "outputs": [
    {
     "data": {
      "text/html": [
       "<div>\n",
       "<style scoped>\n",
       "    .dataframe tbody tr th:only-of-type {\n",
       "        vertical-align: middle;\n",
       "    }\n",
       "\n",
       "    .dataframe tbody tr th {\n",
       "        vertical-align: top;\n",
       "    }\n",
       "\n",
       "    .dataframe thead th {\n",
       "        text-align: right;\n",
       "    }\n",
       "</style>\n",
       "<table border=\"1\" class=\"dataframe\">\n",
       "  <thead>\n",
       "    <tr style=\"text-align: right;\">\n",
       "      <th></th>\n",
       "      <th>title</th>\n",
       "      <th>text</th>\n",
       "    </tr>\n",
       "  </thead>\n",
       "  <tbody>\n",
       "    <tr>\n",
       "      <th>0</th>\n",
       "      <td>NBA playoffs</td>\n",
       "      <td>The NBA playoffs is a yearly tournament to det...</td>\n",
       "    </tr>\n",
       "    <tr>\n",
       "      <th>1</th>\n",
       "      <td>1950 NBA playoffs</td>\n",
       "      <td>The 1950 NBA playoffs marked the end of the Na...</td>\n",
       "    </tr>\n",
       "    <tr>\n",
       "      <th>2</th>\n",
       "      <td>1951 NBA playoffs</td>\n",
       "      <td>The 1951 NBA playoffs concluded with the Roche...</td>\n",
       "    </tr>\n",
       "    <tr>\n",
       "      <th>3</th>\n",
       "      <td>1952 NBA playoffs</td>\n",
       "      <td>The 1952 NBA playoffs concluded with the Minne...</td>\n",
       "    </tr>\n",
       "    <tr>\n",
       "      <th>4</th>\n",
       "      <td>1953 NBA playoffs</td>\n",
       "      <td>The 1953 NBA playoffs ended with the Minneapol...</td>\n",
       "    </tr>\n",
       "  </tbody>\n",
       "</table>\n",
       "</div>"
      ],
      "text/plain": [
       "               title                                               text\n",
       "0       NBA playoffs  The NBA playoffs is a yearly tournament to det...\n",
       "1  1950 NBA playoffs  The 1950 NBA playoffs marked the end of the Na...\n",
       "2  1951 NBA playoffs  The 1951 NBA playoffs concluded with the Roche...\n",
       "3  1952 NBA playoffs  The 1952 NBA playoffs concluded with the Minne...\n",
       "4  1953 NBA playoffs  The 1953 NBA playoffs ended with the Minneapol..."
      ]
     },
     "execution_count": 25,
     "metadata": {},
     "output_type": "execute_result"
    }
   ],
   "source": [
    "df_playoffs_summarized = pd.DataFrame.from_dict(\n",
    "    dict_nba_playoffs_summarized, \n",
    "    orient='index', \n",
    "    columns=['text']#, 'text']\n",
    ").reset_index().rename(columns={'index': 'title'})\n",
    "df_playoffs_summarized.head()"
   ]
  },
  {
   "cell_type": "markdown",
   "id": "6f461452-50cf-4ef8-8a37-c1cc9cc915bd",
   "metadata": {},
   "source": [
    "# NBA Playoffs Chatbots\n",
    "## Naive OpenAI NBA Playoffs Chatbot\n",
    "In this session, we are going to built a naive OpenAI chatbot, that captures the information about the year and a question about NBA playoffs and makes a request to OpenAI. "
   ]
  },
  {
   "cell_type": "code",
   "execution_count": 26,
   "id": "7b01018e-43ff-44b4-8200-77e26ac37f50",
   "metadata": {},
   "outputs": [],
   "source": [
    "from openai import OpenAI\n",
    "import os\n",
    "from dotenv import load_dotenv\n",
    "\n",
    "load_dotenv()\n",
    "'''\n",
    "client = OpenAI(\n",
    "    api_key=os.getenv(\"OPENAI_API_KEY\"),\n",
    "    base_url=\"https://openai.vocareum.com/v1\"\n",
    ")\n",
    "'''\n",
    "def chat_with_openai(messages):\n",
    "    \"\"\"\n",
    "    Sends a conversation to OpenAI and gets a response using the updated API.\n",
    "    \"\"\"\n",
    "    try:\n",
    "        response = client.chat.completions.create(\n",
    "            model=\"gpt-4\",\n",
    "            messages=messages,\n",
    "            \n",
    "        )\n",
    "        # Access the content of the response using dot notation\n",
    "        return response.choices[0].message.content\n",
    "    except Exception as e:\n",
    "        print(f\"An error occurred: {e}\")\n",
    "        return None\n",
    "\n",
    "def naive_OpenAI_chatbot():\n",
    "    \"\"\"\n",
    "    Starts the chatbot interaction.\n",
    "    \"\"\"\n",
    "    print(\"👋 Welcome to the NBA Playoffs Chatbot!\")\n",
    "    \n",
    "    # Initialize conversation history\n",
    "    conversation = [\n",
    "        {\"role\": \"system\", \"content\": \"You are a helpful assistant knowledgeable about NBA playoffs.\"}\n",
    "    ]\n",
    "    \n",
    "    # Ask the first question\n",
    "    year = input(\"Bot: Which NBA playoff year do you want to know about?\\nYou: \")\n",
    "    conversation.append({\"role\": \"user\", \"content\": f\"I want to know about the NBA playoffs in {year}.\"})\n",
    "    \n",
    "    # Ask the second question\n",
    "    info_type = input(\"Bot: What's the information you want to know about?\\nYou: \")\n",
    "    conversation.append({\"role\": \"user\", \"content\": f\"I want to know about {info_type} in the {year} NBA playoffs.\"})\n",
    "    \n",
    "    # Generate a response\n",
    "    print(\"Bot: Let me gather some information for you...\\n\")\n",
    "    \n",
    "    assistant_prompt = f\"Generate a detailed paragraph about {info_type} in the {year} NBA playoffs.\"\n",
    "    conversation.append({\"role\": \"assistant\", \"content\": assistant_prompt})\n",
    "    \n",
    "    response = chat_with_openai(conversation)\n",
    "    \n",
    "    if response:\n",
    "        # Display the generated paragraph\n",
    "        print(f\"Bot: Here's what I found:\\n{response}\\n\")\n",
    "        \n",
    "        # Confirm with the user\n",
    "        is_correct = input(\"Bot: Is this what you were searching for? (yes/no)\\nYou: \").strip().lower()\n",
    "        \n",
    "        if is_correct == 'yes':\n",
    "            print(\"Bot: I'm glad I could help! Let me know if there's anything else you'd like to know.\")\n",
    "        else:\n",
    "            print(\"Bot: I'm sorry it wasn't what you were looking for. Could you clarify or ask something else?\")\n",
    "            naive_OpenAI_chatbot()\n",
    "    else:\n",
    "        print(\"Bot: I couldn't retrieve any information. Please try again later.\")\n"
   ]
  },
  {
   "cell_type": "markdown",
   "id": "04cbe4f2-6a5a-4f70-8627-226c25353471",
   "metadata": {},
   "source": [
    "## Asking questions to the Naive Chatbot\n",
    "To test the Naive Chatbot, we are going to ask the following questions:\n",
    "\n",
    "1. Question 1<br>\n",
    "    - Year: **2020**\n",
    "    - Question: **What was the starting five for the two teams in the NBA finals, each player basic statistics?**\n",
    "\n",
    "2. Question 2\n",
    "    - Year: **2023**\n",
    "    - Question: **Which team was the champion?**"
   ]
  },
  {
   "cell_type": "markdown",
   "id": "f079cb77-fcb6-4829-9a6b-2f12bf2784df",
   "metadata": {},
   "source": [
    "### Question 1 (Naive Chatbot)"
   ]
  },
  {
   "cell_type": "code",
   "execution_count": 27,
   "id": "95442479-9564-45b5-9dd5-2c2f74a7d998",
   "metadata": {},
   "outputs": [
    {
     "name": "stdout",
     "output_type": "stream",
     "text": [
      "👋 Welcome to the NBA Playoffs Chatbot!\n"
     ]
    },
    {
     "name": "stdin",
     "output_type": "stream",
     "text": [
      "Bot: Which NBA playoff year do you want to know about?\n",
      "You:  2020\n",
      "Bot: What's the information you want to know about?\n",
      "You:  What was the starting five for the two teams in the NBA finals, each player basic statistics?\n"
     ]
    },
    {
     "name": "stdout",
     "output_type": "stream",
     "text": [
      "Bot: Let me gather some information for you...\n",
      "\n",
      "Bot: Here's what I found:\n",
      "The 2020 NBA Finals was played between the Los Angeles Lakers and the Miami Heat. \n",
      "\n",
      "For the Los Angeles Lakers, the starting five were LeBron James, Anthony Davis, Dwight Howard, Danny Green, and Kentavious Caldwell-Pope. Let's look at their basic statistics:\n",
      "\n",
      "1. LeBron James: He played extraordinarily well, with averages of 29.8 points, 11.8 rebounds, and 8.5 assists per game in six games. \n",
      "\n",
      "2. Anthony Davis: He had a great playoff run with averages of 27.7 points, 9.7 rebounds, and 3.5 assists per game.\n",
      "\n",
      "3. Dwight Howard: Howard was mainly a defender and rebounder, with averages of 1.8 points and 2.8 rebounds per game. \n",
      "\n",
      "4. Danny Green: Green averaged 8.0 points, 3.0 rebounds, and 1.0 assists per game. \n",
      "\n",
      "5. Kentavious Caldwell-Pope: He played a significant role on the team with averages of 12.8 points, 2.3 rebounds, and 2.8 assists per game. \n",
      "\n",
      "For the Miami Heat, the starting five were Jimmy Butler, Bam Adebayo, Duncan Robinson, Jae Crowder, and Tyler Herro.\n",
      "\n",
      "1. Jimmy Butler: Butler averaged 26.2 points, 9.8 assists, and 8.3 rebounds per game.\n",
      "\n",
      "2. Bam Adebayo: Adebayo averaged 15.2 points, 6.0 rebounds, and 2.2 assists per game.\n",
      "\n",
      "3. Duncan Robinson: He added 12 points per game on high efficient shooting from three.\n",
      "\n",
      "4. Jae Crowder: Crowder provided 12.0 points, 5.6 rebounds, and 2.0 assists per game.\n",
      "\n",
      "5. Tyler Herro: Herro, the rookie, scored 14.7 points, 4.8 rebounds, and 3.2 assists per game.\n",
      "\n",
      "Please note all statistics are for the NBA Finals series only.\n",
      "\n",
      "\n"
     ]
    },
    {
     "name": "stdin",
     "output_type": "stream",
     "text": [
      "Bot: Is this what you were searching for? (yes/no)\n",
      "You:  yes\n"
     ]
    },
    {
     "name": "stdout",
     "output_type": "stream",
     "text": [
      "Bot: I'm glad I could help! Let me know if there's anything else you'd like to know.\n"
     ]
    }
   ],
   "source": [
    "naive_OpenAI_chatbot()"
   ]
  },
  {
   "cell_type": "markdown",
   "id": "4b235d85-bcb1-4133-9bd5-7fc370cc1db8",
   "metadata": {},
   "source": [
    "### Question 2 (Naive Chatbot)"
   ]
  },
  {
   "cell_type": "code",
   "execution_count": 81,
   "id": "a10abd04-b725-4dcd-a934-f5b8f49c3e50",
   "metadata": {},
   "outputs": [
    {
     "name": "stdout",
     "output_type": "stream",
     "text": [
      "👋 Welcome to the NBA Playoffs Chatbot!\n"
     ]
    },
    {
     "name": "stdin",
     "output_type": "stream",
     "text": [
      "Bot: Which NBA playoff year do you want to know about?\n",
      "You:  2023\n",
      "Bot: What's the information you want to know about?\n",
      "You:  Which team was the champion?\n"
     ]
    },
    {
     "name": "stdout",
     "output_type": "stream",
     "text": [
      "Bot: Let me gather some information for you...\n",
      "\n",
      "Bot: Here's what I found:\n",
      "I'm sorry, but I am currently unable to provide information about future events such as the 2023 NBA playoffs, including the reigning champion, as they have not yet occurred. My programming only includes factual information up to the present day.\n",
      "\n"
     ]
    },
    {
     "name": "stdin",
     "output_type": "stream",
     "text": [
      "Bot: Is this what you were searching for? (yes/no)\n",
      "You:  yes\n"
     ]
    },
    {
     "name": "stdout",
     "output_type": "stream",
     "text": [
      "Bot: I'm glad I could help! Let me know if there's anything else you'd like to know.\n"
     ]
    }
   ],
   "source": [
    "naive_OpenAI_chatbot()"
   ]
  },
  {
   "cell_type": "markdown",
   "id": "bfd339d4-fa27-4697-8da5-2b04e05a65b0",
   "metadata": {},
   "source": [
    "## RAG Based OpenAI NBA Playoffs Chatbot\n",
    "In this session we are going to create a Chatbot that uses the information from the NBA playoffs dataset we have created before in order to augment the prompt, similar to a RAG approach.\n",
    "\n",
    "Next, we'll ask the same questions asked to the Naive Chatbot and compare the results."
   ]
  },
  {
   "cell_type": "code",
   "execution_count": 63,
   "id": "a822565d-1463-40dc-8812-695f764e4711",
   "metadata": {},
   "outputs": [],
   "source": [
    "def get_data_from_nba_playoffs(\n",
    "    query: str, dataset: pd.DataFrame = df_playoffs_summarized\n",
    ") -> str:\n",
    "    cat_text = dataset[\n",
    "        dataset[\"title\"].str.contains(str(query))][\"text\"].str.cat(sep=\"\\n\")\n",
    "    return cat_text\n",
    "\n",
    "def augmented_openai_chatbot():\n",
    "    print(\"👋 Welcome to the Augmented NBA Playoffs Chatbot!\")\n",
    "    \n",
    "    # Initialize conversation history\n",
    "    conversation = [\n",
    "        {\"role\": \"system\", \"content\": \"You are a helpful assistant knowledgeable about NBA playoffs.\"}\n",
    "    ]\n",
    "    \n",
    "    # Ask the first question\n",
    "    year = input(\"Bot: Which NBA playoff year do you want to know about?\\nYou: \")\n",
    "    conversation.append({\"role\": \"user\", \"content\": f\"I want to know about the NBA playoffs in {year}.\"})\n",
    "    \n",
    "    # Ask the second question\n",
    "    info_type = input(\"Bot: What's the information you want to know about?\\nYou: \")\n",
    "    conversation.append({\"role\": \"user\", \"content\": f\"I want to know about {info_type} in the {year} NBA playoffs.\"})\n",
    "    \n",
    "    # Generate a response\n",
    "    print(\"Bot: Let me gather some information for you...\\n\")\n",
    "\n",
    "    # Get Data from Wikipedia dataset\n",
    "    str_filtered_dataset = get_data_from_nba_playoffs(year)\n",
    "    assistant_prompt = f\"Generate a detailed paragraph to answer the question for the {year} NBA playoffs: {info_type}\\n\"\n",
    "    if str_filtered_dataset == '':\n",
    "        print(f'Found no information about year \"{year}\" in NBA playoffs.')\n",
    "        augmented_prompt = assistant_prompt + ''\n",
    "    else:\n",
    "        augmented_prompt = f'Use the following wikipedia paragraph to answer the question for the {year} NBA playoffs: {info_type}\\n{str_filtered_dataset}'\n",
    "    \n",
    "    conversation.append({\"role\": \"assistant\", \"content\": augmented_prompt})\n",
    "    print(augmented_prompt)\n",
    "    response = chat_with_openai(conversation)\n",
    "    \n",
    "    if response:\n",
    "        # Display the generated paragraph\n",
    "        print(f\"Bot: Here's what I found:\\n{response}\\n\")\n",
    "        \n",
    "        # Confirm with the user\n",
    "        is_correct = input(\"Bot: Is this what you were searching for? (yes/no)\\nYou: \").strip().lower()\n",
    "        \n",
    "        if is_correct == 'yes':\n",
    "            print(\"Bot: I'm glad I could help! Let me know if there's anything else you'd like to know.\")\n",
    "        else:\n",
    "            print(\"Bot: I'm sorry it wasn't what you were looking for. Could you clarify or ask something else?\")\n",
    "            augmented_openai_chatbot()\n",
    "    else:\n",
    "        print(\"Bot: I couldn't retrieve any information. Please try again later.\")\n"
   ]
  },
  {
   "cell_type": "markdown",
   "id": "b15b353e-17ff-44c1-b292-79532ef3ac51",
   "metadata": {},
   "source": [
    "### Question 1 (RAG based Chatbot)"
   ]
  },
  {
   "cell_type": "code",
   "execution_count": 78,
   "id": "efc0c72a-5e60-4c2c-a87a-4c0fdc05962c",
   "metadata": {},
   "outputs": [
    {
     "name": "stdout",
     "output_type": "stream",
     "text": [
      "👋 Welcome to the Augmented NBA Playoffs Chatbot!\n"
     ]
    },
    {
     "name": "stdin",
     "output_type": "stream",
     "text": [
      "Bot: Which NBA playoff year do you want to know about?\n",
      "You:  2020\n",
      "Bot: What's the information you want to know about?\n",
      "You:  What was the starting five for the two teams in the NBA finals, each player basic statistics?\n"
     ]
    },
    {
     "name": "stdout",
     "output_type": "stream",
     "text": [
      "Bot: Let me gather some information for you...\n",
      "\n",
      "Use the following wikipedia paragraph to answer the question for the 2020 NBA playoffs: What was the starting five for the two teams in the NBA finals, each player basic statistics?\n",
      "The 2020 NBA playoffs concluded the 2019-20 NBA season, postposed due to COVID-19 and reconvened in the NBA Bubble with the top 22 teams. Notable events included the Toronto Raptors losing in the semifinals, the absence of the San Antonio Spurs for the first time since 1997, and the return of the Los Angeles Lakers, Dallas Mavericks, and Toronto Raptors to the playoffs. Player records set included LeBron James' unprecedented 20+ points, 15+ rebounds, and 15+ assists in a game, and Donovan Mitchell and Jamal Murray's multiple 50–point games in a single series. The playoffs were temporarily halted due to a wildcat strike following the Jacob Blake incident but resumed with the Los Angeles Lakers winning their 17th NBA championship, tying with the Boston Celtics. The Eastern Conference finals were contested between the Boston Celtics and Miami Heat while the Western Conference saw the Los Angeles Lakers defeat the Denver Nuggets 2-0. The NBA Finals were between the Los Angeles Lakers and Miami Heat.\n",
      "Bot: Here's what I found:\n",
      "The 2020 NBA finals were between the Los Angeles Lakers and the Miami Heat.\n",
      "\n",
      "1. Los Angeles Lakers: The starting five were LeBron James, Anthony Davis, Dwight Howard, Danny Green, and Kentavious Caldwell-Pope.\n",
      "2. Miami Heat: The starting five were Jimmy Butler, Bam Adebayo, Duncan Robinson, Jae Crowder, and Tyler Herro.\n",
      "\n",
      "LeBron James averaged 29.8 points, 11.8 rebounds, and 8.5 assists per game. Anthony Davis averaged 25 points, 10.7 rebounds, and 3.2 assists per game. Dwight Howard averaged 7.5 points and 7.3 rebounds per game. Danny Green averaged 8 points per game. Kentavious Caldwell-Pope averaged 10.7 points per game.\n",
      "\n",
      "Jimmy Butler averaged 26.2 points, 8.3 rebounds, and 9.8 assists per game. Bam Adebayo averaged 17.8 points, 10.3 rebounds, and 4.4 assists per game. Duncan Robinson averaged 11.7 points per game. Jae Crowder averaged 12 points per game. Tyler Herro averaged 16 points per game.\n",
      "\n"
     ]
    },
    {
     "name": "stdin",
     "output_type": "stream",
     "text": [
      "Bot: Is this what you were searching for? (yes/no)\n",
      "You:  yes\n"
     ]
    },
    {
     "name": "stdout",
     "output_type": "stream",
     "text": [
      "Bot: I'm glad I could help! Let me know if there's anything else you'd like to know.\n"
     ]
    }
   ],
   "source": [
    "augmented_openai_chatbot()"
   ]
  },
  {
   "cell_type": "code",
   "execution_count": 79,
   "id": "5ad2f8c7-ad56-4bbf-b603-48aaf67834e8",
   "metadata": {},
   "outputs": [
    {
     "name": "stdout",
     "output_type": "stream",
     "text": [
      "👋 Welcome to the Augmented NBA Playoffs Chatbot!\n"
     ]
    },
    {
     "name": "stdin",
     "output_type": "stream",
     "text": [
      "Bot: Which NBA playoff year do you want to know about?\n",
      "You:  2023\n",
      "Bot: What's the information you want to know about?\n",
      "You:  Which team was the champion?\n"
     ]
    },
    {
     "name": "stdout",
     "output_type": "stream",
     "text": [
      "Bot: Let me gather some information for you...\n",
      "\n",
      "Use the following wikipedia paragraph to answer the question for the 2023 NBA playoffs: Which team was the champion?\n",
      "The 2023 NBA playoffs were a historic season with Denver Nuggets winning their first NBA title and the Miami Heat reaching the finals for the first time since 2020. The Sacramento Kings also ended the longest postseason drought by making it to the postseason for the first time since 2006. For the first time since 2000-01 season, no team won at least 60 games in an 82-game regular season, and top scorers Luka Dončić and Damian Lillard did not reach playoffs, first time since 2004-05 season. Key players included Jimmy Butler, Devin Booker, Kevin Durant, and Ja Morant, with Nikola Jokić leading in points, rebounds, and assists. For the first round playoffs, Miami Heat, Boston Celtics, Philadelphia 76ers, and New York Knicks progressed from the Eastern Conference, while Denver Nuggets secured berths from the Western Conference. In the second matchup, the Memphis Grizzlies and Los Angeles Lakers each had a victory. In the series between Sacramento Kings and Golden State Warriors, the Kings led with a 2-0 series lead. In the NBA finals, Denver Nuggets played against Miami Heat for the first time in playoff history, marking significant wins for both teams.\n",
      "Bot: Here's what I found:\n",
      "The Denver Nuggets were the champions of the 2023 NBA playoffs.\n",
      "\n"
     ]
    },
    {
     "name": "stdin",
     "output_type": "stream",
     "text": [
      "Bot: Is this what you were searching for? (yes/no)\n",
      "You:  yes\n"
     ]
    },
    {
     "name": "stdout",
     "output_type": "stream",
     "text": [
      "Bot: I'm glad I could help! Let me know if there's anything else you'd like to know.\n"
     ]
    }
   ],
   "source": [
    "augmented_openai_chatbot()"
   ]
  },
  {
   "cell_type": "markdown",
   "id": "6ee9fcf2-25c7-4ef0-99c4-f160c824153c",
   "metadata": {},
   "source": [
    "# Final thoughts\n",
    "Using the RAG approach to augment the prompt has improved the performance for the Chatbot, as OpenAI ChatGPT model training datasets were trained with data until 2021.\n",
    "So when asked \"Which team was the champion in 2023?\" the Naive Chatbot was not able to answer, while the RAG based Chatbot found the information in the Wikipedia page, and answered it correctly."
   ]
  },
  {
   "cell_type": "code",
   "execution_count": null,
   "id": "55d9122e-cc1f-4803-bea3-34855ed8c87f",
   "metadata": {},
   "outputs": [],
   "source": []
  }
 ],
 "metadata": {
  "kernelspec": {
   "display_name": "Python 3 (ipykernel)",
   "language": "python",
   "name": "python3"
  },
  "language_info": {
   "codemirror_mode": {
    "name": "ipython",
    "version": 3
   },
   "file_extension": ".py",
   "mimetype": "text/x-python",
   "name": "python",
   "nbconvert_exporter": "python",
   "pygments_lexer": "ipython3",
   "version": "3.10.12"
  }
 },
 "nbformat": 4,
 "nbformat_minor": 5
}
